{
 "cells": [
  {
   "cell_type": "markdown",
   "metadata": {},
   "source": [
    "# Machine Learning Isaac"
   ]
  },
  {
   "cell_type": "code",
   "execution_count": 1,
   "metadata": {
    "tags": []
   },
   "outputs": [],
   "source": [
    "import pandas as pd\n",
    "from pathlib import Path\n",
    "from sklearn.ensemble import RandomForestClassifier\n",
    "from sklearn.preprocessing import LabelEncoder, OneHotEncoder\n",
    "from sklearn.model_selection import train_test_split\n",
    "from fastcore.basics import Path, AttrDict\n",
    "import utils_isaac as utils\n",
    "import numpy as np\n",
    "import pickle\n",
    "from datetime import datetime\n",
    "\n",
    "# This is used to import the evaluation script, not needed for training\n",
    "import sys\n",
    "sys.path.append('../') \n",
    "import evaluation\n"
   ]
  },
  {
   "cell_type": "code",
   "execution_count": 2,
   "metadata": {
    "tags": []
   },
   "outputs": [],
   "source": [
    "config = AttrDict(\n",
    "    challenge_data_dir = Path('../../dataset/'),\n",
    "    valid_ratio = 0.1,\n",
    "    lag_steps = 6,\n",
    "    tolerance= 6, # Default evaluation tolerance\n",
    ")"
   ]
  },
  {
   "cell_type": "code",
   "execution_count": 3,
   "metadata": {
    "tags": []
   },
   "outputs": [],
   "source": [
    "# Define the list of feature columns\n",
    "feature_cols = [\n",
    "    \"Eccentricity\",\n",
    "    \"Semimajor Axis (m)\",\n",
    "    \"Inclination (deg)\",\n",
    "    \"RAAN (deg)\",\n",
    "    \"Argument of Periapsis (deg)\",\n",
    "    \"True Anomaly (deg)\",\n",
    "    \"Latitude (deg)\",\n",
    "    \"Longitude (deg)\",\n",
    "    \"Altitude (m)\",\n",
    "    \"X (m)\",\n",
    "    \"Y (m)\",\n",
    "    \"Z (m)\",\n",
    "    \"Vx (m/s)\",\n",
    "    \"Vy (m/s)\",\n",
    "    \"Vz (m/s)\"\n",
    "]"
   ]
  },
  {
   "cell_type": "code",
   "execution_count": 4,
   "metadata": {
    "tags": []
   },
   "outputs": [],
   "source": [
    "# Define the directory paths\n",
    "train_data_dir = config.challenge_data_dir / \"train\"\n",
    "\n",
    "# Load the ground truth data\n",
    "ground_truth = pd.read_csv(config.challenge_data_dir / 'train_labels.csv')\n",
    "\n",
    "# Apply the function to the ground truth data\n",
    "data, updated_feature_cols = utils.tabularize_data(train_data_dir,\n",
    "                                                   feature_cols, \n",
    "                                                   ground_truth,\n",
    "                                                   lag_steps=config.lag_steps,\n",
    "                                                   fill_na=False)\n",
    "\n",
    "# # For each ObjectID, show the first rows of the columns TimeIndex, ObjectID, EW, and NS\n",
    "# data[['ObjectID', 'TimeIndex' , 'EW', 'NS']].groupby('ObjectID').head(2).head(10)"
   ]
  },
  {
   "cell_type": "code",
   "execution_count": 10,
   "metadata": {
    "tags": []
   },
   "outputs": [],
   "source": [
    "data['EW'] = data['EW'].fillna('Nothing')\n",
    "data['NS'] = data['NS'].fillna('Nothing')"
   ]
  },
  {
   "cell_type": "code",
   "execution_count": 15,
   "metadata": {
    "tags": []
   },
   "outputs": [],
   "source": [
    "data.to_pickle('Data_With_Nothing.pkl')"
   ]
  },
  {
   "cell_type": "code",
   "execution_count": 22,
   "metadata": {
    "tags": []
   },
   "outputs": [],
   "source": [
    "from catboost import CatBoostRegressor, CatBoostClassifier"
   ]
  },
  {
   "cell_type": "code",
   "execution_count": 16,
   "metadata": {
    "tags": []
   },
   "outputs": [],
   "source": [
    "starttime = datetime.fromisoformat(\"2023-01-01 00:00:00+00:00\")\n",
    "endtime = datetime.fromisoformat(\"2023-07-01 00:00:00+00:00\")"
   ]
  },
  {
   "cell_type": "code",
   "execution_count": 17,
   "metadata": {
    "tags": []
   },
   "outputs": [],
   "source": [
    "def data_to_add(data_df,ground_truth_object):\n",
    "    ground_truth_object.Type = ground_truth_object.Type.fillna('NK')\n",
    "    ground_truth_EW = ground_truth_object[ground_truth_object['Direction'] == 'EW'].copy()\n",
    "    ground_truth_NS = ground_truth_object[ground_truth_object['Direction'] == 'NS'].copy()\n",
    "\n",
    "    # Create 'EW' and 'NS' labels and fill 'unknown' values\n",
    "    ground_truth_EW['EW_baseline_heuristic'] = ground_truth_EW['Node'] + \\\n",
    "        '-' + ground_truth_EW['Type']\n",
    "    ground_truth_NS['NS_baseline_heuristic'] = ground_truth_NS['Node'] + \\\n",
    "        '-' + ground_truth_NS['Type']\n",
    "    ground_truth_EW.drop(\n",
    "        ['Node', 'Type', 'Direction'], axis=1, inplace=True)\n",
    "    ground_truth_NS.drop(\n",
    "        ['Node', 'Type', 'Direction'], axis=1, inplace=True)\n",
    "    merged_df = pd.merge(data_df,\n",
    "                             ground_truth_EW.sort_values('TimeIndex'),\n",
    "                             on=['TimeIndex', 'ObjectID'],\n",
    "                         how='left')\n",
    "    merged_df = pd.merge_ordered(merged_df,\n",
    "                                 ground_truth_NS.sort_values(\n",
    "                                     'TimeIndex'),\n",
    "                                 on=['TimeIndex', 'ObjectID'],\n",
    "                                 how='left')\n",
    "\n",
    "    # Fill 'unknown' values in 'EW' and 'NS' columns that come before the first valid observation\n",
    "    merged_df['EW_baseline_heuristic'].ffill(inplace=True)\n",
    "    merged_df['NS_baseline_heuristic'].ffill(inplace=True)\n",
    "    return merged_df"
   ]
  },
  {
   "cell_type": "code",
   "execution_count": 18,
   "metadata": {
    "tags": []
   },
   "outputs": [],
   "source": [
    "def add_baseline_heuristic(data,objectId,starttime,endtime):\n",
    "    detected, ssEW, lon_std = utils.detect_ew_pol_nodes(data.loc[data.ObjectID==objectId][feature_cols],objectId,starttime,endtime)\n",
    "    nodes, filtered = utils.filter_and_merge_nodes(data.loc[data.ObjectID==objectId][feature_cols], detected, ssEW, lon_std,   objectId, starttime, endtime, 12)\n",
    "    nodes = utils.detect_sn_pol_nodes(data, nodes, filtered, objectId, starttime, 12)\n",
    "    merged_df = data_to_add(data.loc[data.ObjectID==objectId],utils.data_post_processing(nodes,starttime))\n",
    "    return merged_df"
   ]
  },
  {
   "cell_type": "code",
   "execution_count": 19,
   "metadata": {
    "tags": []
   },
   "outputs": [],
   "source": [
    "from tqdm import tqdm"
   ]
  },
  {
   "cell_type": "code",
   "execution_count": null,
   "metadata": {
    "scrolled": true,
    "tags": []
   },
   "outputs": [],
   "source": [
    "# all_data = []\n",
    "# for objectId in tqdm(data.ObjectID.unique()):\n",
    "#     try:\n",
    "#         all_data.append(add_baseline_heuristic(data,objectId,starttime,endtime))\n",
    "#     except:\n",
    "#         print(objectId)"
   ]
  },
  {
   "cell_type": "code",
   "execution_count": null,
   "metadata": {
    "tags": []
   },
   "outputs": [],
   "source": [
    "#data = pd.concat(all_data,axis=0)"
   ]
  },
  {
   "cell_type": "code",
   "execution_count": null,
   "metadata": {
    "tags": []
   },
   "outputs": [],
   "source": [
    "data = pd.read_pickle('Test_To_Keep.pkl')\n",
    "data = pd.concat([data,pd.get_dummies(data[['EW_baseline_heuristic']]),pd.get_dummies(data[['NS_baseline_heuristic']])],axis=1)"
   ]
  },
  {
   "cell_type": "code",
   "execution_count": null,
   "metadata": {
    "tags": []
   },
   "outputs": [],
   "source": [
    "updated_feature_cols = list(data.columns[1:])\n",
    "updated_feature_cols.remove('EW')\n",
    "updated_feature_cols.remove('NS')\n",
    "updated_feature_cols.remove('EW_baseline_heuristic')\n",
    "updated_feature_cols.remove('NS_baseline_heuristic')"
   ]
  },
  {
   "cell_type": "code",
   "execution_count": 20,
   "metadata": {
    "tags": []
   },
   "outputs": [
    {
     "name": "stdout",
     "output_type": "stream",
     "text": [
      "Number of objects in the training set: 1710\n",
      "Number of objects in the validation set: 190\n"
     ]
    }
   ],
   "source": [
    "# Create a validation set without mixing the ObjectIDs\n",
    "object_ids = data['ObjectID'].unique()\n",
    "train_ids, valid_ids = train_test_split(object_ids, \n",
    "                                        test_size=config.valid_ratio, \n",
    "                                        random_state=43)\n",
    "\n",
    "train_data = data[data['ObjectID'].isin(train_ids)].copy()\n",
    "valid_data = data[data['ObjectID'].isin(valid_ids)].copy()\n",
    "\n",
    "ground_truth_train = ground_truth[ground_truth['ObjectID'].isin(train_ids)].copy()\n",
    "ground_truth_valid = ground_truth[ground_truth['ObjectID'].isin(valid_ids)].copy()\n",
    "\n",
    "# Count the number of objects in the training and validation sets\n",
    "print('Number of objects in the training set:', len(train_data['ObjectID'].unique()))\n",
    "print('Number of objects in the validation set:', len(valid_data['ObjectID'].unique()))"
   ]
  },
  {
   "cell_type": "markdown",
   "metadata": {},
   "source": [
    "Next we will make sure that there every label, both in the direction EW and NS,\n",
    "is present both in the training and validation partitions"
   ]
  },
  {
   "cell_type": "code",
   "execution_count": 21,
   "metadata": {
    "tags": []
   },
   "outputs": [
    {
     "name": "stdout",
     "output_type": "stream",
     "text": [
      "Missing values of EW in test data: set()\n",
      "Missing values of NS in test data: set()\n",
      "Values of EW not present in NS: {'AD-NK'}\n"
     ]
    }
   ],
   "source": [
    "# Get the unique values of EW and NS in train and test data\n",
    "train_EW = set(train_data['EW'].unique())\n",
    "train_NS = set(train_data['NS'].unique())\n",
    "valid_EW = set(valid_data['EW'].unique())\n",
    "valid_NS = set(valid_data['NS'].unique())\n",
    "\n",
    "# Get the values of EW and NS that are in test data but not in train data\n",
    "missing_EW = valid_EW.difference(train_EW)\n",
    "missing_NS = valid_NS.difference(train_NS)\n",
    "\n",
    "# Check if all the values in EW are also present in NS\n",
    "if not set(train_data['EW'].unique()).issubset(set(train_data['NS'].unique())):\n",
    "    # Get the values of EW that are not present in NS\n",
    "    missing_EW_NS = set(train_data['EW'].unique()).difference(\n",
    "        set(train_data['NS'].unique())\n",
    "    )\n",
    "else:\n",
    "    missing_EW_NS = None\n",
    "\n",
    "# Print the missing values of EW and NS\n",
    "print(\"Missing values of EW in test data:\", missing_EW)\n",
    "print(\"Missing values of NS in test data:\", missing_NS)\n",
    "print(\"Values of EW not present in NS:\", missing_EW_NS)"
   ]
  },
  {
   "cell_type": "code",
   "execution_count": null,
   "metadata": {
    "tags": []
   },
   "outputs": [],
   "source": [
    "import xgboost as xgb"
   ]
  },
  {
   "cell_type": "code",
   "execution_count": 23,
   "metadata": {
    "tags": []
   },
   "outputs": [],
   "source": [
    "# Convert categorical data to numerical data\n",
    "le_EW = LabelEncoder()\n",
    "le_NS = LabelEncoder()\n",
    "\n",
    "# Encode the 'EW' and 'NS' columns\n",
    "train_data['EW_encoded'] = le_EW.fit_transform(train_data['EW'])\n",
    "train_data['NS_encoded'] = le_NS.fit_transform(train_data['NS'])"
   ]
  },
  {
   "cell_type": "code",
   "execution_count": null,
   "metadata": {
    "tags": []
   },
   "outputs": [],
   "source": [
    "# train_data['EW_baseline_heuristic_encoded'] = le_EW.transform(train_data['EW_baseline_heuristic'])\n",
    "# train_data['NS_baseline_heuristic_encoded'] = le_NS.transform(train_data['NS_baseline_heuristic'])"
   ]
  },
  {
   "cell_type": "code",
   "execution_count": null,
   "metadata": {
    "tags": []
   },
   "outputs": [],
   "source": [
    "# valid_data['EW_baseline_heuristic_encoded'] = le_EW.transform(valid_data['EW_baseline_heuristic'])\n",
    "# valid_data['NS_baseline_heuristic_encoded'] = le_NS.transform(valid_data['NS_baseline_heuristic'])"
   ]
  },
  {
   "cell_type": "code",
   "execution_count": 24,
   "metadata": {
    "scrolled": true,
    "tags": []
   },
   "outputs": [
    {
     "name": "stdout",
     "output_type": "stream",
     "text": [
      "Learning rate set to 0.5\n",
      "0:\tlearn: 0.0651712\ttotal: 20.1s\tremaining: 33m 12s\n",
      "1:\tlearn: 0.0410099\ttotal: 34.9s\tremaining: 28m 31s\n",
      "2:\tlearn: 0.0356466\ttotal: 47.8s\tremaining: 25m 44s\n",
      "3:\tlearn: 0.0294492\ttotal: 1m\tremaining: 24m 11s\n",
      "4:\tlearn: 0.0228738\ttotal: 1m 13s\tremaining: 23m 11s\n",
      "5:\tlearn: 0.0193620\ttotal: 1m 25s\tremaining: 22m 27s\n",
      "6:\tlearn: 0.0167208\ttotal: 1m 38s\tremaining: 21m 47s\n",
      "7:\tlearn: 0.0153653\ttotal: 1m 51s\tremaining: 21m 18s\n",
      "8:\tlearn: 0.0218055\ttotal: 2m 4s\tremaining: 20m 54s\n",
      "9:\tlearn: 0.0190697\ttotal: 2m 17s\tremaining: 20m 39s\n",
      "10:\tlearn: 0.0160253\ttotal: 2m 30s\tremaining: 20m 17s\n",
      "11:\tlearn: 0.0106443\ttotal: 2m 43s\tremaining: 19m 56s\n",
      "12:\tlearn: 0.0096778\ttotal: 2m 55s\tremaining: 19m 36s\n",
      "13:\tlearn: 0.0107099\ttotal: 3m 8s\tremaining: 19m 17s\n",
      "14:\tlearn: 0.0089927\ttotal: 3m 21s\tremaining: 19m\n",
      "15:\tlearn: 0.0094434\ttotal: 3m 34s\tremaining: 18m 44s\n",
      "16:\tlearn: 0.0085799\ttotal: 3m 47s\tremaining: 18m 29s\n",
      "17:\tlearn: 0.0109381\ttotal: 4m\tremaining: 18m 17s\n",
      "18:\tlearn: 0.0114403\ttotal: 4m 14s\tremaining: 18m 6s\n",
      "19:\tlearn: 0.0108021\ttotal: 4m 27s\tremaining: 17m 50s\n",
      "20:\tlearn: 0.0102723\ttotal: 4m 40s\tremaining: 17m 35s\n",
      "21:\tlearn: 0.0147646\ttotal: 4m 53s\tremaining: 17m 19s\n",
      "22:\tlearn: 0.0081008\ttotal: 5m 6s\tremaining: 17m 4s\n",
      "23:\tlearn: 0.0079853\ttotal: 5m 18s\tremaining: 16m 50s\n",
      "24:\tlearn: 0.0075839\ttotal: 5m 31s\tremaining: 16m 35s\n",
      "25:\tlearn: 0.0084963\ttotal: 5m 44s\tremaining: 16m 20s\n",
      "26:\tlearn: 0.0077424\ttotal: 5m 57s\tremaining: 16m 6s\n",
      "27:\tlearn: 0.0084988\ttotal: 6m 10s\tremaining: 15m 53s\n",
      "28:\tlearn: 0.0078240\ttotal: 6m 23s\tremaining: 15m 38s\n",
      "29:\tlearn: 0.0072502\ttotal: 6m 35s\tremaining: 15m 23s\n",
      "30:\tlearn: 0.0073792\ttotal: 6m 48s\tremaining: 15m 9s\n",
      "31:\tlearn: 0.0070164\ttotal: 7m 1s\tremaining: 14m 54s\n",
      "32:\tlearn: 0.0067815\ttotal: 7m 13s\tremaining: 14m 40s\n",
      "33:\tlearn: 0.0064999\ttotal: 7m 26s\tremaining: 14m 26s\n",
      "34:\tlearn: 0.0065185\ttotal: 7m 38s\tremaining: 14m 11s\n",
      "35:\tlearn: 0.0064031\ttotal: 7m 51s\tremaining: 13m 57s\n",
      "36:\tlearn: 0.0063502\ttotal: 8m 3s\tremaining: 13m 44s\n",
      "37:\tlearn: 0.0057845\ttotal: 8m 17s\tremaining: 13m 31s\n",
      "38:\tlearn: 0.0057489\ttotal: 8m 29s\tremaining: 13m 17s\n",
      "39:\tlearn: 0.0056229\ttotal: 8m 42s\tremaining: 13m 3s\n",
      "40:\tlearn: 0.0055888\ttotal: 8m 54s\tremaining: 12m 49s\n",
      "41:\tlearn: 0.0055231\ttotal: 9m 7s\tremaining: 12m 35s\n",
      "42:\tlearn: 0.0054990\ttotal: 9m 19s\tremaining: 12m 22s\n",
      "43:\tlearn: 0.0053218\ttotal: 9m 32s\tremaining: 12m 8s\n",
      "44:\tlearn: 0.0052555\ttotal: 9m 44s\tremaining: 11m 54s\n",
      "45:\tlearn: 0.0051848\ttotal: 9m 57s\tremaining: 11m 41s\n",
      "46:\tlearn: 0.0051243\ttotal: 10m 10s\tremaining: 11m 28s\n",
      "47:\tlearn: 0.0050871\ttotal: 10m 23s\tremaining: 11m 15s\n",
      "48:\tlearn: 0.0050553\ttotal: 10m 35s\tremaining: 11m 1s\n",
      "49:\tlearn: 0.0050371\ttotal: 10m 48s\tremaining: 10m 48s\n",
      "50:\tlearn: 0.0050055\ttotal: 11m\tremaining: 10m 34s\n",
      "51:\tlearn: 0.0049828\ttotal: 11m 13s\tremaining: 10m 21s\n",
      "52:\tlearn: 0.0049676\ttotal: 11m 25s\tremaining: 10m 8s\n",
      "53:\tlearn: 0.0049538\ttotal: 11m 38s\tremaining: 9m 54s\n",
      "54:\tlearn: 0.0049349\ttotal: 11m 50s\tremaining: 9m 41s\n",
      "55:\tlearn: 0.0048769\ttotal: 12m 3s\tremaining: 9m 28s\n",
      "56:\tlearn: 0.0048454\ttotal: 12m 16s\tremaining: 9m 15s\n",
      "57:\tlearn: 0.0048337\ttotal: 12m 29s\tremaining: 9m 2s\n",
      "58:\tlearn: 0.0048234\ttotal: 12m 41s\tremaining: 8m 49s\n",
      "59:\tlearn: 0.0048057\ttotal: 12m 53s\tremaining: 8m 35s\n",
      "60:\tlearn: 0.0047901\ttotal: 13m 6s\tremaining: 8m 22s\n",
      "61:\tlearn: 0.0047765\ttotal: 13m 19s\tremaining: 8m 9s\n",
      "62:\tlearn: 0.0047656\ttotal: 13m 31s\tremaining: 7m 56s\n",
      "63:\tlearn: 0.0047340\ttotal: 13m 44s\tremaining: 7m 43s\n",
      "64:\tlearn: 0.0047312\ttotal: 13m 56s\tremaining: 7m 30s\n",
      "65:\tlearn: 0.0047203\ttotal: 14m 9s\tremaining: 7m 17s\n",
      "66:\tlearn: 0.0047101\ttotal: 14m 23s\tremaining: 7m 5s\n",
      "67:\tlearn: 0.0046937\ttotal: 14m 35s\tremaining: 6m 52s\n",
      "68:\tlearn: 0.0046783\ttotal: 14m 48s\tremaining: 6m 39s\n",
      "69:\tlearn: 0.0046691\ttotal: 15m\tremaining: 6m 26s\n",
      "70:\tlearn: 0.0046519\ttotal: 15m 13s\tremaining: 6m 13s\n",
      "71:\tlearn: 0.0046391\ttotal: 15m 25s\tremaining: 6m\n",
      "72:\tlearn: 0.0046176\ttotal: 15m 38s\tremaining: 5m 47s\n",
      "73:\tlearn: 0.0045985\ttotal: 15m 51s\tremaining: 5m 34s\n",
      "74:\tlearn: 0.0045843\ttotal: 16m 4s\tremaining: 5m 21s\n",
      "75:\tlearn: 0.0045744\ttotal: 16m 17s\tremaining: 5m 8s\n",
      "76:\tlearn: 0.0045585\ttotal: 16m 29s\tremaining: 4m 55s\n",
      "77:\tlearn: 0.0045325\ttotal: 16m 42s\tremaining: 4m 42s\n",
      "78:\tlearn: 0.0045146\ttotal: 16m 54s\tremaining: 4m 29s\n",
      "79:\tlearn: 0.0044872\ttotal: 17m 7s\tremaining: 4m 16s\n",
      "80:\tlearn: 0.0044773\ttotal: 17m 19s\tremaining: 4m 3s\n",
      "81:\tlearn: 0.0044641\ttotal: 17m 32s\tremaining: 3m 50s\n",
      "82:\tlearn: 0.0044598\ttotal: 17m 44s\tremaining: 3m 38s\n",
      "83:\tlearn: 0.0044523\ttotal: 17m 56s\tremaining: 3m 25s\n",
      "84:\tlearn: 0.0044394\ttotal: 18m 9s\tremaining: 3m 12s\n",
      "85:\tlearn: 0.0044200\ttotal: 18m 22s\tremaining: 2m 59s\n",
      "86:\tlearn: 0.0044131\ttotal: 18m 35s\tremaining: 2m 46s\n",
      "87:\tlearn: 0.0043859\ttotal: 18m 47s\tremaining: 2m 33s\n",
      "88:\tlearn: 0.0043656\ttotal: 19m\tremaining: 2m 20s\n",
      "89:\tlearn: 0.0043597\ttotal: 19m 12s\tremaining: 2m 8s\n",
      "90:\tlearn: 0.0043410\ttotal: 19m 25s\tremaining: 1m 55s\n",
      "91:\tlearn: 0.0043360\ttotal: 19m 37s\tremaining: 1m 42s\n",
      "92:\tlearn: 0.0043233\ttotal: 19m 50s\tremaining: 1m 29s\n",
      "93:\tlearn: 0.0043097\ttotal: 20m 2s\tremaining: 1m 16s\n",
      "94:\tlearn: 0.0043043\ttotal: 20m 16s\tremaining: 1m 4s\n",
      "95:\tlearn: 0.0042903\ttotal: 20m 28s\tremaining: 51.2s\n",
      "96:\tlearn: 0.0042762\ttotal: 20m 41s\tremaining: 38.4s\n",
      "97:\tlearn: 0.0042634\ttotal: 20m 53s\tremaining: 25.6s\n",
      "98:\tlearn: 0.0042485\ttotal: 21m 6s\tremaining: 12.8s\n",
      "99:\tlearn: 0.0042261\ttotal: 21m 19s\tremaining: 0us\n",
      "Learning rate set to 0.5\n",
      "0:\tlearn: 0.0897972\ttotal: 5.61s\tremaining: 9m 14s\n",
      "1:\tlearn: 0.0544159\ttotal: 13.7s\tremaining: 11m 11s\n",
      "2:\tlearn: 0.0358504\ttotal: 19.5s\tremaining: 10m 30s\n",
      "3:\tlearn: 0.0247020\ttotal: 25.2s\tremaining: 10m 4s\n",
      "4:\tlearn: 0.0169116\ttotal: 31.5s\tremaining: 9m 58s\n",
      "5:\tlearn: 0.0121783\ttotal: 35.9s\tremaining: 9m 22s\n",
      "6:\tlearn: 0.0106163\ttotal: 40.8s\tremaining: 9m 2s\n",
      "7:\tlearn: 0.0085666\ttotal: 47.3s\tremaining: 9m 4s\n",
      "8:\tlearn: 0.0070773\ttotal: 52.4s\tremaining: 8m 50s\n",
      "9:\tlearn: 0.0062844\ttotal: 56.7s\tremaining: 8m 29s\n",
      "10:\tlearn: 0.0061035\ttotal: 1m\tremaining: 8m 6s\n",
      "11:\tlearn: 0.0055007\ttotal: 1m 4s\tremaining: 7m 53s\n",
      "12:\tlearn: 0.0049928\ttotal: 1m 8s\tremaining: 7m 40s\n",
      "13:\tlearn: 0.0050194\ttotal: 1m 13s\tremaining: 7m 32s\n",
      "14:\tlearn: 0.0051423\ttotal: 1m 17s\tremaining: 7m 21s\n",
      "15:\tlearn: 0.0047280\ttotal: 1m 22s\tremaining: 7m 10s\n",
      "16:\tlearn: 0.0046764\ttotal: 1m 26s\tremaining: 7m\n",
      "17:\tlearn: 0.0047941\ttotal: 1m 30s\tremaining: 6m 50s\n",
      "18:\tlearn: 0.0046286\ttotal: 1m 34s\tremaining: 6m 41s\n",
      "19:\tlearn: 0.0044840\ttotal: 1m 38s\tremaining: 6m 34s\n",
      "20:\tlearn: 0.0043973\ttotal: 1m 43s\tremaining: 6m 27s\n",
      "21:\tlearn: 0.0046525\ttotal: 1m 47s\tremaining: 6m 20s\n",
      "22:\tlearn: 0.0048078\ttotal: 1m 51s\tremaining: 6m 14s\n",
      "23:\tlearn: 0.0044478\ttotal: 1m 55s\tremaining: 6m 6s\n",
      "24:\tlearn: 0.0044285\ttotal: 2m\tremaining: 6m\n",
      "25:\tlearn: 0.0045634\ttotal: 2m 4s\tremaining: 5m 54s\n",
      "26:\tlearn: 0.0042202\ttotal: 2m 8s\tremaining: 5m 46s\n",
      "27:\tlearn: 0.0041680\ttotal: 2m 11s\tremaining: 5m 38s\n",
      "28:\tlearn: 0.0041076\ttotal: 2m 15s\tremaining: 5m 32s\n",
      "29:\tlearn: 0.0040877\ttotal: 2m 19s\tremaining: 5m 26s\n",
      "30:\tlearn: 0.0040760\ttotal: 2m 24s\tremaining: 5m 20s\n",
      "31:\tlearn: 0.0040561\ttotal: 2m 27s\tremaining: 5m 14s\n",
      "32:\tlearn: 0.0040370\ttotal: 2m 32s\tremaining: 5m 8s\n",
      "33:\tlearn: 0.0040234\ttotal: 2m 35s\tremaining: 5m 2s\n",
      "34:\tlearn: 0.0039818\ttotal: 2m 39s\tremaining: 4m 56s\n",
      "35:\tlearn: 0.0039512\ttotal: 2m 43s\tremaining: 4m 51s\n",
      "36:\tlearn: 0.0039344\ttotal: 2m 46s\tremaining: 4m 43s\n",
      "37:\tlearn: 0.0039228\ttotal: 2m 49s\tremaining: 4m 36s\n",
      "38:\tlearn: 0.0039043\ttotal: 2m 53s\tremaining: 4m 31s\n",
      "39:\tlearn: 0.0038903\ttotal: 2m 58s\tremaining: 4m 27s\n",
      "40:\tlearn: 0.0038643\ttotal: 3m 3s\tremaining: 4m 23s\n",
      "41:\tlearn: 0.0038576\ttotal: 3m 6s\tremaining: 4m 17s\n",
      "42:\tlearn: 0.0038515\ttotal: 3m 10s\tremaining: 4m 12s\n",
      "43:\tlearn: 0.0038429\ttotal: 3m 13s\tremaining: 4m 5s\n",
      "44:\tlearn: 0.0038292\ttotal: 3m 17s\tremaining: 4m 1s\n",
      "45:\tlearn: 0.0038164\ttotal: 3m 21s\tremaining: 3m 56s\n",
      "46:\tlearn: 0.0038037\ttotal: 3m 25s\tremaining: 3m 51s\n",
      "47:\tlearn: 0.0037963\ttotal: 3m 28s\tremaining: 3m 46s\n",
      "48:\tlearn: 0.0037801\ttotal: 3m 33s\tremaining: 3m 42s\n",
      "49:\tlearn: 0.0037677\ttotal: 3m 37s\tremaining: 3m 37s\n",
      "50:\tlearn: 0.0037411\ttotal: 3m 40s\tremaining: 3m 32s\n",
      "51:\tlearn: 0.0037340\ttotal: 3m 44s\tremaining: 3m 27s\n",
      "52:\tlearn: 0.0037269\ttotal: 3m 48s\tremaining: 3m 22s\n",
      "53:\tlearn: 0.0037133\ttotal: 3m 52s\tremaining: 3m 17s\n",
      "54:\tlearn: 0.0037070\ttotal: 3m 55s\tremaining: 3m 13s\n",
      "55:\tlearn: 0.0037013\ttotal: 3m 59s\tremaining: 3m 8s\n",
      "56:\tlearn: 0.0036928\ttotal: 4m 3s\tremaining: 3m 3s\n",
      "57:\tlearn: 0.0036872\ttotal: 4m 6s\tremaining: 2m 58s\n",
      "58:\tlearn: 0.0036762\ttotal: 4m 9s\tremaining: 2m 53s\n",
      "59:\tlearn: 0.0036678\ttotal: 4m 12s\tremaining: 2m 48s\n",
      "60:\tlearn: 0.0036585\ttotal: 4m 16s\tremaining: 2m 43s\n",
      "61:\tlearn: 0.0036451\ttotal: 4m 20s\tremaining: 2m 39s\n",
      "62:\tlearn: 0.0036270\ttotal: 4m 24s\tremaining: 2m 35s\n",
      "63:\tlearn: 0.0036173\ttotal: 4m 28s\tremaining: 2m 30s\n",
      "64:\tlearn: 0.0036077\ttotal: 4m 31s\tremaining: 2m 26s\n",
      "65:\tlearn: 0.0036010\ttotal: 4m 35s\tremaining: 2m 21s\n",
      "66:\tlearn: 0.0035966\ttotal: 4m 38s\tremaining: 2m 17s\n",
      "67:\tlearn: 0.0035873\ttotal: 4m 42s\tremaining: 2m 12s\n",
      "68:\tlearn: 0.0035668\ttotal: 4m 46s\tremaining: 2m 8s\n",
      "69:\tlearn: 0.0035608\ttotal: 4m 51s\tremaining: 2m 4s\n",
      "70:\tlearn: 0.0035388\ttotal: 4m 55s\tremaining: 2m\n",
      "71:\tlearn: 0.0035329\ttotal: 4m 59s\tremaining: 1m 56s\n",
      "72:\tlearn: 0.0035115\ttotal: 5m 5s\tremaining: 1m 52s\n",
      "73:\tlearn: 0.0035071\ttotal: 5m 9s\tremaining: 1m 48s\n",
      "74:\tlearn: 0.0034994\ttotal: 5m 12s\tremaining: 1m 44s\n",
      "75:\tlearn: 0.0034940\ttotal: 5m 15s\tremaining: 1m 39s\n",
      "76:\tlearn: 0.0034865\ttotal: 5m 19s\tremaining: 1m 35s\n",
      "77:\tlearn: 0.0034834\ttotal: 5m 24s\tremaining: 1m 31s\n",
      "78:\tlearn: 0.0034732\ttotal: 5m 28s\tremaining: 1m 27s\n",
      "79:\tlearn: 0.0034639\ttotal: 5m 31s\tremaining: 1m 22s\n",
      "80:\tlearn: 0.0034518\ttotal: 5m 36s\tremaining: 1m 18s\n",
      "81:\tlearn: 0.0034408\ttotal: 5m 39s\tremaining: 1m 14s\n",
      "82:\tlearn: 0.0034331\ttotal: 5m 45s\tremaining: 1m 10s\n",
      "83:\tlearn: 0.0034286\ttotal: 5m 49s\tremaining: 1m 6s\n",
      "84:\tlearn: 0.0034235\ttotal: 5m 53s\tremaining: 1m 2s\n",
      "85:\tlearn: 0.0034158\ttotal: 5m 56s\tremaining: 58.1s\n",
      "86:\tlearn: 0.0034100\ttotal: 6m\tremaining: 53.8s\n",
      "87:\tlearn: 0.0034001\ttotal: 6m 5s\tremaining: 49.8s\n",
      "88:\tlearn: 0.0033942\ttotal: 6m 9s\tremaining: 45.7s\n",
      "89:\tlearn: 0.0033891\ttotal: 6m 14s\tremaining: 41.6s\n",
      "90:\tlearn: 0.0033734\ttotal: 6m 18s\tremaining: 37.4s\n",
      "91:\tlearn: 0.0033566\ttotal: 6m 22s\tremaining: 33.3s\n",
      "92:\tlearn: 0.0033482\ttotal: 6m 26s\tremaining: 29.1s\n",
      "93:\tlearn: 0.0033404\ttotal: 6m 30s\tremaining: 24.9s\n",
      "94:\tlearn: 0.0033238\ttotal: 6m 35s\tremaining: 20.8s\n",
      "95:\tlearn: 0.0033173\ttotal: 6m 38s\tremaining: 16.6s\n",
      "96:\tlearn: 0.0033111\ttotal: 6m 42s\tremaining: 12.5s\n",
      "97:\tlearn: 0.0033089\ttotal: 6m 46s\tremaining: 8.3s\n",
      "98:\tlearn: 0.0033015\ttotal: 6m 50s\tremaining: 4.14s\n",
      "99:\tlearn: 0.0032943\ttotal: 6m 54s\tremaining: 0us\n"
     ]
    },
    {
     "data": {
      "text/plain": [
       "<catboost.core.CatBoostClassifier at 0x212240d8e80>"
      ]
     },
     "execution_count": 24,
     "metadata": {},
     "output_type": "execute_result"
    }
   ],
   "source": [
    "# Define the Random Forest model for EW\n",
    "model_EW = CatBoostClassifier(n_estimators=100, random_state=42)\n",
    "# Fit the model to the training data for EW\n",
    "model_EW.fit(train_data[updated_feature_cols], train_data['EW_encoded'])\n",
    "\n",
    "# Define the Random Forest model for NS\n",
    "model_NS = CatBoostClassifier(n_estimators=100, random_state=42)\n",
    "# Fit the model to the training data for NS\n",
    "model_NS.fit(train_data[updated_feature_cols], train_data['NS_encoded'])"
   ]
  },
  {
   "cell_type": "code",
   "execution_count": 25,
   "metadata": {
    "tags": []
   },
   "outputs": [
    {
     "name": "stderr",
     "output_type": "stream",
     "text": [
      "C:\\Appli\\main_env\\lib\\site-packages\\sklearn\\preprocessing\\_label.py:153: DataConversionWarning: A column-vector y was passed when a 1d array was expected. Please change the shape of y to (n_samples, ), for example using ravel().\n",
      "  y = column_or_1d(y, warn=True)\n",
      "C:\\Appli\\main_env\\lib\\site-packages\\sklearn\\preprocessing\\_label.py:153: DataConversionWarning: A column-vector y was passed when a 1d array was expected. Please change the shape of y to (n_samples, ), for example using ravel().\n",
      "  y = column_or_1d(y, warn=True)\n"
     ]
    },
    {
     "data": {
      "text/html": [
       "<div>\n",
       "<style scoped>\n",
       "    .dataframe tbody tr th:only-of-type {\n",
       "        vertical-align: middle;\n",
       "    }\n",
       "\n",
       "    .dataframe tbody tr th {\n",
       "        vertical-align: top;\n",
       "    }\n",
       "\n",
       "    .dataframe thead th {\n",
       "        text-align: right;\n",
       "    }\n",
       "</style>\n",
       "<table border=\"1\" class=\"dataframe\">\n",
       "  <thead>\n",
       "    <tr style=\"text-align: right;\">\n",
       "      <th></th>\n",
       "      <th>TimeIndex</th>\n",
       "      <th>ObjectID</th>\n",
       "      <th>EW</th>\n",
       "      <th>Predicted_EW</th>\n",
       "      <th>NS</th>\n",
       "      <th>Predicted_NS</th>\n",
       "    </tr>\n",
       "  </thead>\n",
       "  <tbody>\n",
       "    <tr>\n",
       "      <th>0</th>\n",
       "      <td>0</td>\n",
       "      <td>1</td>\n",
       "      <td>SS-HK</td>\n",
       "      <td>SS-EK</td>\n",
       "      <td>SS-HK</td>\n",
       "      <td>SS-HK</td>\n",
       "    </tr>\n",
       "    <tr>\n",
       "      <th>1</th>\n",
       "      <td>1</td>\n",
       "      <td>1</td>\n",
       "      <td>Nothing</td>\n",
       "      <td>Nothing</td>\n",
       "      <td>Nothing</td>\n",
       "      <td>Nothing</td>\n",
       "    </tr>\n",
       "    <tr>\n",
       "      <th>2</th>\n",
       "      <td>2</td>\n",
       "      <td>1</td>\n",
       "      <td>Nothing</td>\n",
       "      <td>Nothing</td>\n",
       "      <td>Nothing</td>\n",
       "      <td>Nothing</td>\n",
       "    </tr>\n",
       "    <tr>\n",
       "      <th>0</th>\n",
       "      <td>0</td>\n",
       "      <td>10</td>\n",
       "      <td>SS-CK</td>\n",
       "      <td>SS-CK</td>\n",
       "      <td>SS-NK</td>\n",
       "      <td>SS-NK</td>\n",
       "    </tr>\n",
       "    <tr>\n",
       "      <th>1</th>\n",
       "      <td>1</td>\n",
       "      <td>10</td>\n",
       "      <td>Nothing</td>\n",
       "      <td>Nothing</td>\n",
       "      <td>Nothing</td>\n",
       "      <td>Nothing</td>\n",
       "    </tr>\n",
       "    <tr>\n",
       "      <th>...</th>\n",
       "      <td>...</td>\n",
       "      <td>...</td>\n",
       "      <td>...</td>\n",
       "      <td>...</td>\n",
       "      <td>...</td>\n",
       "      <td>...</td>\n",
       "    </tr>\n",
       "    <tr>\n",
       "      <th>1</th>\n",
       "      <td>1</td>\n",
       "      <td>997</td>\n",
       "      <td>Nothing</td>\n",
       "      <td>Nothing</td>\n",
       "      <td>Nothing</td>\n",
       "      <td>Nothing</td>\n",
       "    </tr>\n",
       "    <tr>\n",
       "      <th>2</th>\n",
       "      <td>2</td>\n",
       "      <td>997</td>\n",
       "      <td>Nothing</td>\n",
       "      <td>Nothing</td>\n",
       "      <td>Nothing</td>\n",
       "      <td>Nothing</td>\n",
       "    </tr>\n",
       "    <tr>\n",
       "      <th>0</th>\n",
       "      <td>0</td>\n",
       "      <td>998</td>\n",
       "      <td>SS-NK</td>\n",
       "      <td>SS-NK</td>\n",
       "      <td>SS-NK</td>\n",
       "      <td>SS-NK</td>\n",
       "    </tr>\n",
       "    <tr>\n",
       "      <th>1</th>\n",
       "      <td>1</td>\n",
       "      <td>998</td>\n",
       "      <td>Nothing</td>\n",
       "      <td>Nothing</td>\n",
       "      <td>Nothing</td>\n",
       "      <td>Nothing</td>\n",
       "    </tr>\n",
       "    <tr>\n",
       "      <th>2</th>\n",
       "      <td>2</td>\n",
       "      <td>998</td>\n",
       "      <td>Nothing</td>\n",
       "      <td>Nothing</td>\n",
       "      <td>Nothing</td>\n",
       "      <td>Nothing</td>\n",
       "    </tr>\n",
       "  </tbody>\n",
       "</table>\n",
       "<p>5130 rows × 6 columns</p>\n",
       "</div>"
      ],
      "text/plain": [
       "    TimeIndex  ObjectID       EW Predicted_EW       NS Predicted_NS\n",
       "0           0         1    SS-HK        SS-EK    SS-HK        SS-HK\n",
       "1           1         1  Nothing      Nothing  Nothing      Nothing\n",
       "2           2         1  Nothing      Nothing  Nothing      Nothing\n",
       "0           0        10    SS-CK        SS-CK    SS-NK        SS-NK\n",
       "1           1        10  Nothing      Nothing  Nothing      Nothing\n",
       "..        ...       ...      ...          ...      ...          ...\n",
       "1           1       997  Nothing      Nothing  Nothing      Nothing\n",
       "2           2       997  Nothing      Nothing  Nothing      Nothing\n",
       "0           0       998    SS-NK        SS-NK    SS-NK        SS-NK\n",
       "1           1       998  Nothing      Nothing  Nothing      Nothing\n",
       "2           2       998  Nothing      Nothing  Nothing      Nothing\n",
       "\n",
       "[5130 rows x 6 columns]"
      ]
     },
     "execution_count": 25,
     "metadata": {},
     "output_type": "execute_result"
    }
   ],
   "source": [
    "# Make predictions on the training data for EW\n",
    "train_data['Predicted_EW'] = le_EW.inverse_transform(\n",
    "    model_EW.predict(train_data[updated_feature_cols])\n",
    ")\n",
    "\n",
    "# Make predictions on the validation data for NS\n",
    "train_data['Predicted_NS'] = le_NS.inverse_transform(\n",
    "    model_NS.predict(train_data[updated_feature_cols])\n",
    ")\n",
    "\n",
    "# Print the first few rows of the test data with predictions for both EW and NS\n",
    "train_data[['TimeIndex', 'ObjectID', 'EW', \n",
    "            'Predicted_EW', 'NS', 'Predicted_NS']].groupby('ObjectID').head(3)"
   ]
  },
  {
   "cell_type": "code",
   "execution_count": 26,
   "metadata": {
    "tags": []
   },
   "outputs": [
    {
     "name": "stderr",
     "output_type": "stream",
     "text": [
      "C:\\Appli\\main_env\\lib\\site-packages\\sklearn\\preprocessing\\_label.py:153: DataConversionWarning: A column-vector y was passed when a 1d array was expected. Please change the shape of y to (n_samples, ), for example using ravel().\n",
      "  y = column_or_1d(y, warn=True)\n",
      "C:\\Appli\\main_env\\lib\\site-packages\\sklearn\\preprocessing\\_label.py:153: DataConversionWarning: A column-vector y was passed when a 1d array was expected. Please change the shape of y to (n_samples, ), for example using ravel().\n",
      "  y = column_or_1d(y, warn=True)\n"
     ]
    }
   ],
   "source": [
    "if config.valid_ratio > 0:\n",
    "    # Make predictions on the validation data for EW\n",
    "    valid_data['Predicted_EW'] = le_EW.inverse_transform(\n",
    "        model_EW.predict(valid_data[updated_feature_cols])\n",
    "    )\n",
    "\n",
    "    # Make predictions on the validation data for NS\n",
    "    valid_data['Predicted_NS'] = le_NS.inverse_transform(\n",
    "        model_NS.predict(valid_data[updated_feature_cols])\n",
    "    )"
   ]
  },
  {
   "cell_type": "markdown",
   "metadata": {},
   "source": [
    "The `NodeDetectionEvaluator` class in the evaluation module allows not only to\n",
    "compute the general score for a given dataset, but get evaluations per object, and\n",
    "even plots that show how the predictions look like in a timeline"
   ]
  },
  {
   "cell_type": "code",
   "execution_count": 33,
   "metadata": {
    "tags": []
   },
   "outputs": [],
   "source": [
    "train_data['Predicted_EW'] = train_data['Predicted_EW'].mask(train_data['Predicted_EW']=='Nothing').ffill()\n",
    "train_data['Predicted_NS'] = train_data['Predicted_NS'].mask(train_data['Predicted_NS']=='Nothing').ffill()"
   ]
  },
  {
   "cell_type": "code",
   "execution_count": 34,
   "metadata": {
    "tags": []
   },
   "outputs": [
    {
     "name": "stderr",
     "output_type": "stream",
     "text": [
      "C:\\Users\\isaac\\Documents\\Challenge_Francois\\splid-devkit\\baseline_submissions\\isaac_ml\\utils_isaac.py:103: FutureWarning: Not prepending group keys to the result index of transform-like apply. In the future, the group keys will be included in the index, regardless of whether the applied function returns a like-indexed object.\n",
      "To preserve the previous behavior, use\n",
      "\n",
      "\t>>> .groupby(..., group_keys=False)\n",
      "\n",
      "To adopt the future behavior and silence this warning, use \n",
      "\n",
      "\t>>> .groupby(..., group_keys=True)\n",
      "  keep = groups[['Node', 'Type']].apply(\n"
     ]
    },
    {
     "name": "stdout",
     "output_type": "stream",
     "text": [
      "Precision for the train set: 0.76\n",
      "Recall for the train set: 0.51\n",
      "F2 for the train set: 0.55\n",
      "RMSE for the train set: 0.24\n"
     ]
    }
   ],
   "source": [
    "train_results = utils.convert_classifier_output(train_data)\n",
    "evaluator = evaluation.NodeDetectionEvaluator(ground_truth_train, train_results, \n",
    "                                              tolerance=config.tolerance)\n",
    "precision, recall, f2, rmse = evaluator.score()\n",
    "print(f'Precision for the train set: {precision:.2f}')\n",
    "print(f'Recall for the train set: {recall:.2f}')\n",
    "print(f'F2 for the train set: {f2:.2f}')\n",
    "print(f'RMSE for the train set: {rmse:.2f}')"
   ]
  },
  {
   "cell_type": "code",
   "execution_count": 35,
   "metadata": {
    "tags": []
   },
   "outputs": [
    {
     "data": {
      "image/png": "[encoded data removed]",
      "text/plain": [
       "<Figure size 1000x600 with 2 Axes>"
      ]
     },
     "metadata": {},
     "output_type": "display_data"
    }
   ],
   "source": [
    "# Plot the evaluation timeline for a random ObjectID from the training set\n",
    "evaluator.plot(np.random.choice(train_data['ObjectID'].unique()))"
   ]
  },
  {
   "cell_type": "code",
   "execution_count": 36,
   "metadata": {
    "tags": []
   },
   "outputs": [
    {
     "name": "stdout",
     "output_type": "stream",
     "text": [
      "Total true positives: 3676\n",
      "Total false positives: 1131\n",
      "Total false negatives: 3464\n"
     ]
    }
   ],
   "source": [
    "# Loop over the Object IDs in the training set and call the evaluation\n",
    "# function for each object and aggregate the results\n",
    "total_tp = 0\n",
    "total_fp = 0\n",
    "total_fn = 0\n",
    "for oid in train_data['ObjectID'].unique():\n",
    "    tp, fp, fn, gt_object, p_object = evaluator.evaluate(oid)\n",
    "    total_tp += tp\n",
    "    total_fp += fp\n",
    "    total_fn += fn\n",
    "\n",
    "print(f'Total true positives: {total_tp}')\n",
    "print(f'Total false positives: {total_fp}')\n",
    "print(f'Total false negatives: {total_fn}')"
   ]
  },
  {
   "cell_type": "code",
   "execution_count": 37,
   "metadata": {
    "tags": []
   },
   "outputs": [],
   "source": [
    "valid_data['Predicted_EW'] = valid_data['Predicted_EW'].mask(valid_data['Predicted_EW']=='Nothing').ffill()\n",
    "valid_data['Predicted_NS'] = valid_data['Predicted_NS'].mask(valid_data['Predicted_NS']=='Nothing').ffill()"
   ]
  },
  {
   "cell_type": "code",
   "execution_count": 38,
   "metadata": {
    "tags": []
   },
   "outputs": [
    {
     "name": "stderr",
     "output_type": "stream",
     "text": [
      "C:\\Users\\isaac\\Documents\\Challenge_Francois\\splid-devkit\\baseline_submissions\\isaac_ml\\utils_isaac.py:103: FutureWarning: Not prepending group keys to the result index of transform-like apply. In the future, the group keys will be included in the index, regardless of whether the applied function returns a like-indexed object.\n",
      "To preserve the previous behavior, use\n",
      "\n",
      "\t>>> .groupby(..., group_keys=False)\n",
      "\n",
      "To adopt the future behavior and silence this warning, use \n",
      "\n",
      "\t>>> .groupby(..., group_keys=True)\n",
      "  keep = groups[['Node', 'Type']].apply(\n"
     ]
    },
    {
     "name": "stdout",
     "output_type": "stream",
     "text": [
      "Precision for the validation set: 0.79\n",
      "Recall for the validation set: 0.50\n",
      "F2 for the validation set: 0.54\n",
      "RMSE for the validation set: 0.30\n"
     ]
    }
   ],
   "source": [
    "if config.valid_ratio > 0:\n",
    "    valid_results = utils.convert_classifier_output(valid_data)\n",
    "    evaluator = evaluation.NodeDetectionEvaluator(ground_truth_valid, \n",
    "                                                  valid_results,\n",
    "                                                  tolerance=config.tolerance)\n",
    "precision, recall, f2, rmse = evaluator.score()\n",
    "print(f'Precision for the validation set: {precision:.2f}')\n",
    "print(f'Recall for the validation set: {recall:.2f}')\n",
    "print(f'F2 for the validation set: {f2:.2f}')\n",
    "print(f'RMSE for the validation set: {rmse:.2f}')"
   ]
  },
  {
   "cell_type": "code",
   "execution_count": 39,
   "metadata": {
    "tags": []
   },
   "outputs": [
    {
     "data": {
      "image/png": "[encoded data removed]",
      "text/plain": [
       "<Figure size 1000x600 with 2 Axes>"
      ]
     },
     "metadata": {},
     "output_type": "display_data"
    }
   ],
   "source": [
    "# Plot the evaluation timeline for a random ObjectID from the training set\n",
    "evaluator.plot(np.random.choice(valid_data['ObjectID'].unique()))\n"
   ]
  },
  {
   "cell_type": "code",
   "execution_count": null,
   "metadata": {
    "tags": []
   },
   "outputs": [],
   "source": [
    "# Save the trained random forest models (and label encoders) to disk\n",
    "# Create the folder trained_model if it doesn't exist\n",
    "Path('trained_model').mkdir(exist_ok=True)\n",
    "pickle.dump(model_EW, open('trained_model/model_EW.pkl', 'wb'))\n",
    "pickle.dump(model_NS, open('trained_model/model_NS.pkl', 'wb'))\n",
    "pickle.dump(le_EW, open('trained_model/le_EW.pkl', 'wb'))\n",
    "pickle.dump(le_NS, open('trained_model/le_NS.pkl', 'wb'))"
   ]
  },
  {
   "cell_type": "code",
   "execution_count": null,
   "metadata": {},
   "outputs": [],
   "source": []
  }
 ],
 "metadata": {
  "kernelspec": {
   "display_name": "Python 3 (ipykernel)",
   "language": "python",
   "name": "python3"
  },
  "language_info": {
   "codemirror_mode": {
    "name": "ipython",
    "version": 3
   },
   "file_extension": ".py",
   "mimetype": "text/x-python",
   "name": "python",
   "nbconvert_exporter": "python",
   "pygments_lexer": "ipython3",
   "version": "3.10.10"
  }
 },
 "nbformat": 4,
 "nbformat_minor": 4
}
