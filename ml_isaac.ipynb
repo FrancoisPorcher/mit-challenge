{
 "cells": [
  {
   "cell_type": "markdown",
   "metadata": {},
   "source": [
    "# Machine Learning Isaac"
   ]
  },
  {
   "cell_type": "code",
   "execution_count": 1,
   "metadata": {
    "tags": []
   },
   "outputs": [
    {
     "name": "stdout",
     "output_type": "stream",
     "text": [
      "The autoreload extension is already loaded. To reload it, use:\n",
      "  %reload_ext autoreload\n"
     ]
    }
   ],
   "source": [
    "%load_ext autoreload\n",
    "%autoreload 2"
   ]
  },
  {
   "cell_type": "code",
   "execution_count": 2,
   "metadata": {
    "tags": []
   },
   "outputs": [],
   "source": [
    "import pandas as pd\n",
    "from pathlib import Path\n",
    "from sklearn.ensemble import RandomForestClassifier\n",
    "from sklearn.preprocessing import LabelEncoder, OneHotEncoder\n",
    "from sklearn.model_selection import train_test_split\n",
    "from fastcore.basics import Path, AttrDict\n",
    "import utils_isaac as utils\n",
    "import numpy as np\n",
    "import pickle\n",
    "from datetime import datetime\n",
    "from catboost import CatBoostRegressor, CatBoostClassifier\n",
    "from tqdm import tqdm\n",
    "\n",
    "# This is used to import the evaluation script, not needed for training\n",
    "import sys\n",
    "sys.path.append('../') \n",
    "import evaluation"
   ]
  },
  {
   "cell_type": "code",
   "execution_count": 3,
   "metadata": {
    "tags": []
   },
   "outputs": [],
   "source": [
    "import pickle"
   ]
  },
  {
   "cell_type": "code",
   "execution_count": 4,
   "metadata": {
    "tags": []
   },
   "outputs": [],
   "source": [
    "config = AttrDict(\n",
    "    challenge_data_dir = Path('../../dataset/'),\n",
    "    valid_ratio = 0.1,\n",
    "    lag_steps = 6,\n",
    "    tolerance= 6, # Default evaluation tolerance\n",
    ")"
   ]
  },
  {
   "cell_type": "code",
   "execution_count": 5,
   "metadata": {
    "tags": []
   },
   "outputs": [],
   "source": [
    "# Define the list of feature columns\n",
    "feature_cols = [\n",
    "    \"Eccentricity\",\n",
    "    \"Semimajor Axis (m)\",\n",
    "    \"Inclination (deg)\",\n",
    "    \"RAAN (deg)\",\n",
    "    \"Argument of Periapsis (deg)\",\n",
    "    \"True Anomaly (deg)\",\n",
    "    \"Latitude (deg)\",\n",
    "    \"Longitude (deg)\",\n",
    "    \"Altitude (m)\",\n",
    "    \"X (m)\",\n",
    "    \"Y (m)\",\n",
    "    \"Z (m)\",\n",
    "    \"Vx (m/s)\",\n",
    "    \"Vy (m/s)\",\n",
    "    \"Vz (m/s)\"\n",
    "]"
   ]
  },
  {
   "cell_type": "code",
   "execution_count": 6,
   "metadata": {
    "tags": []
   },
   "outputs": [
    {
     "data": {
      "text/plain": [
       "15"
      ]
     },
     "execution_count": 6,
     "metadata": {},
     "output_type": "execute_result"
    }
   ],
   "source": [
    "len(feature_cols)"
   ]
  },
  {
   "cell_type": "code",
   "execution_count": 7,
   "metadata": {
    "tags": []
   },
   "outputs": [],
   "source": [
    "# from statsmodels.tsa.seasonal import seasonal_decompose\n",
    "# def decompose(series,period):\n",
    "#     decomposition = seasonal_decompose(series, model='additive', period=period) \n",
    "#     return decomposition.resid.ffill().bfill()"
   ]
  },
  {
   "cell_type": "code",
   "execution_count": 8,
   "metadata": {
    "scrolled": true,
    "tags": []
   },
   "outputs": [
    {
     "name": "stderr",
     "output_type": "stream",
     "text": [
      "C:\\Users\\isaac\\Documents\\Challenge_Francois\\splid-devkit\\baseline_submissions\\isaac_ml\\utils_isaac.py:89: FutureWarning: Not prepending group keys to the result index of transform-like apply. In the future, the group keys will be included in the index, regardless of whether the applied function returns a like-indexed object.\n",
      "To preserve the previous behavior, use\n",
      "\n",
      "\t>>> .groupby(..., group_keys=False)\n",
      "\n",
      "To adopt the future behavior and silence this warning, use \n",
      "\n",
      "\t>>> .groupby(..., group_keys=True)\n",
      "  added_data = merged_data.groupby('ObjectID')[factor].apply(lambda win: win.rolling(3*12, center=True, min_periods=0).max()) - \\\n",
      "C:\\Users\\isaac\\Documents\\Challenge_Francois\\splid-devkit\\baseline_submissions\\isaac_ml\\utils_isaac.py:90: FutureWarning: Not prepending group keys to the result index of transform-like apply. In the future, the group keys will be included in the index, regardless of whether the applied function returns a like-indexed object.\n",
      "To preserve the previous behavior, use\n",
      "\n",
      "\t>>> .groupby(..., group_keys=False)\n",
      "\n",
      "To adopt the future behavior and silence this warning, use \n",
      "\n",
      "\t>>> .groupby(..., group_keys=True)\n",
      "  merged_data.groupby('ObjectID')[factor].apply(\n",
      "C:\\Users\\isaac\\Documents\\Challenge_Francois\\splid-devkit\\baseline_submissions\\isaac_ml\\utils_isaac.py:89: FutureWarning: Not prepending group keys to the result index of transform-like apply. In the future, the group keys will be included in the index, regardless of whether the applied function returns a like-indexed object.\n",
      "To preserve the previous behavior, use\n",
      "\n",
      "\t>>> .groupby(..., group_keys=False)\n",
      "\n",
      "To adopt the future behavior and silence this warning, use \n",
      "\n",
      "\t>>> .groupby(..., group_keys=True)\n",
      "  added_data = merged_data.groupby('ObjectID')[factor].apply(lambda win: win.rolling(3*12, center=True, min_periods=0).max()) - \\\n",
      "C:\\Users\\isaac\\Documents\\Challenge_Francois\\splid-devkit\\baseline_submissions\\isaac_ml\\utils_isaac.py:90: FutureWarning: Not prepending group keys to the result index of transform-like apply. In the future, the group keys will be included in the index, regardless of whether the applied function returns a like-indexed object.\n",
      "To preserve the previous behavior, use\n",
      "\n",
      "\t>>> .groupby(..., group_keys=False)\n",
      "\n",
      "To adopt the future behavior and silence this warning, use \n",
      "\n",
      "\t>>> .groupby(..., group_keys=True)\n",
      "  merged_data.groupby('ObjectID')[factor].apply(\n",
      "C:\\Users\\isaac\\Documents\\Challenge_Francois\\splid-devkit\\baseline_submissions\\isaac_ml\\utils_isaac.py:89: FutureWarning: Not prepending group keys to the result index of transform-like apply. In the future, the group keys will be included in the index, regardless of whether the applied function returns a like-indexed object.\n",
      "To preserve the previous behavior, use\n",
      "\n",
      "\t>>> .groupby(..., group_keys=False)\n",
      "\n",
      "To adopt the future behavior and silence this warning, use \n",
      "\n",
      "\t>>> .groupby(..., group_keys=True)\n",
      "  added_data = merged_data.groupby('ObjectID')[factor].apply(lambda win: win.rolling(3*12, center=True, min_periods=0).max()) - \\\n",
      "C:\\Users\\isaac\\Documents\\Challenge_Francois\\splid-devkit\\baseline_submissions\\isaac_ml\\utils_isaac.py:90: FutureWarning: Not prepending group keys to the result index of transform-like apply. In the future, the group keys will be included in the index, regardless of whether the applied function returns a like-indexed object.\n",
      "To preserve the previous behavior, use\n",
      "\n",
      "\t>>> .groupby(..., group_keys=False)\n",
      "\n",
      "To adopt the future behavior and silence this warning, use \n",
      "\n",
      "\t>>> .groupby(..., group_keys=True)\n",
      "  merged_data.groupby('ObjectID')[factor].apply(\n",
      "C:\\Users\\isaac\\Documents\\Challenge_Francois\\splid-devkit\\baseline_submissions\\isaac_ml\\utils_isaac.py:135: FutureWarning: Not prepending group keys to the result index of transform-like apply. In the future, the group keys will be included in the index, regardless of whether the applied function returns a like-indexed object.\n",
      "To preserve the previous behavior, use\n",
      "\n",
      "\t>>> .groupby(..., group_keys=False)\n",
      "\n",
      "To adopt the future behavior and silence this warning, use \n",
      "\n",
      "\t>>> .groupby(..., group_keys=True)\n",
      "  added_data = merged_data.groupby('ObjectID')[variable].apply(\n",
      "C:\\Users\\isaac\\Documents\\Challenge_Francois\\splid-devkit\\baseline_submissions\\isaac_ml\\utils_isaac.py:141: FutureWarning: Not prepending group keys to the result index of transform-like apply. In the future, the group keys will be included in the index, regardless of whether the applied function returns a like-indexed object.\n",
      "To preserve the previous behavior, use\n",
      "\n",
      "\t>>> .groupby(..., group_keys=False)\n",
      "\n",
      "To adopt the future behavior and silence this warning, use \n",
      "\n",
      "\t>>> .groupby(..., group_keys=True)\n",
      "  added_data = merged_data.groupby('ObjectID')[variable].apply(\n",
      "C:\\Users\\isaac\\Documents\\Challenge_Francois\\splid-devkit\\baseline_submissions\\isaac_ml\\utils_isaac.py:135: FutureWarning: Not prepending group keys to the result index of transform-like apply. In the future, the group keys will be included in the index, regardless of whether the applied function returns a like-indexed object.\n",
      "To preserve the previous behavior, use\n",
      "\n",
      "\t>>> .groupby(..., group_keys=False)\n",
      "\n",
      "To adopt the future behavior and silence this warning, use \n",
      "\n",
      "\t>>> .groupby(..., group_keys=True)\n",
      "  added_data = merged_data.groupby('ObjectID')[variable].apply(\n",
      "C:\\Users\\isaac\\Documents\\Challenge_Francois\\splid-devkit\\baseline_submissions\\isaac_ml\\utils_isaac.py:141: FutureWarning: Not prepending group keys to the result index of transform-like apply. In the future, the group keys will be included in the index, regardless of whether the applied function returns a like-indexed object.\n",
      "To preserve the previous behavior, use\n",
      "\n",
      "\t>>> .groupby(..., group_keys=False)\n",
      "\n",
      "To adopt the future behavior and silence this warning, use \n",
      "\n",
      "\t>>> .groupby(..., group_keys=True)\n",
      "  added_data = merged_data.groupby('ObjectID')[variable].apply(\n",
      "C:\\Users\\isaac\\Documents\\Challenge_Francois\\splid-devkit\\baseline_submissions\\isaac_ml\\utils_isaac.py:135: FutureWarning: Not prepending group keys to the result index of transform-like apply. In the future, the group keys will be included in the index, regardless of whether the applied function returns a like-indexed object.\n",
      "To preserve the previous behavior, use\n",
      "\n",
      "\t>>> .groupby(..., group_keys=False)\n",
      "\n",
      "To adopt the future behavior and silence this warning, use \n",
      "\n",
      "\t>>> .groupby(..., group_keys=True)\n",
      "  added_data = merged_data.groupby('ObjectID')[variable].apply(\n",
      "C:\\Users\\isaac\\Documents\\Challenge_Francois\\splid-devkit\\baseline_submissions\\isaac_ml\\utils_isaac.py:141: FutureWarning: Not prepending group keys to the result index of transform-like apply. In the future, the group keys will be included in the index, regardless of whether the applied function returns a like-indexed object.\n",
      "To preserve the previous behavior, use\n",
      "\n",
      "\t>>> .groupby(..., group_keys=False)\n",
      "\n",
      "To adopt the future behavior and silence this warning, use \n",
      "\n",
      "\t>>> .groupby(..., group_keys=True)\n",
      "  added_data = merged_data.groupby('ObjectID')[variable].apply(\n",
      "C:\\Users\\isaac\\Documents\\Challenge_Francois\\splid-devkit\\baseline_submissions\\isaac_ml\\utils_isaac.py:135: FutureWarning: Not prepending group keys to the result index of transform-like apply. In the future, the group keys will be included in the index, regardless of whether the applied function returns a like-indexed object.\n",
      "To preserve the previous behavior, use\n",
      "\n",
      "\t>>> .groupby(..., group_keys=False)\n",
      "\n",
      "To adopt the future behavior and silence this warning, use \n",
      "\n",
      "\t>>> .groupby(..., group_keys=True)\n",
      "  added_data = merged_data.groupby('ObjectID')[variable].apply(\n",
      "C:\\Users\\isaac\\Documents\\Challenge_Francois\\splid-devkit\\baseline_submissions\\isaac_ml\\utils_isaac.py:141: FutureWarning: Not prepending group keys to the result index of transform-like apply. In the future, the group keys will be included in the index, regardless of whether the applied function returns a like-indexed object.\n",
      "To preserve the previous behavior, use\n",
      "\n",
      "\t>>> .groupby(..., group_keys=False)\n",
      "\n",
      "To adopt the future behavior and silence this warning, use \n",
      "\n",
      "\t>>> .groupby(..., group_keys=True)\n",
      "  added_data = merged_data.groupby('ObjectID')[variable].apply(\n",
      "C:\\Users\\isaac\\Documents\\Challenge_Francois\\splid-devkit\\baseline_submissions\\isaac_ml\\utils_isaac.py:135: FutureWarning: Not prepending group keys to the result index of transform-like apply. In the future, the group keys will be included in the index, regardless of whether the applied function returns a like-indexed object.\n",
      "To preserve the previous behavior, use\n",
      "\n",
      "\t>>> .groupby(..., group_keys=False)\n",
      "\n",
      "To adopt the future behavior and silence this warning, use \n",
      "\n",
      "\t>>> .groupby(..., group_keys=True)\n",
      "  added_data = merged_data.groupby('ObjectID')[variable].apply(\n",
      "C:\\Users\\isaac\\Documents\\Challenge_Francois\\splid-devkit\\baseline_submissions\\isaac_ml\\utils_isaac.py:141: FutureWarning: Not prepending group keys to the result index of transform-like apply. In the future, the group keys will be included in the index, regardless of whether the applied function returns a like-indexed object.\n",
      "To preserve the previous behavior, use\n",
      "\n",
      "\t>>> .groupby(..., group_keys=False)\n",
      "\n",
      "To adopt the future behavior and silence this warning, use \n",
      "\n",
      "\t>>> .groupby(..., group_keys=True)\n",
      "  added_data = merged_data.groupby('ObjectID')[variable].apply(\n",
      "C:\\Users\\isaac\\Documents\\Challenge_Francois\\splid-devkit\\baseline_submissions\\isaac_ml\\utils_isaac.py:135: FutureWarning: Not prepending group keys to the result index of transform-like apply. In the future, the group keys will be included in the index, regardless of whether the applied function returns a like-indexed object.\n",
      "To preserve the previous behavior, use\n",
      "\n",
      "\t>>> .groupby(..., group_keys=False)\n",
      "\n",
      "To adopt the future behavior and silence this warning, use \n",
      "\n",
      "\t>>> .groupby(..., group_keys=True)\n",
      "  added_data = merged_data.groupby('ObjectID')[variable].apply(\n",
      "C:\\Users\\isaac\\Documents\\Challenge_Francois\\splid-devkit\\baseline_submissions\\isaac_ml\\utils_isaac.py:141: FutureWarning: Not prepending group keys to the result index of transform-like apply. In the future, the group keys will be included in the index, regardless of whether the applied function returns a like-indexed object.\n",
      "To preserve the previous behavior, use\n",
      "\n",
      "\t>>> .groupby(..., group_keys=False)\n",
      "\n",
      "To adopt the future behavior and silence this warning, use \n",
      "\n",
      "\t>>> .groupby(..., group_keys=True)\n",
      "  added_data = merged_data.groupby('ObjectID')[variable].apply(\n",
      "C:\\Users\\isaac\\Documents\\Challenge_Francois\\splid-devkit\\baseline_submissions\\isaac_ml\\utils_isaac.py:135: FutureWarning: Not prepending group keys to the result index of transform-like apply. In the future, the group keys will be included in the index, regardless of whether the applied function returns a like-indexed object.\n",
      "To preserve the previous behavior, use\n",
      "\n",
      "\t>>> .groupby(..., group_keys=False)\n",
      "\n",
      "To adopt the future behavior and silence this warning, use \n",
      "\n",
      "\t>>> .groupby(..., group_keys=True)\n",
      "  added_data = merged_data.groupby('ObjectID')[variable].apply(\n",
      "C:\\Users\\isaac\\Documents\\Challenge_Francois\\splid-devkit\\baseline_submissions\\isaac_ml\\utils_isaac.py:141: FutureWarning: Not prepending group keys to the result index of transform-like apply. In the future, the group keys will be included in the index, regardless of whether the applied function returns a like-indexed object.\n",
      "To preserve the previous behavior, use\n",
      "\n",
      "\t>>> .groupby(..., group_keys=False)\n",
      "\n",
      "To adopt the future behavior and silence this warning, use \n",
      "\n",
      "\t>>> .groupby(..., group_keys=True)\n",
      "  added_data = merged_data.groupby('ObjectID')[variable].apply(\n",
      "C:\\Users\\isaac\\Documents\\Challenge_Francois\\splid-devkit\\baseline_submissions\\isaac_ml\\utils_isaac.py:135: FutureWarning: Not prepending group keys to the result index of transform-like apply. In the future, the group keys will be included in the index, regardless of whether the applied function returns a like-indexed object.\n",
      "To preserve the previous behavior, use\n",
      "\n",
      "\t>>> .groupby(..., group_keys=False)\n",
      "\n",
      "To adopt the future behavior and silence this warning, use \n",
      "\n",
      "\t>>> .groupby(..., group_keys=True)\n",
      "  added_data = merged_data.groupby('ObjectID')[variable].apply(\n",
      "C:\\Users\\isaac\\Documents\\Challenge_Francois\\splid-devkit\\baseline_submissions\\isaac_ml\\utils_isaac.py:141: FutureWarning: Not prepending group keys to the result index of transform-like apply. In the future, the group keys will be included in the index, regardless of whether the applied function returns a like-indexed object.\n",
      "To preserve the previous behavior, use\n",
      "\n",
      "\t>>> .groupby(..., group_keys=False)\n",
      "\n",
      "To adopt the future behavior and silence this warning, use \n",
      "\n",
      "\t>>> .groupby(..., group_keys=True)\n",
      "  added_data = merged_data.groupby('ObjectID')[variable].apply(\n",
      "C:\\Users\\isaac\\Documents\\Challenge_Francois\\splid-devkit\\baseline_submissions\\isaac_ml\\utils_isaac.py:135: FutureWarning: Not prepending group keys to the result index of transform-like apply. In the future, the group keys will be included in the index, regardless of whether the applied function returns a like-indexed object.\n",
      "To preserve the previous behavior, use\n",
      "\n",
      "\t>>> .groupby(..., group_keys=False)\n",
      "\n",
      "To adopt the future behavior and silence this warning, use \n",
      "\n",
      "\t>>> .groupby(..., group_keys=True)\n",
      "  added_data = merged_data.groupby('ObjectID')[variable].apply(\n",
      "C:\\Users\\isaac\\Documents\\Challenge_Francois\\splid-devkit\\baseline_submissions\\isaac_ml\\utils_isaac.py:141: FutureWarning: Not prepending group keys to the result index of transform-like apply. In the future, the group keys will be included in the index, regardless of whether the applied function returns a like-indexed object.\n",
      "To preserve the previous behavior, use\n",
      "\n",
      "\t>>> .groupby(..., group_keys=False)\n",
      "\n",
      "To adopt the future behavior and silence this warning, use \n",
      "\n",
      "\t>>> .groupby(..., group_keys=True)\n",
      "  added_data = merged_data.groupby('ObjectID')[variable].apply(\n",
      "C:\\Users\\isaac\\Documents\\Challenge_Francois\\splid-devkit\\baseline_submissions\\isaac_ml\\utils_isaac.py:135: FutureWarning: Not prepending group keys to the result index of transform-like apply. In the future, the group keys will be included in the index, regardless of whether the applied function returns a like-indexed object.\n",
      "To preserve the previous behavior, use\n",
      "\n",
      "\t>>> .groupby(..., group_keys=False)\n",
      "\n",
      "To adopt the future behavior and silence this warning, use \n",
      "\n",
      "\t>>> .groupby(..., group_keys=True)\n",
      "  added_data = merged_data.groupby('ObjectID')[variable].apply(\n",
      "C:\\Users\\isaac\\Documents\\Challenge_Francois\\splid-devkit\\baseline_submissions\\isaac_ml\\utils_isaac.py:141: FutureWarning: Not prepending group keys to the result index of transform-like apply. In the future, the group keys will be included in the index, regardless of whether the applied function returns a like-indexed object.\n",
      "To preserve the previous behavior, use\n",
      "\n",
      "\t>>> .groupby(..., group_keys=False)\n",
      "\n",
      "To adopt the future behavior and silence this warning, use \n",
      "\n",
      "\t>>> .groupby(..., group_keys=True)\n",
      "  added_data = merged_data.groupby('ObjectID')[variable].apply(\n"
     ]
    }
   ],
   "source": [
    "# Define the directory paths\n",
    "train_data_dir = config.challenge_data_dir / \"train\"\n",
    "\n",
    "# Load the ground truth data\n",
    "ground_truth = pd.read_csv(config.challenge_data_dir / 'train_labels.csv')\n",
    "\n",
    "# # Apply the function to the ground truth data\n",
    "data, updated_feature_cols = utils.tabularize_data(train_data_dir,\n",
    "                                                   feature_cols, \n",
    "                                                   ground_truth,\n",
    "                                                   lag_steps=config.lag_steps,\n",
    "                                                   add_heurestic=False,\n",
    "                                                   nb_of_ex = 500)\n",
    "\n",
    "data['EW'] = data['EW'].fillna('Nothing')\n",
    "data['NS'] = data['NS'].fillna('Nothing')"
   ]
  },
  {
   "cell_type": "code",
   "execution_count": 8,
   "metadata": {
    "tags": []
   },
   "outputs": [],
   "source": [
    "#data[['ObjectID','Timestamp','EW_baseline_heuristic','NS_baseline_heuristic','EW_baseline_heuristic_ffill','NS_baseline_heuristic_ffill']].to_pickle('Data_With_Baseline.pkl')\n",
    "#data.to_pickle('Data_With_Nothing.pkl')"
   ]
  },
  {
   "cell_type": "code",
   "execution_count": 33,
   "metadata": {
    "tags": []
   },
   "outputs": [],
   "source": [
    "data_baseline = pd.read_pickle('Data_With_Baseline.pkl')\n",
    "#data = pd.read_pickle('Data_With_Nothing.pkl')\n",
    "data = pd.merge(data,data_baseline,on=['ObjectID','Timestamp'],how='left')\n",
    "data = pd.concat([data,\n",
    "                  pd.get_dummies(data[['EW_baseline_heuristic']]),\n",
    "                  pd.get_dummies(data[['NS_baseline_heuristic']]),\n",
    "                  pd.get_dummies(data[['EW_baseline_heuristic_ffill']]),\n",
    "                  pd.get_dummies(data[['NS_baseline_heuristic_ffill']])],axis=1)"
   ]
  },
  {
   "cell_type": "code",
   "execution_count": 36,
   "metadata": {
    "tags": []
   },
   "outputs": [
    {
     "data": {
      "text/plain": [
       "32"
      ]
     },
     "execution_count": 36,
     "metadata": {},
     "output_type": "execute_result"
    }
   ],
   "source": [
    "331 - 299"
   ]
  },
  {
   "cell_type": "code",
   "execution_count": 46,
   "metadata": {
    "tags": []
   },
   "outputs": [
    {
     "data": {
      "text/plain": [
       "8"
      ]
     },
     "execution_count": 46,
     "metadata": {},
     "output_type": "execute_result"
    }
   ],
   "source": [
    "len(data[['EW_baseline_heuristic']].value_counts())"
   ]
  },
  {
   "cell_type": "code",
   "execution_count": 47,
   "metadata": {
    "tags": []
   },
   "outputs": [
    {
     "data": {
      "text/plain": [
       "7"
      ]
     },
     "execution_count": 47,
     "metadata": {},
     "output_type": "execute_result"
    }
   ],
   "source": [
    "len(data[['NS_baseline_heuristic']].value_counts())"
   ]
  },
  {
   "cell_type": "code",
   "execution_count": 48,
   "metadata": {
    "tags": []
   },
   "outputs": [
    {
     "data": {
      "text/plain": [
       "28"
      ]
     },
     "execution_count": 48,
     "metadata": {},
     "output_type": "execute_result"
    }
   ],
   "source": [
    "8+7+7+6"
   ]
  },
  {
   "cell_type": "code",
   "execution_count": 35,
   "metadata": {
    "tags": []
   },
   "outputs": [
    {
     "data": {
      "text/plain": [
       "(1086326, 331)"
      ]
     },
     "execution_count": 35,
     "metadata": {},
     "output_type": "execute_result"
    }
   ],
   "source": [
    "data.shape"
   ]
  },
  {
   "cell_type": "code",
   "execution_count": 10,
   "metadata": {
    "tags": []
   },
   "outputs": [],
   "source": [
    "del data_baseline"
   ]
  },
  {
   "cell_type": "code",
   "execution_count": 11,
   "metadata": {
    "tags": []
   },
   "outputs": [],
   "source": [
    "#data = data.loc[data.ObjectID.isin(list(data.ObjectID.unique())[:500])]"
   ]
  },
  {
   "cell_type": "code",
   "execution_count": 12,
   "metadata": {
    "tags": []
   },
   "outputs": [],
   "source": [
    "updated_feature_cols = list(data.columns)\n",
    "updated_feature_cols.remove('TimeIndex')\n",
    "updated_feature_cols.remove('Timestamp')\n",
    "updated_feature_cols.remove('ObjectID')\n",
    "updated_feature_cols.remove('EW')\n",
    "updated_feature_cols.remove('NS')\n",
    "updated_feature_cols.remove('EW_baseline_heuristic')\n",
    "updated_feature_cols.remove('NS_baseline_heuristic')\n",
    "updated_feature_cols.remove('EW_baseline_heuristic_ffill')\n",
    "updated_feature_cols.remove('NS_baseline_heuristic_ffill')"
   ]
  },
  {
   "cell_type": "code",
   "execution_count": 13,
   "metadata": {
    "tags": []
   },
   "outputs": [
    {
     "name": "stdout",
     "output_type": "stream",
     "text": [
      "Number of objects in the training set: 450\n",
      "Number of objects in the validation set: 50\n"
     ]
    }
   ],
   "source": [
    "# Create a validation set without mixing the ObjectIDs\n",
    "object_ids = data['ObjectID'].unique()\n",
    "train_ids, valid_ids = train_test_split(object_ids, \n",
    "                                        test_size=config.valid_ratio, \n",
    "                                        random_state=43)\n",
    "\n",
    "train_data = data[data['ObjectID'].isin(train_ids)].copy()\n",
    "valid_data = data[data['ObjectID'].isin(valid_ids)].copy()\n",
    "\n",
    "ground_truth_train = ground_truth[ground_truth['ObjectID'].isin(train_ids)].copy()\n",
    "ground_truth_valid = ground_truth[ground_truth['ObjectID'].isin(valid_ids)].copy()\n",
    "\n",
    "# Count the number of objects in the training and validation sets\n",
    "print('Number of objects in the training set:', len(train_data['ObjectID'].unique()))\n",
    "print('Number of objects in the validation set:', len(valid_data['ObjectID'].unique()))"
   ]
  },
  {
   "cell_type": "markdown",
   "metadata": {},
   "source": [
    "Next we will make sure that there every label, both in the direction EW and NS,\n",
    "is present both in the training and validation partitions"
   ]
  },
  {
   "cell_type": "code",
   "execution_count": 14,
   "metadata": {
    "tags": []
   },
   "outputs": [
    {
     "name": "stdout",
     "output_type": "stream",
     "text": [
      "Missing values of EW in test data: set()\n",
      "Missing values of NS in test data: set()\n",
      "Values of EW not present in NS: {'IK-EK', 'SS-EK', 'AD-NK'}\n"
     ]
    }
   ],
   "source": [
    "# Get the unique values of EW and NS in train and test data\n",
    "train_EW = set(train_data['EW'].unique())\n",
    "train_NS = set(train_data['NS'].unique())\n",
    "valid_EW = set(valid_data['EW'].unique())\n",
    "valid_NS = set(valid_data['NS'].unique())\n",
    "\n",
    "# Get the values of EW and NS that are in test data but not in train data\n",
    "missing_EW = valid_EW.difference(train_EW)\n",
    "missing_NS = valid_NS.difference(train_NS)\n",
    "\n",
    "# Check if all the values in EW are also present in NS\n",
    "if not set(train_data['EW'].unique()).issubset(set(train_data['NS'].unique())):\n",
    "    # Get the values of EW that are not present in NS\n",
    "    missing_EW_NS = set(train_data['EW'].unique()).difference(\n",
    "        set(train_data['NS'].unique())\n",
    "    )\n",
    "else:\n",
    "    missing_EW_NS = None\n",
    "\n",
    "# Print the missing values of EW and NS\n",
    "print(\"Missing values of EW in test data:\", missing_EW)\n",
    "print(\"Missing values of NS in test data:\", missing_NS)\n",
    "print(\"Values of EW not present in NS:\", missing_EW_NS)"
   ]
  },
  {
   "cell_type": "markdown",
   "metadata": {
    "tags": []
   },
   "source": [
    "###  Train part"
   ]
  },
  {
   "cell_type": "code",
   "execution_count": 15,
   "metadata": {
    "tags": []
   },
   "outputs": [],
   "source": [
    "# Convert categorical data to numerical data\n",
    "le_EW = LabelEncoder()\n",
    "le_NS = LabelEncoder()\n",
    "\n",
    "# Encode the 'EW' and 'NS' columns\n",
    "train_data['EW_encoded'] = le_EW.fit_transform(train_data['EW'])\n",
    "train_data['NS_encoded'] = le_NS.fit_transform(train_data['NS'])"
   ]
  },
  {
   "cell_type": "code",
   "execution_count": 16,
   "metadata": {
    "scrolled": true,
    "tags": []
   },
   "outputs": [
    {
     "name": "stdout",
     "output_type": "stream",
     "text": [
      "Learning rate set to 0.5\n",
      "0:\tlearn: 0.1718630\ttotal: 2.92s\tremaining: 4m 48s\n",
      "1:\tlearn: 0.0995150\ttotal: 4.96s\tremaining: 4m 2s\n",
      "2:\tlearn: 0.0599244\ttotal: 7.63s\tremaining: 4m 6s\n",
      "3:\tlearn: 0.0369985\ttotal: 9.38s\tremaining: 3m 45s\n",
      "4:\tlearn: 0.0235560\ttotal: 11.4s\tremaining: 3m 37s\n",
      "5:\tlearn: 0.0153767\ttotal: 12.9s\tremaining: 3m 22s\n",
      "6:\tlearn: 0.0106700\ttotal: 14.6s\tremaining: 3m 13s\n",
      "7:\tlearn: 0.0076619\ttotal: 16.5s\tremaining: 3m 10s\n",
      "8:\tlearn: 0.0059047\ttotal: 18.4s\tremaining: 3m 6s\n",
      "9:\tlearn: 0.0048417\ttotal: 20.2s\tremaining: 3m 1s\n",
      "10:\tlearn: 0.0041902\ttotal: 21.8s\tremaining: 2m 56s\n",
      "11:\tlearn: 0.0038916\ttotal: 23.4s\tremaining: 2m 51s\n",
      "12:\tlearn: 0.0034464\ttotal: 25.2s\tremaining: 2m 48s\n",
      "13:\tlearn: 0.0032180\ttotal: 26.6s\tremaining: 2m 43s\n",
      "14:\tlearn: 0.0030150\ttotal: 28.3s\tremaining: 2m 40s\n",
      "15:\tlearn: 0.0029230\ttotal: 30.1s\tremaining: 2m 37s\n",
      "16:\tlearn: 0.0028667\ttotal: 31.6s\tremaining: 2m 34s\n",
      "17:\tlearn: 0.0028372\ttotal: 33.1s\tremaining: 2m 30s\n",
      "18:\tlearn: 0.0027953\ttotal: 34.4s\tremaining: 2m 26s\n",
      "19:\tlearn: 0.0026767\ttotal: 36.8s\tremaining: 2m 27s\n",
      "20:\tlearn: 0.0026066\ttotal: 38.2s\tremaining: 2m 23s\n",
      "21:\tlearn: 0.0025827\ttotal: 39.9s\tremaining: 2m 21s\n",
      "22:\tlearn: 0.0025697\ttotal: 41.6s\tremaining: 2m 19s\n",
      "23:\tlearn: 0.0025180\ttotal: 43.9s\tremaining: 2m 18s\n",
      "24:\tlearn: 0.0024925\ttotal: 45.8s\tremaining: 2m 17s\n",
      "25:\tlearn: 0.0024529\ttotal: 47.5s\tremaining: 2m 15s\n",
      "26:\tlearn: 0.0024138\ttotal: 49.2s\tremaining: 2m 12s\n",
      "27:\tlearn: 0.0023862\ttotal: 51.5s\tremaining: 2m 12s\n",
      "28:\tlearn: 0.0023326\ttotal: 54s\tremaining: 2m 12s\n",
      "29:\tlearn: 0.0023016\ttotal: 55.6s\tremaining: 2m 9s\n",
      "30:\tlearn: 0.0022921\ttotal: 56.7s\tremaining: 2m 6s\n",
      "31:\tlearn: 0.0022762\ttotal: 57.8s\tremaining: 2m 2s\n",
      "32:\tlearn: 0.0022398\ttotal: 59.1s\tremaining: 2m\n",
      "33:\tlearn: 0.0021958\ttotal: 1m\tremaining: 1m 57s\n",
      "34:\tlearn: 0.0021612\ttotal: 1m 1s\tremaining: 1m 54s\n",
      "35:\tlearn: 0.0021442\ttotal: 1m 3s\tremaining: 1m 52s\n",
      "36:\tlearn: 0.0021403\ttotal: 1m 4s\tremaining: 1m 49s\n",
      "37:\tlearn: 0.0021059\ttotal: 1m 5s\tremaining: 1m 47s\n",
      "38:\tlearn: 0.0020533\ttotal: 1m 6s\tremaining: 1m 44s\n",
      "39:\tlearn: 0.0020516\ttotal: 1m 7s\tremaining: 1m 41s\n",
      "40:\tlearn: 0.0020454\ttotal: 1m 9s\tremaining: 1m 39s\n",
      "41:\tlearn: 0.0020240\ttotal: 1m 10s\tremaining: 1m 37s\n",
      "42:\tlearn: 0.0020237\ttotal: 1m 11s\tremaining: 1m 34s\n",
      "43:\tlearn: 0.0020178\ttotal: 1m 12s\tremaining: 1m 32s\n",
      "44:\tlearn: 0.0020174\ttotal: 1m 13s\tremaining: 1m 30s\n",
      "45:\tlearn: 0.0020089\ttotal: 1m 15s\tremaining: 1m 28s\n",
      "46:\tlearn: 0.0020088\ttotal: 1m 16s\tremaining: 1m 25s\n",
      "47:\tlearn: 0.0019733\ttotal: 1m 17s\tremaining: 1m 24s\n",
      "48:\tlearn: 0.0019624\ttotal: 1m 18s\tremaining: 1m 22s\n",
      "49:\tlearn: 0.0019278\ttotal: 1m 20s\tremaining: 1m 20s\n",
      "50:\tlearn: 0.0019276\ttotal: 1m 21s\tremaining: 1m 18s\n",
      "51:\tlearn: 0.0019034\ttotal: 1m 22s\tremaining: 1m 16s\n",
      "52:\tlearn: 0.0018543\ttotal: 1m 23s\tremaining: 1m 14s\n",
      "53:\tlearn: 0.0018478\ttotal: 1m 25s\tremaining: 1m 12s\n",
      "54:\tlearn: 0.0018412\ttotal: 1m 26s\tremaining: 1m 10s\n",
      "55:\tlearn: 0.0018191\ttotal: 1m 27s\tremaining: 1m 9s\n",
      "56:\tlearn: 0.0018074\ttotal: 1m 29s\tremaining: 1m 7s\n",
      "57:\tlearn: 0.0017779\ttotal: 1m 30s\tremaining: 1m 5s\n",
      "58:\tlearn: 0.0017661\ttotal: 1m 32s\tremaining: 1m 4s\n",
      "59:\tlearn: 0.0017558\ttotal: 1m 33s\tremaining: 1m 2s\n",
      "60:\tlearn: 0.0017271\ttotal: 1m 35s\tremaining: 1m 1s\n",
      "61:\tlearn: 0.0017150\ttotal: 1m 36s\tremaining: 59.3s\n",
      "62:\tlearn: 0.0017038\ttotal: 1m 38s\tremaining: 57.9s\n",
      "63:\tlearn: 0.0016927\ttotal: 1m 40s\tremaining: 56.3s\n",
      "64:\tlearn: 0.0016879\ttotal: 1m 41s\tremaining: 54.5s\n",
      "65:\tlearn: 0.0016283\ttotal: 1m 42s\tremaining: 52.9s\n",
      "66:\tlearn: 0.0016133\ttotal: 1m 44s\tremaining: 51.4s\n",
      "67:\tlearn: 0.0016131\ttotal: 1m 45s\tremaining: 49.5s\n",
      "68:\tlearn: 0.0016067\ttotal: 1m 46s\tremaining: 47.8s\n",
      "69:\tlearn: 0.0015969\ttotal: 1m 47s\tremaining: 46.1s\n",
      "70:\tlearn: 0.0015916\ttotal: 1m 48s\tremaining: 44.5s\n",
      "71:\tlearn: 0.0015752\ttotal: 1m 51s\tremaining: 43.2s\n",
      "72:\tlearn: 0.0015700\ttotal: 1m 52s\tremaining: 41.6s\n",
      "73:\tlearn: 0.0015614\ttotal: 1m 54s\tremaining: 40.1s\n",
      "74:\tlearn: 0.0015499\ttotal: 1m 55s\tremaining: 38.6s\n",
      "75:\tlearn: 0.0015317\ttotal: 1m 57s\tremaining: 37.2s\n",
      "76:\tlearn: 0.0014972\ttotal: 1m 59s\tremaining: 35.7s\n",
      "77:\tlearn: 0.0014942\ttotal: 2m\tremaining: 34s\n",
      "78:\tlearn: 0.0014908\ttotal: 2m 1s\tremaining: 32.4s\n",
      "79:\tlearn: 0.0014720\ttotal: 2m 3s\tremaining: 30.8s\n",
      "80:\tlearn: 0.0014626\ttotal: 2m 4s\tremaining: 29.2s\n",
      "81:\tlearn: 0.0014456\ttotal: 2m 6s\tremaining: 27.7s\n",
      "82:\tlearn: 0.0014427\ttotal: 2m 7s\tremaining: 26.1s\n",
      "83:\tlearn: 0.0014399\ttotal: 2m 8s\tremaining: 24.6s\n",
      "84:\tlearn: 0.0014266\ttotal: 2m 10s\tremaining: 23s\n",
      "85:\tlearn: 0.0014066\ttotal: 2m 11s\tremaining: 21.5s\n",
      "86:\tlearn: 0.0013923\ttotal: 2m 13s\tremaining: 19.9s\n",
      "87:\tlearn: 0.0013810\ttotal: 2m 15s\tremaining: 18.4s\n",
      "88:\tlearn: 0.0013684\ttotal: 2m 16s\tremaining: 16.9s\n",
      "89:\tlearn: 0.0013557\ttotal: 2m 18s\tremaining: 15.4s\n",
      "90:\tlearn: 0.0013527\ttotal: 2m 19s\tremaining: 13.8s\n",
      "91:\tlearn: 0.0013359\ttotal: 2m 20s\tremaining: 12.2s\n",
      "92:\tlearn: 0.0013291\ttotal: 2m 22s\tremaining: 10.7s\n",
      "93:\tlearn: 0.0013204\ttotal: 2m 23s\tremaining: 9.16s\n",
      "94:\tlearn: 0.0013126\ttotal: 2m 25s\tremaining: 7.64s\n",
      "95:\tlearn: 0.0013017\ttotal: 2m 26s\tremaining: 6.11s\n",
      "96:\tlearn: 0.0012957\ttotal: 2m 28s\tremaining: 4.59s\n",
      "97:\tlearn: 0.0012904\ttotal: 2m 30s\tremaining: 3.06s\n",
      "98:\tlearn: 0.0012880\ttotal: 2m 31s\tremaining: 1.53s\n",
      "99:\tlearn: 0.0012826\ttotal: 2m 32s\tremaining: 0us\n"
     ]
    },
    {
     "data": {
      "text/plain": [
       "<catboost.core.CatBoostClassifier at 0x1d331294d00>"
      ]
     },
     "execution_count": 16,
     "metadata": {},
     "output_type": "execute_result"
    }
   ],
   "source": [
    "# Define the Random Forest model for NS\n",
    "model_NS_preprocess = CatBoostClassifier(n_estimators=100, random_state=42)\n",
    "# Fit the model to the training data for NS\n",
    "model_NS_preprocess.fit(train_data[updated_feature_cols], train_data['NS_encoded'])"
   ]
  },
  {
   "cell_type": "code",
   "execution_count": 17,
   "metadata": {
    "tags": []
   },
   "outputs": [],
   "source": [
    "added_proba_feature_NS = pd.DataFrame(model_NS_preprocess.predict_proba(train_data[model_NS_preprocess.feature_names_])).add_prefix('proba_feature_NS_')\n",
    "added_proba_feature_NS.index = train_data.index\n",
    "train_data = pd.concat([train_data,added_proba_feature_NS] ,axis=1)\n",
    "\n",
    "added_proba_feature_NS = pd.DataFrame(model_NS_preprocess.predict_proba(valid_data[model_NS_preprocess.feature_names_])).add_prefix('proba_feature_NS_')\n",
    "added_proba_feature_NS.index = valid_data.index\n",
    "valid_data = pd.concat([valid_data,added_proba_feature_NS] ,axis=1)"
   ]
  },
  {
   "cell_type": "code",
   "execution_count": 18,
   "metadata": {
    "scrolled": true,
    "tags": []
   },
   "outputs": [
    {
     "name": "stdout",
     "output_type": "stream",
     "text": [
      "Learning rate set to 0.5\n",
      "0:\tlearn: 0.0670141\ttotal: 10s\tremaining: 16m 34s\n",
      "1:\tlearn: 0.0422621\ttotal: 18.6s\tremaining: 15m 11s\n",
      "2:\tlearn: 0.0260920\ttotal: 27.3s\tremaining: 14m 42s\n",
      "3:\tlearn: 0.0176083\ttotal: 36s\tremaining: 14m 24s\n",
      "4:\tlearn: 0.0121551\ttotal: 44.7s\tremaining: 14m 9s\n",
      "5:\tlearn: 0.0080600\ttotal: 53.3s\tremaining: 13m 55s\n",
      "6:\tlearn: 0.0058825\ttotal: 1m 1s\tremaining: 13m 42s\n",
      "7:\tlearn: 0.0046372\ttotal: 1m 10s\tremaining: 13m 30s\n",
      "8:\tlearn: 0.0039259\ttotal: 1m 18s\tremaining: 13m 18s\n",
      "9:\tlearn: 0.0034814\ttotal: 1m 27s\tremaining: 13m 7s\n",
      "10:\tlearn: 0.0032246\ttotal: 1m 36s\tremaining: 12m 56s\n",
      "11:\tlearn: 0.0030837\ttotal: 1m 44s\tremaining: 12m 47s\n",
      "12:\tlearn: 0.0028501\ttotal: 1m 53s\tremaining: 12m 42s\n",
      "13:\tlearn: 0.0027379\ttotal: 2m 2s\tremaining: 12m 32s\n",
      "14:\tlearn: 0.0026105\ttotal: 2m 11s\tremaining: 12m 23s\n",
      "15:\tlearn: 0.0025439\ttotal: 2m 19s\tremaining: 12m 14s\n",
      "16:\tlearn: 0.0024002\ttotal: 2m 28s\tremaining: 12m 5s\n",
      "17:\tlearn: 0.0023663\ttotal: 2m 37s\tremaining: 11m 56s\n",
      "18:\tlearn: 0.0023272\ttotal: 2m 45s\tremaining: 11m 46s\n",
      "19:\tlearn: 0.0022966\ttotal: 2m 54s\tremaining: 11m 37s\n",
      "20:\tlearn: 0.0022647\ttotal: 3m 3s\tremaining: 11m 28s\n",
      "21:\tlearn: 0.0022091\ttotal: 3m 11s\tremaining: 11m 19s\n",
      "22:\tlearn: 0.0021875\ttotal: 3m 20s\tremaining: 11m 11s\n",
      "23:\tlearn: 0.0021579\ttotal: 3m 29s\tremaining: 11m 2s\n",
      "24:\tlearn: 0.0021381\ttotal: 3m 37s\tremaining: 10m 53s\n",
      "25:\tlearn: 0.0020383\ttotal: 3m 46s\tremaining: 10m 44s\n",
      "26:\tlearn: 0.0019775\ttotal: 3m 55s\tremaining: 10m 37s\n",
      "27:\tlearn: 0.0019659\ttotal: 4m 4s\tremaining: 10m 28s\n",
      "28:\tlearn: 0.0019313\ttotal: 4m 13s\tremaining: 10m 19s\n",
      "29:\tlearn: 0.0019098\ttotal: 4m 21s\tremaining: 10m 10s\n",
      "30:\tlearn: 0.0018866\ttotal: 4m 30s\tremaining: 10m 2s\n",
      "31:\tlearn: 0.0018479\ttotal: 4m 39s\tremaining: 9m 53s\n",
      "32:\tlearn: 0.0018306\ttotal: 4m 48s\tremaining: 9m 44s\n",
      "33:\tlearn: 0.0017947\ttotal: 4m 56s\tremaining: 9m 36s\n",
      "34:\tlearn: 0.0017931\ttotal: 5m 3s\tremaining: 9m 24s\n",
      "35:\tlearn: 0.0017892\ttotal: 5m 12s\tremaining: 9m 15s\n",
      "36:\tlearn: 0.0017823\ttotal: 5m 20s\tremaining: 9m 6s\n",
      "37:\tlearn: 0.0017710\ttotal: 5m 29s\tremaining: 8m 57s\n",
      "38:\tlearn: 0.0017705\ttotal: 5m 34s\tremaining: 8m 43s\n",
      "39:\tlearn: 0.0017499\ttotal: 5m 43s\tremaining: 8m 35s\n",
      "40:\tlearn: 0.0017363\ttotal: 5m 52s\tremaining: 8m 27s\n",
      "41:\tlearn: 0.0017214\ttotal: 6m 1s\tremaining: 8m 19s\n",
      "42:\tlearn: 0.0017185\ttotal: 6m 9s\tremaining: 8m 10s\n",
      "43:\tlearn: 0.0016762\ttotal: 6m 18s\tremaining: 8m 1s\n",
      "44:\tlearn: 0.0016759\ttotal: 6m 21s\tremaining: 7m 45s\n",
      "45:\tlearn: 0.0016517\ttotal: 6m 29s\tremaining: 7m 37s\n",
      "46:\tlearn: 0.0016516\ttotal: 6m 32s\tremaining: 7m 22s\n",
      "47:\tlearn: 0.0016515\ttotal: 6m 35s\tremaining: 7m 8s\n",
      "48:\tlearn: 0.0016514\ttotal: 6m 37s\tremaining: 6m 54s\n",
      "49:\tlearn: 0.0016180\ttotal: 6m 46s\tremaining: 6m 46s\n",
      "50:\tlearn: 0.0015873\ttotal: 6m 55s\tremaining: 6m 38s\n",
      "51:\tlearn: 0.0015650\ttotal: 7m 3s\tremaining: 6m 31s\n",
      "52:\tlearn: 0.0015291\ttotal: 7m 12s\tremaining: 6m 23s\n",
      "53:\tlearn: 0.0015228\ttotal: 7m 21s\tremaining: 6m 15s\n",
      "54:\tlearn: 0.0015057\ttotal: 7m 29s\tremaining: 6m 8s\n",
      "55:\tlearn: 0.0015056\ttotal: 7m 32s\tremaining: 5m 55s\n",
      "56:\tlearn: 0.0015056\ttotal: 7m 35s\tremaining: 5m 43s\n",
      "57:\tlearn: 0.0014883\ttotal: 7m 44s\tremaining: 5m 36s\n",
      "58:\tlearn: 0.0014549\ttotal: 7m 54s\tremaining: 5m 30s\n",
      "59:\tlearn: 0.0014245\ttotal: 8m 4s\tremaining: 5m 22s\n",
      "60:\tlearn: 0.0013953\ttotal: 8m 13s\tremaining: 5m 15s\n",
      "61:\tlearn: 0.0013759\ttotal: 8m 22s\tremaining: 5m 8s\n",
      "62:\tlearn: 0.0013758\ttotal: 8m 25s\tremaining: 4m 56s\n",
      "63:\tlearn: 0.0013175\ttotal: 8m 34s\tremaining: 4m 49s\n",
      "64:\tlearn: 0.0013011\ttotal: 8m 43s\tremaining: 4m 42s\n",
      "65:\tlearn: 0.0012821\ttotal: 8m 52s\tremaining: 4m 34s\n",
      "66:\tlearn: 0.0012757\ttotal: 9m 1s\tremaining: 4m 26s\n",
      "67:\tlearn: 0.0012456\ttotal: 9m 10s\tremaining: 4m 18s\n",
      "68:\tlearn: 0.0012370\ttotal: 9m 18s\tremaining: 4m 10s\n",
      "69:\tlearn: 0.0012154\ttotal: 9m 27s\tremaining: 4m 3s\n",
      "70:\tlearn: 0.0012035\ttotal: 9m 35s\tremaining: 3m 55s\n",
      "71:\tlearn: 0.0011876\ttotal: 9m 44s\tremaining: 3m 47s\n",
      "72:\tlearn: 0.0011730\ttotal: 9m 53s\tremaining: 3m 39s\n",
      "73:\tlearn: 0.0011620\ttotal: 10m 2s\tremaining: 3m 31s\n",
      "74:\tlearn: 0.0011414\ttotal: 10m 10s\tremaining: 3m 23s\n",
      "75:\tlearn: 0.0011244\ttotal: 10m 19s\tremaining: 3m 15s\n",
      "76:\tlearn: 0.0011001\ttotal: 10m 27s\tremaining: 3m 7s\n",
      "77:\tlearn: 0.0010909\ttotal: 10m 36s\tremaining: 2m 59s\n",
      "78:\tlearn: 0.0010825\ttotal: 10m 44s\tremaining: 2m 51s\n",
      "79:\tlearn: 0.0010770\ttotal: 10m 53s\tremaining: 2m 43s\n",
      "80:\tlearn: 0.0010472\ttotal: 11m 2s\tremaining: 2m 35s\n",
      "81:\tlearn: 0.0010381\ttotal: 11m 10s\tremaining: 2m 27s\n",
      "82:\tlearn: 0.0010328\ttotal: 11m 19s\tremaining: 2m 19s\n",
      "83:\tlearn: 0.0010251\ttotal: 11m 27s\tremaining: 2m 11s\n",
      "84:\tlearn: 0.0010079\ttotal: 11m 36s\tremaining: 2m 2s\n",
      "85:\tlearn: 0.0009986\ttotal: 11m 45s\tremaining: 1m 54s\n",
      "86:\tlearn: 0.0009829\ttotal: 11m 54s\tremaining: 1m 46s\n",
      "87:\tlearn: 0.0009700\ttotal: 12m 3s\tremaining: 1m 38s\n",
      "88:\tlearn: 0.0009617\ttotal: 12m 11s\tremaining: 1m 30s\n",
      "89:\tlearn: 0.0009374\ttotal: 12m 20s\tremaining: 1m 22s\n",
      "90:\tlearn: 0.0009250\ttotal: 12m 28s\tremaining: 1m 14s\n",
      "91:\tlearn: 0.0009185\ttotal: 12m 37s\tremaining: 1m 5s\n",
      "92:\tlearn: 0.0009057\ttotal: 12m 46s\tremaining: 57.7s\n",
      "93:\tlearn: 0.0008935\ttotal: 12m 54s\tremaining: 49.4s\n",
      "94:\tlearn: 0.0008839\ttotal: 13m 3s\tremaining: 41.2s\n",
      "95:\tlearn: 0.0008785\ttotal: 13m 12s\tremaining: 33s\n",
      "96:\tlearn: 0.0008669\ttotal: 13m 21s\tremaining: 24.8s\n",
      "97:\tlearn: 0.0008646\ttotal: 13m 29s\tremaining: 16.5s\n",
      "98:\tlearn: 0.0008497\ttotal: 13m 38s\tremaining: 8.27s\n",
      "99:\tlearn: 0.0008385\ttotal: 13m 48s\tremaining: 0us\n"
     ]
    },
    {
     "data": {
      "text/plain": [
       "<catboost.core.CatBoostClassifier at 0x1d32fb6afb0>"
      ]
     },
     "execution_count": 18,
     "metadata": {},
     "output_type": "execute_result"
    }
   ],
   "source": [
    "# Define the Random Forest model for EW\n",
    "model_EW = CatBoostClassifier(n_estimators=100, random_state=42)\n",
    "# Fit the model to the training data for EW\n",
    "model_EW.fit(train_data[updated_feature_cols+list(added_proba_feature_NS.columns)], train_data['EW_encoded'])"
   ]
  },
  {
   "cell_type": "code",
   "execution_count": 19,
   "metadata": {
    "tags": []
   },
   "outputs": [],
   "source": [
    "added_proba_feature_EW = pd.DataFrame( model_EW.predict_proba(train_data[model_EW.feature_names_])).add_prefix('proba_feature_EW_')\n",
    "added_proba_feature_EW.index = train_data.index\n",
    "train_data = pd.concat([train_data,added_proba_feature_EW] ,axis=1)\n",
    "\n",
    "added_proba_feature_EW = pd.DataFrame( model_EW.predict_proba(valid_data[model_EW.feature_names_])).add_prefix('proba_feature_EW_')\n",
    "added_proba_feature_EW.index = valid_data.index\n",
    "valid_data = pd.concat([valid_data,added_proba_feature_EW] ,axis=1)"
   ]
  },
  {
   "cell_type": "code",
   "execution_count": 20,
   "metadata": {
    "scrolled": true,
    "tags": []
   },
   "outputs": [
    {
     "name": "stdout",
     "output_type": "stream",
     "text": [
      "Learning rate set to 0.5\n",
      "0:\tlearn: 0.1718225\ttotal: 2.71s\tremaining: 4m 28s\n",
      "1:\tlearn: 0.0994748\ttotal: 4.57s\tremaining: 3m 43s\n",
      "2:\tlearn: 0.0594433\ttotal: 6.58s\tremaining: 3m 32s\n",
      "3:\tlearn: 0.0366316\ttotal: 8.68s\tremaining: 3m 28s\n",
      "4:\tlearn: 0.0231248\ttotal: 11.1s\tremaining: 3m 31s\n",
      "5:\tlearn: 0.0151145\ttotal: 12.5s\tremaining: 3m 16s\n",
      "6:\tlearn: 0.0102609\ttotal: 14s\tremaining: 3m 5s\n",
      "7:\tlearn: 0.0073451\ttotal: 16.2s\tremaining: 3m 5s\n",
      "8:\tlearn: 0.0057069\ttotal: 18.2s\tremaining: 3m 4s\n",
      "9:\tlearn: 0.0046977\ttotal: 19.5s\tremaining: 2m 55s\n",
      "10:\tlearn: 0.0039203\ttotal: 21.3s\tremaining: 2m 52s\n",
      "11:\tlearn: 0.0034107\ttotal: 22.9s\tremaining: 2m 47s\n",
      "12:\tlearn: 0.0030335\ttotal: 24.7s\tremaining: 2m 45s\n",
      "13:\tlearn: 0.0028321\ttotal: 26.3s\tremaining: 2m 41s\n",
      "14:\tlearn: 0.0026880\ttotal: 27.6s\tremaining: 2m 36s\n",
      "15:\tlearn: 0.0026198\ttotal: 29.5s\tremaining: 2m 35s\n",
      "16:\tlearn: 0.0025787\ttotal: 30.8s\tremaining: 2m 30s\n",
      "17:\tlearn: 0.0024459\ttotal: 32.3s\tremaining: 2m 26s\n",
      "18:\tlearn: 0.0023896\ttotal: 33.6s\tremaining: 2m 23s\n",
      "19:\tlearn: 0.0023238\ttotal: 36s\tremaining: 2m 24s\n",
      "20:\tlearn: 0.0022902\ttotal: 37.7s\tremaining: 2m 21s\n",
      "21:\tlearn: 0.0022836\ttotal: 38.8s\tremaining: 2m 17s\n",
      "22:\tlearn: 0.0022047\ttotal: 40.5s\tremaining: 2m 15s\n",
      "23:\tlearn: 0.0021708\ttotal: 42.4s\tremaining: 2m 14s\n",
      "24:\tlearn: 0.0021372\ttotal: 44.3s\tremaining: 2m 13s\n",
      "25:\tlearn: 0.0021326\ttotal: 45.7s\tremaining: 2m 10s\n",
      "26:\tlearn: 0.0021305\ttotal: 47s\tremaining: 2m 7s\n",
      "27:\tlearn: 0.0021229\ttotal: 48.2s\tremaining: 2m 3s\n",
      "28:\tlearn: 0.0021079\ttotal: 49.3s\tremaining: 2m\n",
      "29:\tlearn: 0.0020894\ttotal: 50.8s\tremaining: 1m 58s\n",
      "30:\tlearn: 0.0020842\ttotal: 51.9s\tremaining: 1m 55s\n",
      "31:\tlearn: 0.0020763\ttotal: 53.2s\tremaining: 1m 52s\n",
      "32:\tlearn: 0.0020737\ttotal: 54.5s\tremaining: 1m 50s\n",
      "33:\tlearn: 0.0020650\ttotal: 55.7s\tremaining: 1m 48s\n",
      "34:\tlearn: 0.0020365\ttotal: 56.7s\tremaining: 1m 45s\n",
      "35:\tlearn: 0.0020032\ttotal: 58.7s\tremaining: 1m 44s\n",
      "36:\tlearn: 0.0019986\ttotal: 59.8s\tremaining: 1m 41s\n",
      "37:\tlearn: 0.0019966\ttotal: 1m 1s\tremaining: 1m 39s\n",
      "38:\tlearn: 0.0019900\ttotal: 1m 2s\tremaining: 1m 37s\n",
      "39:\tlearn: 0.0019643\ttotal: 1m 3s\tremaining: 1m 35s\n",
      "40:\tlearn: 0.0019480\ttotal: 1m 4s\tremaining: 1m 33s\n",
      "41:\tlearn: 0.0019156\ttotal: 1m 6s\tremaining: 1m 32s\n",
      "42:\tlearn: 0.0018841\ttotal: 1m 8s\tremaining: 1m 30s\n",
      "43:\tlearn: 0.0018704\ttotal: 1m 9s\tremaining: 1m 28s\n",
      "44:\tlearn: 0.0018507\ttotal: 1m 10s\tremaining: 1m 26s\n",
      "45:\tlearn: 0.0018027\ttotal: 1m 11s\tremaining: 1m 24s\n",
      "46:\tlearn: 0.0017766\ttotal: 1m 13s\tremaining: 1m 22s\n",
      "47:\tlearn: 0.0017467\ttotal: 1m 14s\tremaining: 1m 20s\n",
      "48:\tlearn: 0.0017373\ttotal: 1m 15s\tremaining: 1m 18s\n",
      "49:\tlearn: 0.0017117\ttotal: 1m 17s\tremaining: 1m 17s\n",
      "50:\tlearn: 0.0016968\ttotal: 1m 18s\tremaining: 1m 15s\n",
      "51:\tlearn: 0.0016874\ttotal: 1m 20s\tremaining: 1m 13s\n",
      "52:\tlearn: 0.0016706\ttotal: 1m 21s\tremaining: 1m 12s\n",
      "53:\tlearn: 0.0016602\ttotal: 1m 22s\tremaining: 1m 10s\n",
      "54:\tlearn: 0.0016552\ttotal: 1m 23s\tremaining: 1m 8s\n",
      "55:\tlearn: 0.0016383\ttotal: 1m 25s\tremaining: 1m 7s\n",
      "56:\tlearn: 0.0016348\ttotal: 1m 26s\tremaining: 1m 5s\n",
      "57:\tlearn: 0.0016310\ttotal: 1m 27s\tremaining: 1m 3s\n",
      "58:\tlearn: 0.0016126\ttotal: 1m 29s\tremaining: 1m 2s\n",
      "59:\tlearn: 0.0016022\ttotal: 1m 30s\tremaining: 1m\n",
      "60:\tlearn: 0.0015878\ttotal: 1m 31s\tremaining: 58.6s\n",
      "61:\tlearn: 0.0015791\ttotal: 1m 32s\tremaining: 57s\n",
      "62:\tlearn: 0.0015519\ttotal: 1m 34s\tremaining: 55.4s\n",
      "63:\tlearn: 0.0015420\ttotal: 1m 35s\tremaining: 53.9s\n",
      "64:\tlearn: 0.0015338\ttotal: 1m 37s\tremaining: 52.4s\n",
      "65:\tlearn: 0.0015080\ttotal: 1m 38s\tremaining: 50.9s\n",
      "66:\tlearn: 0.0014931\ttotal: 1m 40s\tremaining: 49.4s\n",
      "67:\tlearn: 0.0014882\ttotal: 1m 41s\tremaining: 47.6s\n",
      "68:\tlearn: 0.0014761\ttotal: 1m 42s\tremaining: 46s\n",
      "69:\tlearn: 0.0014653\ttotal: 1m 43s\tremaining: 44.6s\n",
      "70:\tlearn: 0.0014494\ttotal: 1m 45s\tremaining: 43s\n",
      "71:\tlearn: 0.0014364\ttotal: 1m 46s\tremaining: 41.6s\n",
      "72:\tlearn: 0.0014240\ttotal: 1m 48s\tremaining: 40.3s\n",
      "73:\tlearn: 0.0014103\ttotal: 1m 50s\tremaining: 38.9s\n",
      "74:\tlearn: 0.0014063\ttotal: 1m 51s\tremaining: 37.2s\n",
      "75:\tlearn: 0.0014005\ttotal: 1m 52s\tremaining: 35.6s\n",
      "76:\tlearn: 0.0013979\ttotal: 1m 53s\tremaining: 34s\n",
      "77:\tlearn: 0.0013841\ttotal: 1m 56s\tremaining: 32.8s\n",
      "78:\tlearn: 0.0013808\ttotal: 1m 57s\tremaining: 31.2s\n",
      "79:\tlearn: 0.0013716\ttotal: 1m 59s\tremaining: 29.8s\n",
      "80:\tlearn: 0.0013433\ttotal: 2m 1s\tremaining: 28.4s\n",
      "81:\tlearn: 0.0013355\ttotal: 2m 2s\tremaining: 26.9s\n",
      "82:\tlearn: 0.0013303\ttotal: 2m 3s\tremaining: 25.4s\n",
      "83:\tlearn: 0.0012967\ttotal: 2m 5s\tremaining: 24s\n",
      "84:\tlearn: 0.0012800\ttotal: 2m 7s\tremaining: 22.4s\n",
      "85:\tlearn: 0.0012773\ttotal: 2m 8s\tremaining: 20.9s\n",
      "86:\tlearn: 0.0012713\ttotal: 2m 9s\tremaining: 19.3s\n",
      "87:\tlearn: 0.0012592\ttotal: 2m 10s\tremaining: 17.8s\n",
      "88:\tlearn: 0.0012456\ttotal: 2m 12s\tremaining: 16.4s\n",
      "89:\tlearn: 0.0012404\ttotal: 2m 14s\tremaining: 14.9s\n",
      "90:\tlearn: 0.0012329\ttotal: 2m 15s\tremaining: 13.4s\n",
      "91:\tlearn: 0.0012263\ttotal: 2m 16s\tremaining: 11.9s\n",
      "92:\tlearn: 0.0012199\ttotal: 2m 17s\tremaining: 10.4s\n",
      "93:\tlearn: 0.0012142\ttotal: 2m 19s\tremaining: 8.88s\n",
      "94:\tlearn: 0.0012115\ttotal: 2m 20s\tremaining: 7.38s\n",
      "95:\tlearn: 0.0012086\ttotal: 2m 21s\tremaining: 5.89s\n",
      "96:\tlearn: 0.0012037\ttotal: 2m 22s\tremaining: 4.41s\n",
      "97:\tlearn: 0.0011846\ttotal: 2m 23s\tremaining: 2.93s\n",
      "98:\tlearn: 0.0011598\ttotal: 2m 25s\tremaining: 1.47s\n",
      "99:\tlearn: 0.0011529\ttotal: 2m 26s\tremaining: 0us\n"
     ]
    },
    {
     "data": {
      "text/plain": [
       "<catboost.core.CatBoostClassifier at 0x1d331295060>"
      ]
     },
     "execution_count": 20,
     "metadata": {},
     "output_type": "execute_result"
    }
   ],
   "source": [
    "# Define the Random Forest model for NS\n",
    "model_NS = CatBoostClassifier(n_estimators=100, random_state=42)\n",
    "# Fit the model to the training data for NS\n",
    "model_NS.fit(train_data[updated_feature_cols+list(added_proba_feature_EW.columns)], train_data['NS_encoded'])"
   ]
  },
  {
   "cell_type": "markdown",
   "metadata": {},
   "source": [
    "### Test part"
   ]
  },
  {
   "cell_type": "code",
   "execution_count": 21,
   "metadata": {
    "tags": []
   },
   "outputs": [],
   "source": [
    "# # Load the trained models (don't use the utils module, use pickle)\n",
    "# model_EW = pickle.load(open( 'trained_model/model_EW.pkl', 'rb'))\n",
    "# model_NS = pickle.load(open('trained_model/model_NS.pkl', 'rb'))\n",
    "# model_NS_preprocess = pickle.load(\n",
    "#     open( 'trained_model/model_NS_preprocess.pkl', 'rb'))\n",
    "# le_EW = pickle.load(open( 'trained_model/le_EW.pkl', 'rb'))\n",
    "# le_NS = pickle.load(open(  'trained_model/le_NS.pkl', 'rb'))"
   ]
  },
  {
   "cell_type": "code",
   "execution_count": 33,
   "metadata": {
    "tags": []
   },
   "outputs": [],
   "source": [
    "def do_prediction(model,data,thresh,thresh_add):\n",
    "    def top_k(x,k):\n",
    "        ind=np.argpartition(x,-1*k)[-1*k:]\n",
    "        return ind[np.argsort(x[ind])]\n",
    "    def top_k_values(x,k):\n",
    "        ind=np.argpartition(x,-1*k)[-1*k:]\n",
    "        return x[ind][np.argsort(x[ind])]\n",
    "    \n",
    "    pred_proba = pd.DataFrame(model.predict(data,prediction_type='Probability'))\n",
    "    pred = pred_proba.idxmax(1)\n",
    "    print('Num of ex to cut: ',sum(pred_proba.max(1)<thresh))\n",
    "    nothing_index = pred.value_counts().index[0]\n",
    "    pred.loc[pred_proba.max(1)<thresh] = nothing_index\n",
    "    \n",
    "    top_proba = pd.DataFrame(np.apply_along_axis(lambda x: top_k(x,2),1,pred_proba.to_numpy()))\n",
    "    top_proba_values = pd.DataFrame(np.apply_along_axis(lambda x: top_k_values(x,2),1,pred_proba.to_numpy()))\n",
    "    # print(top_proba)\n",
    "    # print(pred_proba*100)\n",
    "    # print(top_proba_values*100)\n",
    "    compt=0\n",
    "    for i in range(len(top_proba)):\n",
    "        if top_proba.iloc[i,1] == nothing_index:\n",
    "            if top_proba_values.iloc[i,0]>thresh_add:\n",
    "                compt +=1\n",
    "                pred.iloc[i] = top_proba.iloc[i,0]\n",
    "    print('Num of ex to add: ',compt)\n",
    "    pred = pred.to_numpy().reshape(-1,1)\n",
    "    return pred"
   ]
  },
  {
   "cell_type": "code",
   "execution_count": null,
   "metadata": {
    "tags": []
   },
   "outputs": [],
   "source": [
    "#pd.Series(model_EW.feature_importances_,index=model_EW.feature_names_).sort_values().tail(50)"
   ]
  },
  {
   "cell_type": "code",
   "execution_count": null,
   "metadata": {
    "tags": []
   },
   "outputs": [],
   "source": [
    "# model_NS = pickle.load(open('trained_model/model_NS_small.pkl','rb'))\n",
    "# model_EW = pickle.load(open('trained_model/model_EW_small.pkl','rb'))\n",
    "# from sklearn.metrics import fbeta_score, precision_score, recall_score\n",
    "# valid_data['EW_encoded'] = le_EW.transform(valid_data['EW'])\n",
    "# valid_data['NS_encoded'] = le_NS.transform(valid_data['NS'])\n",
    "# recall_score(valid_data['NS_encoded'],pd.DataFrame(model_NS.predict(valid_data[updated_feature_cols]))[0],average='macro')\n",
    "# recall_score(valid_data['EW_encoded'].to_numpy().reshape(-1,1),model_EW.predict(valid_data[updated_feature_cols]),average='macro')"
   ]
  },
  {
   "cell_type": "markdown",
   "metadata": {
    "jp-MarkdownHeadingCollapsed": true,
    "tags": []
   },
   "source": [
    "### Score Train"
   ]
  },
  {
   "cell_type": "code",
   "execution_count": 18,
   "metadata": {
    "tags": []
   },
   "outputs": [],
   "source": [
    "threshold_ew = 0.1\n",
    "threshold_ns = 0.1\n",
    "tresh_add_ew = 0.03\n",
    "tresh_add_ns = 0.03"
   ]
  },
  {
   "cell_type": "code",
   "execution_count": 23,
   "metadata": {
    "scrolled": true,
    "tags": []
   },
   "outputs": [
    {
     "name": "stdout",
     "output_type": "stream",
     "text": [
      "Num of ex to cut 0\n",
      "238\n"
     ]
    },
    {
     "name": "stderr",
     "output_type": "stream",
     "text": [
      "C:\\Appli\\main_env\\lib\\site-packages\\sklearn\\preprocessing\\_label.py:153: DataConversionWarning: A column-vector y was passed when a 1d array was expected. Please change the shape of y to (n_samples, ), for example using ravel().\n",
      "  y = column_or_1d(y, warn=True)\n"
     ]
    },
    {
     "name": "stdout",
     "output_type": "stream",
     "text": [
      "Num of ex to cut 0\n",
      "812\n"
     ]
    },
    {
     "name": "stderr",
     "output_type": "stream",
     "text": [
      "C:\\Appli\\main_env\\lib\\site-packages\\sklearn\\preprocessing\\_label.py:153: DataConversionWarning: A column-vector y was passed when a 1d array was expected. Please change the shape of y to (n_samples, ), for example using ravel().\n",
      "  y = column_or_1d(y, warn=True)\n",
      "C:\\Users\\isaac\\Documents\\Challenge_Francois\\splid-devkit\\baseline_submissions\\isaac_ml\\utils_isaac.py:231: FutureWarning: Not prepending group keys to the result index of transform-like apply. In the future, the group keys will be included in the index, regardless of whether the applied function returns a like-indexed object.\n",
      "To preserve the previous behavior, use\n",
      "\n",
      "\t>>> .groupby(..., group_keys=False)\n",
      "\n",
      "To adopt the future behavior and silence this warning, use \n",
      "\n",
      "\t>>> .groupby(..., group_keys=True)\n",
      "  keep = groups[['Node', 'Type']].apply(\n"
     ]
    },
    {
     "name": "stdout",
     "output_type": "stream",
     "text": [
      "------------------------------------\n",
      "0.1 0.1\n",
      "Precision for the train set: 0.86\n",
      "Recall for the train set: 0.90\n",
      "F2 for the train set: 0.89\n",
      "RMSE for the train set: 0.21\n"
     ]
    }
   ],
   "source": [
    "# for threshold_ew in [0.3,0.4,0.5,0.6,0.7]:\n",
    "#     for threshold_ns in [0.3,0.4,0.5,0.6,0.7]:\n",
    "        # Make predictions on the training data for EW\n",
    "train_data['Predicted_EW'] = le_EW.inverse_transform(\n",
    "    #model_EW.predict(train_data[updated_feature_cols])\n",
    "    do_prediction(model_EW,train_data[model_EW.feature_names_],threshold_ew,tresh_add_ew)\n",
    ")\n",
    "\n",
    "# Make predictions on the validation data for NS\n",
    "train_data['Predicted_NS'] = le_NS.inverse_transform(\n",
    "    #model_NS.predict(train_data[updated_feature_cols])\n",
    "    do_prediction(model_NS,train_data[model_NS.feature_names_],threshold_ns,tresh_add_ns)\n",
    ")\n",
    "\n",
    "train_data['Predicted_EW'] = train_data['Predicted_EW'].mask(train_data['Predicted_EW']=='Nothing').ffill()\n",
    "train_data['Predicted_NS'] = train_data['Predicted_NS'].mask(train_data['Predicted_NS']=='Nothing').ffill() \n",
    "\n",
    "# # Print the first few rows of the test data with predictions for both EW and NS\n",
    "# train_data[['TimeIndex', 'ObjectID', 'EW', \n",
    "#             'Predicted_EW', 'NS', 'Predicted_NS']].groupby('ObjectID').head(3)\n",
    "\n",
    "train_results = utils.convert_classifier_output(train_data)\n",
    "train_results.loc[train_results.TimeIndex==0,'Node'] = 'SS'\n",
    "evaluator_train = evaluation.NodeDetectionEvaluator(ground_truth_train, train_results, \n",
    "                                              tolerance=config.tolerance)\n",
    "precision, recall, f2, rmse = evaluator_train.score()\n",
    "print('---------'*4)\n",
    "print(threshold_ew,threshold_ns)\n",
    "print(f'Precision for the train set: {precision:.2f}')\n",
    "print(f'Recall for the train set: {recall:.2f}')\n",
    "print(f'F2 for the train set: {f2:.2f}')\n",
    "print(f'RMSE for the train set: {rmse:.2f}')"
   ]
  },
  {
   "cell_type": "code",
   "execution_count": null,
   "metadata": {},
   "outputs": [],
   "source": [
    "# ground_truth_train.loc[ground_truth_train.ObjectID == 141]\n",
    "# train_results.loc[train_results.ObjectID == 141]"
   ]
  },
  {
   "cell_type": "markdown",
   "metadata": {},
   "source": [
    "###  Score test"
   ]
  },
  {
   "cell_type": "code",
   "execution_count": 44,
   "metadata": {
    "tags": []
   },
   "outputs": [],
   "source": [
    "threshold_ew = 0.1\n",
    "threshold_ns = 0.1\n",
    "tresh_add_ew = 0.20\n",
    "tresh_add_ns = 0.30"
   ]
  },
  {
   "cell_type": "code",
   "execution_count": 47,
   "metadata": {
    "tags": []
   },
   "outputs": [
    {
     "name": "stdout",
     "output_type": "stream",
     "text": [
      "0\n",
      "5\n",
      "10\n",
      "15\n",
      "20\n",
      "25\n",
      "30\n",
      "35\n"
     ]
    }
   ],
   "source": [
    "for i in range(0,40,5):\n",
    "    print(i)"
   ]
  },
  {
   "cell_type": "code",
   "execution_count": 50,
   "metadata": {
    "tags": []
   },
   "outputs": [],
   "source": []
  },
  {
   "cell_type": "code",
   "execution_count": 51,
   "metadata": {
    "scrolled": true,
    "tags": []
   },
   "outputs": [
    {
     "name": "stdout",
     "output_type": "stream",
     "text": [
      "---------------------------------------------------------------------------\n",
      "0.01 0.01\n",
      "Num of ex to cut:  0\n",
      "Num of ex to add:  75\n",
      "Num of ex to cut:  0\n"
     ]
    },
    {
     "name": "stderr",
     "output_type": "stream",
     "text": [
      "C:\\Appli\\main_env\\lib\\site-packages\\sklearn\\preprocessing\\_label.py:153: DataConversionWarning: A column-vector y was passed when a 1d array was expected. Please change the shape of y to (n_samples, ), for example using ravel().\n",
      "  y = column_or_1d(y, warn=True)\n"
     ]
    },
    {
     "name": "stdout",
     "output_type": "stream",
     "text": [
      "Num of ex to add:  259\n"
     ]
    },
    {
     "name": "stderr",
     "output_type": "stream",
     "text": [
      "C:\\Appli\\main_env\\lib\\site-packages\\sklearn\\preprocessing\\_label.py:153: DataConversionWarning: A column-vector y was passed when a 1d array was expected. Please change the shape of y to (n_samples, ), for example using ravel().\n",
      "  y = column_or_1d(y, warn=True)\n",
      "C:\\Users\\isaac\\Documents\\Challenge_Francois\\splid-devkit\\baseline_submissions\\isaac_ml\\utils_isaac.py:231: FutureWarning: Not prepending group keys to the result index of transform-like apply. In the future, the group keys will be included in the index, regardless of whether the applied function returns a like-indexed object.\n",
      "To preserve the previous behavior, use\n",
      "\n",
      "\t>>> .groupby(..., group_keys=False)\n",
      "\n",
      "To adopt the future behavior and silence this warning, use \n",
      "\n",
      "\t>>> .groupby(..., group_keys=True)\n",
      "  keep = groups[['Node', 'Type']].apply(\n"
     ]
    },
    {
     "name": "stdout",
     "output_type": "stream",
     "text": [
      "Precision for the validation set: 0.73\n",
      "Recall for the validation set: 0.85\n",
      "F2 for the validation set: 0.83\n",
      "RMSE for the validation set: 0.27\n",
      "---------------------------------------------------------------------------\n",
      "0.01 0.06\n",
      "Num of ex to cut:  0\n",
      "Num of ex to add:  75\n"
     ]
    },
    {
     "name": "stderr",
     "output_type": "stream",
     "text": [
      "C:\\Appli\\main_env\\lib\\site-packages\\sklearn\\preprocessing\\_label.py:153: DataConversionWarning: A column-vector y was passed when a 1d array was expected. Please change the shape of y to (n_samples, ), for example using ravel().\n",
      "  y = column_or_1d(y, warn=True)\n"
     ]
    },
    {
     "name": "stdout",
     "output_type": "stream",
     "text": [
      "Num of ex to cut:  0\n",
      "Num of ex to add:  38\n"
     ]
    },
    {
     "name": "stderr",
     "output_type": "stream",
     "text": [
      "C:\\Appli\\main_env\\lib\\site-packages\\sklearn\\preprocessing\\_label.py:153: DataConversionWarning: A column-vector y was passed when a 1d array was expected. Please change the shape of y to (n_samples, ), for example using ravel().\n",
      "  y = column_or_1d(y, warn=True)\n",
      "C:\\Users\\isaac\\Documents\\Challenge_Francois\\splid-devkit\\baseline_submissions\\isaac_ml\\utils_isaac.py:231: FutureWarning: Not prepending group keys to the result index of transform-like apply. In the future, the group keys will be included in the index, regardless of whether the applied function returns a like-indexed object.\n",
      "To preserve the previous behavior, use\n",
      "\n",
      "\t>>> .groupby(..., group_keys=False)\n",
      "\n",
      "To adopt the future behavior and silence this warning, use \n",
      "\n",
      "\t>>> .groupby(..., group_keys=True)\n",
      "  keep = groups[['Node', 'Type']].apply(\n"
     ]
    },
    {
     "name": "stdout",
     "output_type": "stream",
     "text": [
      "Precision for the validation set: 0.87\n",
      "Recall for the validation set: 0.88\n",
      "F2 for the validation set: 0.88\n",
      "RMSE for the validation set: 0.26\n",
      "---------------------------------------------------------------------------\n",
      "0.01 0.11\n",
      "Num of ex to cut:  0\n",
      "Num of ex to add:  75\n"
     ]
    },
    {
     "name": "stderr",
     "output_type": "stream",
     "text": [
      "C:\\Appli\\main_env\\lib\\site-packages\\sklearn\\preprocessing\\_label.py:153: DataConversionWarning: A column-vector y was passed when a 1d array was expected. Please change the shape of y to (n_samples, ), for example using ravel().\n",
      "  y = column_or_1d(y, warn=True)\n"
     ]
    },
    {
     "name": "stdout",
     "output_type": "stream",
     "text": [
      "Num of ex to cut:  0\n",
      "Num of ex to add:  27\n"
     ]
    },
    {
     "name": "stderr",
     "output_type": "stream",
     "text": [
      "C:\\Appli\\main_env\\lib\\site-packages\\sklearn\\preprocessing\\_label.py:153: DataConversionWarning: A column-vector y was passed when a 1d array was expected. Please change the shape of y to (n_samples, ), for example using ravel().\n",
      "  y = column_or_1d(y, warn=True)\n",
      "C:\\Users\\isaac\\Documents\\Challenge_Francois\\splid-devkit\\baseline_submissions\\isaac_ml\\utils_isaac.py:231: FutureWarning: Not prepending group keys to the result index of transform-like apply. In the future, the group keys will be included in the index, regardless of whether the applied function returns a like-indexed object.\n",
      "To preserve the previous behavior, use\n",
      "\n",
      "\t>>> .groupby(..., group_keys=False)\n",
      "\n",
      "To adopt the future behavior and silence this warning, use \n",
      "\n",
      "\t>>> .groupby(..., group_keys=True)\n",
      "  keep = groups[['Node', 'Type']].apply(\n"
     ]
    },
    {
     "name": "stdout",
     "output_type": "stream",
     "text": [
      "Precision for the validation set: 0.87\n",
      "Recall for the validation set: 0.88\n",
      "F2 for the validation set: 0.88\n",
      "RMSE for the validation set: 0.27\n",
      "---------------------------------------------------------------------------\n",
      "0.01 0.16\n",
      "Num of ex to cut:  0\n",
      "Num of ex to add:  75\n"
     ]
    },
    {
     "name": "stderr",
     "output_type": "stream",
     "text": [
      "C:\\Appli\\main_env\\lib\\site-packages\\sklearn\\preprocessing\\_label.py:153: DataConversionWarning: A column-vector y was passed when a 1d array was expected. Please change the shape of y to (n_samples, ), for example using ravel().\n",
      "  y = column_or_1d(y, warn=True)\n"
     ]
    },
    {
     "name": "stdout",
     "output_type": "stream",
     "text": [
      "Num of ex to cut:  0\n",
      "Num of ex to add:  17\n"
     ]
    },
    {
     "name": "stderr",
     "output_type": "stream",
     "text": [
      "C:\\Appli\\main_env\\lib\\site-packages\\sklearn\\preprocessing\\_label.py:153: DataConversionWarning: A column-vector y was passed when a 1d array was expected. Please change the shape of y to (n_samples, ), for example using ravel().\n",
      "  y = column_or_1d(y, warn=True)\n",
      "C:\\Users\\isaac\\Documents\\Challenge_Francois\\splid-devkit\\baseline_submissions\\isaac_ml\\utils_isaac.py:231: FutureWarning: Not prepending group keys to the result index of transform-like apply. In the future, the group keys will be included in the index, regardless of whether the applied function returns a like-indexed object.\n",
      "To preserve the previous behavior, use\n",
      "\n",
      "\t>>> .groupby(..., group_keys=False)\n",
      "\n",
      "To adopt the future behavior and silence this warning, use \n",
      "\n",
      "\t>>> .groupby(..., group_keys=True)\n",
      "  keep = groups[['Node', 'Type']].apply(\n"
     ]
    },
    {
     "name": "stdout",
     "output_type": "stream",
     "text": [
      "Precision for the validation set: 0.89\n",
      "Recall for the validation set: 0.87\n",
      "F2 for the validation set: 0.88\n",
      "RMSE for the validation set: 0.27\n",
      "---------------------------------------------------------------------------\n",
      "0.01 0.21\n",
      "Num of ex to cut:  0\n",
      "Num of ex to add:  75\n"
     ]
    },
    {
     "name": "stderr",
     "output_type": "stream",
     "text": [
      "C:\\Appli\\main_env\\lib\\site-packages\\sklearn\\preprocessing\\_label.py:153: DataConversionWarning: A column-vector y was passed when a 1d array was expected. Please change the shape of y to (n_samples, ), for example using ravel().\n",
      "  y = column_or_1d(y, warn=True)\n"
     ]
    },
    {
     "name": "stdout",
     "output_type": "stream",
     "text": [
      "Num of ex to cut:  0\n",
      "Num of ex to add:  14\n"
     ]
    },
    {
     "name": "stderr",
     "output_type": "stream",
     "text": [
      "C:\\Appli\\main_env\\lib\\site-packages\\sklearn\\preprocessing\\_label.py:153: DataConversionWarning: A column-vector y was passed when a 1d array was expected. Please change the shape of y to (n_samples, ), for example using ravel().\n",
      "  y = column_or_1d(y, warn=True)\n",
      "C:\\Users\\isaac\\Documents\\Challenge_Francois\\splid-devkit\\baseline_submissions\\isaac_ml\\utils_isaac.py:231: FutureWarning: Not prepending group keys to the result index of transform-like apply. In the future, the group keys will be included in the index, regardless of whether the applied function returns a like-indexed object.\n",
      "To preserve the previous behavior, use\n",
      "\n",
      "\t>>> .groupby(..., group_keys=False)\n",
      "\n",
      "To adopt the future behavior and silence this warning, use \n",
      "\n",
      "\t>>> .groupby(..., group_keys=True)\n",
      "  keep = groups[['Node', 'Type']].apply(\n"
     ]
    },
    {
     "name": "stdout",
     "output_type": "stream",
     "text": [
      "Precision for the validation set: 0.89\n",
      "Recall for the validation set: 0.87\n",
      "F2 for the validation set: 0.87\n",
      "RMSE for the validation set: 0.26\n",
      "---------------------------------------------------------------------------\n",
      "0.01 0.26\n",
      "Num of ex to cut:  0\n",
      "Num of ex to add:  75\n",
      "Num of ex to cut:  0\n"
     ]
    },
    {
     "name": "stderr",
     "output_type": "stream",
     "text": [
      "C:\\Appli\\main_env\\lib\\site-packages\\sklearn\\preprocessing\\_label.py:153: DataConversionWarning: A column-vector y was passed when a 1d array was expected. Please change the shape of y to (n_samples, ), for example using ravel().\n",
      "  y = column_or_1d(y, warn=True)\n"
     ]
    },
    {
     "name": "stdout",
     "output_type": "stream",
     "text": [
      "Num of ex to add:  10\n"
     ]
    },
    {
     "name": "stderr",
     "output_type": "stream",
     "text": [
      "C:\\Appli\\main_env\\lib\\site-packages\\sklearn\\preprocessing\\_label.py:153: DataConversionWarning: A column-vector y was passed when a 1d array was expected. Please change the shape of y to (n_samples, ), for example using ravel().\n",
      "  y = column_or_1d(y, warn=True)\n",
      "C:\\Users\\isaac\\Documents\\Challenge_Francois\\splid-devkit\\baseline_submissions\\isaac_ml\\utils_isaac.py:231: FutureWarning: Not prepending group keys to the result index of transform-like apply. In the future, the group keys will be included in the index, regardless of whether the applied function returns a like-indexed object.\n",
      "To preserve the previous behavior, use\n",
      "\n",
      "\t>>> .groupby(..., group_keys=False)\n",
      "\n",
      "To adopt the future behavior and silence this warning, use \n",
      "\n",
      "\t>>> .groupby(..., group_keys=True)\n",
      "  keep = groups[['Node', 'Type']].apply(\n"
     ]
    },
    {
     "name": "stdout",
     "output_type": "stream",
     "text": [
      "Precision for the validation set: 0.90\n",
      "Recall for the validation set: 0.87\n",
      "F2 for the validation set: 0.88\n",
      "RMSE for the validation set: 0.26\n",
      "---------------------------------------------------------------------------\n",
      "0.01 0.31\n",
      "Num of ex to cut:  0\n",
      "Num of ex to add:  75\n",
      "Num of ex to cut:  0\n"
     ]
    },
    {
     "name": "stderr",
     "output_type": "stream",
     "text": [
      "C:\\Appli\\main_env\\lib\\site-packages\\sklearn\\preprocessing\\_label.py:153: DataConversionWarning: A column-vector y was passed when a 1d array was expected. Please change the shape of y to (n_samples, ), for example using ravel().\n",
      "  y = column_or_1d(y, warn=True)\n"
     ]
    },
    {
     "name": "stdout",
     "output_type": "stream",
     "text": [
      "Num of ex to add:  5\n"
     ]
    },
    {
     "name": "stderr",
     "output_type": "stream",
     "text": [
      "C:\\Appli\\main_env\\lib\\site-packages\\sklearn\\preprocessing\\_label.py:153: DataConversionWarning: A column-vector y was passed when a 1d array was expected. Please change the shape of y to (n_samples, ), for example using ravel().\n",
      "  y = column_or_1d(y, warn=True)\n",
      "C:\\Users\\isaac\\Documents\\Challenge_Francois\\splid-devkit\\baseline_submissions\\isaac_ml\\utils_isaac.py:231: FutureWarning: Not prepending group keys to the result index of transform-like apply. In the future, the group keys will be included in the index, regardless of whether the applied function returns a like-indexed object.\n",
      "To preserve the previous behavior, use\n",
      "\n",
      "\t>>> .groupby(..., group_keys=False)\n",
      "\n",
      "To adopt the future behavior and silence this warning, use \n",
      "\n",
      "\t>>> .groupby(..., group_keys=True)\n",
      "  keep = groups[['Node', 'Type']].apply(\n"
     ]
    },
    {
     "name": "stdout",
     "output_type": "stream",
     "text": [
      "Precision for the validation set: 0.91\n",
      "Recall for the validation set: 0.86\n",
      "F2 for the validation set: 0.87\n",
      "RMSE for the validation set: 0.26\n",
      "---------------------------------------------------------------------------\n",
      "0.01 0.36\n",
      "Num of ex to cut:  0\n",
      "Num of ex to add:  75\n"
     ]
    },
    {
     "name": "stderr",
     "output_type": "stream",
     "text": [
      "C:\\Appli\\main_env\\lib\\site-packages\\sklearn\\preprocessing\\_label.py:153: DataConversionWarning: A column-vector y was passed when a 1d array was expected. Please change the shape of y to (n_samples, ), for example using ravel().\n",
      "  y = column_or_1d(y, warn=True)\n"
     ]
    },
    {
     "name": "stdout",
     "output_type": "stream",
     "text": [
      "Num of ex to cut:  0\n",
      "Num of ex to add:  4\n"
     ]
    },
    {
     "name": "stderr",
     "output_type": "stream",
     "text": [
      "C:\\Appli\\main_env\\lib\\site-packages\\sklearn\\preprocessing\\_label.py:153: DataConversionWarning: A column-vector y was passed when a 1d array was expected. Please change the shape of y to (n_samples, ), for example using ravel().\n",
      "  y = column_or_1d(y, warn=True)\n",
      "C:\\Users\\isaac\\Documents\\Challenge_Francois\\splid-devkit\\baseline_submissions\\isaac_ml\\utils_isaac.py:231: FutureWarning: Not prepending group keys to the result index of transform-like apply. In the future, the group keys will be included in the index, regardless of whether the applied function returns a like-indexed object.\n",
      "To preserve the previous behavior, use\n",
      "\n",
      "\t>>> .groupby(..., group_keys=False)\n",
      "\n",
      "To adopt the future behavior and silence this warning, use \n",
      "\n",
      "\t>>> .groupby(..., group_keys=True)\n",
      "  keep = groups[['Node', 'Type']].apply(\n"
     ]
    },
    {
     "name": "stdout",
     "output_type": "stream",
     "text": [
      "Precision for the validation set: 0.91\n",
      "Recall for the validation set: 0.86\n",
      "F2 for the validation set: 0.87\n",
      "RMSE for the validation set: 0.26\n",
      "---------------------------------------------------------------------------\n",
      "0.06 0.01\n",
      "Num of ex to cut:  0\n",
      "Num of ex to add:  31\n"
     ]
    },
    {
     "name": "stderr",
     "output_type": "stream",
     "text": [
      "C:\\Appli\\main_env\\lib\\site-packages\\sklearn\\preprocessing\\_label.py:153: DataConversionWarning: A column-vector y was passed when a 1d array was expected. Please change the shape of y to (n_samples, ), for example using ravel().\n",
      "  y = column_or_1d(y, warn=True)\n"
     ]
    },
    {
     "name": "stdout",
     "output_type": "stream",
     "text": [
      "Num of ex to cut:  0\n",
      "Num of ex to add:  259\n"
     ]
    },
    {
     "name": "stderr",
     "output_type": "stream",
     "text": [
      "C:\\Appli\\main_env\\lib\\site-packages\\sklearn\\preprocessing\\_label.py:153: DataConversionWarning: A column-vector y was passed when a 1d array was expected. Please change the shape of y to (n_samples, ), for example using ravel().\n",
      "  y = column_or_1d(y, warn=True)\n",
      "C:\\Users\\isaac\\Documents\\Challenge_Francois\\splid-devkit\\baseline_submissions\\isaac_ml\\utils_isaac.py:231: FutureWarning: Not prepending group keys to the result index of transform-like apply. In the future, the group keys will be included in the index, regardless of whether the applied function returns a like-indexed object.\n",
      "To preserve the previous behavior, use\n",
      "\n",
      "\t>>> .groupby(..., group_keys=False)\n",
      "\n",
      "To adopt the future behavior and silence this warning, use \n",
      "\n",
      "\t>>> .groupby(..., group_keys=True)\n",
      "  keep = groups[['Node', 'Type']].apply(\n"
     ]
    },
    {
     "name": "stdout",
     "output_type": "stream",
     "text": [
      "Precision for the validation set: 0.76\n",
      "Recall for the validation set: 0.85\n",
      "F2 for the validation set: 0.83\n",
      "RMSE for the validation set: 0.19\n",
      "---------------------------------------------------------------------------\n",
      "0.06 0.06\n",
      "Num of ex to cut:  0\n",
      "Num of ex to add:  31\n"
     ]
    },
    {
     "name": "stderr",
     "output_type": "stream",
     "text": [
      "C:\\Appli\\main_env\\lib\\site-packages\\sklearn\\preprocessing\\_label.py:153: DataConversionWarning: A column-vector y was passed when a 1d array was expected. Please change the shape of y to (n_samples, ), for example using ravel().\n",
      "  y = column_or_1d(y, warn=True)\n"
     ]
    },
    {
     "name": "stdout",
     "output_type": "stream",
     "text": [
      "Num of ex to cut:  0\n",
      "Num of ex to add:  38\n"
     ]
    },
    {
     "name": "stderr",
     "output_type": "stream",
     "text": [
      "C:\\Appli\\main_env\\lib\\site-packages\\sklearn\\preprocessing\\_label.py:153: DataConversionWarning: A column-vector y was passed when a 1d array was expected. Please change the shape of y to (n_samples, ), for example using ravel().\n",
      "  y = column_or_1d(y, warn=True)\n",
      "C:\\Users\\isaac\\Documents\\Challenge_Francois\\splid-devkit\\baseline_submissions\\isaac_ml\\utils_isaac.py:231: FutureWarning: Not prepending group keys to the result index of transform-like apply. In the future, the group keys will be included in the index, regardless of whether the applied function returns a like-indexed object.\n",
      "To preserve the previous behavior, use\n",
      "\n",
      "\t>>> .groupby(..., group_keys=False)\n",
      "\n",
      "To adopt the future behavior and silence this warning, use \n",
      "\n",
      "\t>>> .groupby(..., group_keys=True)\n",
      "  keep = groups[['Node', 'Type']].apply(\n"
     ]
    },
    {
     "name": "stdout",
     "output_type": "stream",
     "text": [
      "Precision for the validation set: 0.90\n",
      "Recall for the validation set: 0.88\n",
      "F2 for the validation set: 0.88\n",
      "RMSE for the validation set: 0.18\n",
      "---------------------------------------------------------------------------\n",
      "0.06 0.11\n",
      "Num of ex to cut:  0\n",
      "Num of ex to add:  31\n"
     ]
    },
    {
     "name": "stderr",
     "output_type": "stream",
     "text": [
      "C:\\Appli\\main_env\\lib\\site-packages\\sklearn\\preprocessing\\_label.py:153: DataConversionWarning: A column-vector y was passed when a 1d array was expected. Please change the shape of y to (n_samples, ), for example using ravel().\n",
      "  y = column_or_1d(y, warn=True)\n"
     ]
    },
    {
     "name": "stdout",
     "output_type": "stream",
     "text": [
      "Num of ex to cut:  0\n",
      "Num of ex to add:  27\n"
     ]
    },
    {
     "name": "stderr",
     "output_type": "stream",
     "text": [
      "C:\\Appli\\main_env\\lib\\site-packages\\sklearn\\preprocessing\\_label.py:153: DataConversionWarning: A column-vector y was passed when a 1d array was expected. Please change the shape of y to (n_samples, ), for example using ravel().\n",
      "  y = column_or_1d(y, warn=True)\n",
      "C:\\Users\\isaac\\Documents\\Challenge_Francois\\splid-devkit\\baseline_submissions\\isaac_ml\\utils_isaac.py:231: FutureWarning: Not prepending group keys to the result index of transform-like apply. In the future, the group keys will be included in the index, regardless of whether the applied function returns a like-indexed object.\n",
      "To preserve the previous behavior, use\n",
      "\n",
      "\t>>> .groupby(..., group_keys=False)\n",
      "\n",
      "To adopt the future behavior and silence this warning, use \n",
      "\n",
      "\t>>> .groupby(..., group_keys=True)\n",
      "  keep = groups[['Node', 'Type']].apply(\n"
     ]
    },
    {
     "name": "stdout",
     "output_type": "stream",
     "text": [
      "Precision for the validation set: 0.91\n",
      "Recall for the validation set: 0.88\n",
      "F2 for the validation set: 0.88\n",
      "RMSE for the validation set: 0.19\n",
      "---------------------------------------------------------------------------\n",
      "0.06 0.16\n",
      "Num of ex to cut:  0\n",
      "Num of ex to add:  31\n"
     ]
    },
    {
     "name": "stderr",
     "output_type": "stream",
     "text": [
      "C:\\Appli\\main_env\\lib\\site-packages\\sklearn\\preprocessing\\_label.py:153: DataConversionWarning: A column-vector y was passed when a 1d array was expected. Please change the shape of y to (n_samples, ), for example using ravel().\n",
      "  y = column_or_1d(y, warn=True)\n"
     ]
    },
    {
     "name": "stdout",
     "output_type": "stream",
     "text": [
      "Num of ex to cut:  0\n",
      "Num of ex to add:  17\n"
     ]
    },
    {
     "name": "stderr",
     "output_type": "stream",
     "text": [
      "C:\\Appli\\main_env\\lib\\site-packages\\sklearn\\preprocessing\\_label.py:153: DataConversionWarning: A column-vector y was passed when a 1d array was expected. Please change the shape of y to (n_samples, ), for example using ravel().\n",
      "  y = column_or_1d(y, warn=True)\n",
      "C:\\Users\\isaac\\Documents\\Challenge_Francois\\splid-devkit\\baseline_submissions\\isaac_ml\\utils_isaac.py:231: FutureWarning: Not prepending group keys to the result index of transform-like apply. In the future, the group keys will be included in the index, regardless of whether the applied function returns a like-indexed object.\n",
      "To preserve the previous behavior, use\n",
      "\n",
      "\t>>> .groupby(..., group_keys=False)\n",
      "\n",
      "To adopt the future behavior and silence this warning, use \n",
      "\n",
      "\t>>> .groupby(..., group_keys=True)\n",
      "  keep = groups[['Node', 'Type']].apply(\n"
     ]
    },
    {
     "name": "stdout",
     "output_type": "stream",
     "text": [
      "Precision for the validation set: 0.92\n",
      "Recall for the validation set: 0.87\n",
      "F2 for the validation set: 0.88\n",
      "RMSE for the validation set: 0.19\n",
      "---------------------------------------------------------------------------\n",
      "0.06 0.21\n",
      "Num of ex to cut:  0\n",
      "Num of ex to add:  31\n"
     ]
    },
    {
     "name": "stderr",
     "output_type": "stream",
     "text": [
      "C:\\Appli\\main_env\\lib\\site-packages\\sklearn\\preprocessing\\_label.py:153: DataConversionWarning: A column-vector y was passed when a 1d array was expected. Please change the shape of y to (n_samples, ), for example using ravel().\n",
      "  y = column_or_1d(y, warn=True)\n"
     ]
    },
    {
     "name": "stdout",
     "output_type": "stream",
     "text": [
      "Num of ex to cut:  0\n",
      "Num of ex to add:  14\n"
     ]
    },
    {
     "name": "stderr",
     "output_type": "stream",
     "text": [
      "C:\\Appli\\main_env\\lib\\site-packages\\sklearn\\preprocessing\\_label.py:153: DataConversionWarning: A column-vector y was passed when a 1d array was expected. Please change the shape of y to (n_samples, ), for example using ravel().\n",
      "  y = column_or_1d(y, warn=True)\n",
      "C:\\Users\\isaac\\Documents\\Challenge_Francois\\splid-devkit\\baseline_submissions\\isaac_ml\\utils_isaac.py:231: FutureWarning: Not prepending group keys to the result index of transform-like apply. In the future, the group keys will be included in the index, regardless of whether the applied function returns a like-indexed object.\n",
      "To preserve the previous behavior, use\n",
      "\n",
      "\t>>> .groupby(..., group_keys=False)\n",
      "\n",
      "To adopt the future behavior and silence this warning, use \n",
      "\n",
      "\t>>> .groupby(..., group_keys=True)\n",
      "  keep = groups[['Node', 'Type']].apply(\n"
     ]
    },
    {
     "name": "stdout",
     "output_type": "stream",
     "text": [
      "Precision for the validation set: 0.93\n",
      "Recall for the validation set: 0.87\n",
      "F2 for the validation set: 0.88\n",
      "RMSE for the validation set: 0.18\n",
      "---------------------------------------------------------------------------\n",
      "0.06 0.26\n",
      "Num of ex to cut:  0\n",
      "Num of ex to add:  31\n"
     ]
    },
    {
     "name": "stderr",
     "output_type": "stream",
     "text": [
      "C:\\Appli\\main_env\\lib\\site-packages\\sklearn\\preprocessing\\_label.py:153: DataConversionWarning: A column-vector y was passed when a 1d array was expected. Please change the shape of y to (n_samples, ), for example using ravel().\n",
      "  y = column_or_1d(y, warn=True)\n"
     ]
    },
    {
     "name": "stdout",
     "output_type": "stream",
     "text": [
      "Num of ex to cut:  0\n",
      "Num of ex to add:  10\n"
     ]
    },
    {
     "name": "stderr",
     "output_type": "stream",
     "text": [
      "C:\\Appli\\main_env\\lib\\site-packages\\sklearn\\preprocessing\\_label.py:153: DataConversionWarning: A column-vector y was passed when a 1d array was expected. Please change the shape of y to (n_samples, ), for example using ravel().\n",
      "  y = column_or_1d(y, warn=True)\n",
      "C:\\Users\\isaac\\Documents\\Challenge_Francois\\splid-devkit\\baseline_submissions\\isaac_ml\\utils_isaac.py:231: FutureWarning: Not prepending group keys to the result index of transform-like apply. In the future, the group keys will be included in the index, regardless of whether the applied function returns a like-indexed object.\n",
      "To preserve the previous behavior, use\n",
      "\n",
      "\t>>> .groupby(..., group_keys=False)\n",
      "\n",
      "To adopt the future behavior and silence this warning, use \n",
      "\n",
      "\t>>> .groupby(..., group_keys=True)\n",
      "  keep = groups[['Node', 'Type']].apply(\n"
     ]
    },
    {
     "name": "stdout",
     "output_type": "stream",
     "text": [
      "Precision for the validation set: 0.94\n",
      "Recall for the validation set: 0.87\n",
      "F2 for the validation set: 0.88\n",
      "RMSE for the validation set: 0.18\n",
      "---------------------------------------------------------------------------\n",
      "0.06 0.31\n",
      "Num of ex to cut:  0\n",
      "Num of ex to add:  31\n"
     ]
    },
    {
     "name": "stderr",
     "output_type": "stream",
     "text": [
      "C:\\Appli\\main_env\\lib\\site-packages\\sklearn\\preprocessing\\_label.py:153: DataConversionWarning: A column-vector y was passed when a 1d array was expected. Please change the shape of y to (n_samples, ), for example using ravel().\n",
      "  y = column_or_1d(y, warn=True)\n"
     ]
    },
    {
     "name": "stdout",
     "output_type": "stream",
     "text": [
      "Num of ex to cut:  0\n",
      "Num of ex to add:  5\n"
     ]
    },
    {
     "name": "stderr",
     "output_type": "stream",
     "text": [
      "C:\\Appli\\main_env\\lib\\site-packages\\sklearn\\preprocessing\\_label.py:153: DataConversionWarning: A column-vector y was passed when a 1d array was expected. Please change the shape of y to (n_samples, ), for example using ravel().\n",
      "  y = column_or_1d(y, warn=True)\n",
      "C:\\Users\\isaac\\Documents\\Challenge_Francois\\splid-devkit\\baseline_submissions\\isaac_ml\\utils_isaac.py:231: FutureWarning: Not prepending group keys to the result index of transform-like apply. In the future, the group keys will be included in the index, regardless of whether the applied function returns a like-indexed object.\n",
      "To preserve the previous behavior, use\n",
      "\n",
      "\t>>> .groupby(..., group_keys=False)\n",
      "\n",
      "To adopt the future behavior and silence this warning, use \n",
      "\n",
      "\t>>> .groupby(..., group_keys=True)\n",
      "  keep = groups[['Node', 'Type']].apply(\n"
     ]
    },
    {
     "name": "stdout",
     "output_type": "stream",
     "text": [
      "Precision for the validation set: 0.95\n",
      "Recall for the validation set: 0.86\n",
      "F2 for the validation set: 0.88\n",
      "RMSE for the validation set: 0.18\n",
      "---------------------------------------------------------------------------\n",
      "0.06 0.36\n",
      "Num of ex to cut:  0\n",
      "Num of ex to add:  31\n",
      "Num of ex to cut:  0\n"
     ]
    },
    {
     "name": "stderr",
     "output_type": "stream",
     "text": [
      "C:\\Appli\\main_env\\lib\\site-packages\\sklearn\\preprocessing\\_label.py:153: DataConversionWarning: A column-vector y was passed when a 1d array was expected. Please change the shape of y to (n_samples, ), for example using ravel().\n",
      "  y = column_or_1d(y, warn=True)\n"
     ]
    },
    {
     "name": "stdout",
     "output_type": "stream",
     "text": [
      "Num of ex to add:  4\n"
     ]
    },
    {
     "name": "stderr",
     "output_type": "stream",
     "text": [
      "C:\\Appli\\main_env\\lib\\site-packages\\sklearn\\preprocessing\\_label.py:153: DataConversionWarning: A column-vector y was passed when a 1d array was expected. Please change the shape of y to (n_samples, ), for example using ravel().\n",
      "  y = column_or_1d(y, warn=True)\n",
      "C:\\Users\\isaac\\Documents\\Challenge_Francois\\splid-devkit\\baseline_submissions\\isaac_ml\\utils_isaac.py:231: FutureWarning: Not prepending group keys to the result index of transform-like apply. In the future, the group keys will be included in the index, regardless of whether the applied function returns a like-indexed object.\n",
      "To preserve the previous behavior, use\n",
      "\n",
      "\t>>> .groupby(..., group_keys=False)\n",
      "\n",
      "To adopt the future behavior and silence this warning, use \n",
      "\n",
      "\t>>> .groupby(..., group_keys=True)\n",
      "  keep = groups[['Node', 'Type']].apply(\n"
     ]
    },
    {
     "name": "stdout",
     "output_type": "stream",
     "text": [
      "Precision for the validation set: 0.95\n",
      "Recall for the validation set: 0.86\n",
      "F2 for the validation set: 0.87\n",
      "RMSE for the validation set: 0.18\n",
      "---------------------------------------------------------------------------\n",
      "0.11 0.01\n",
      "Num of ex to cut:  0\n",
      "Num of ex to add:  24\n",
      "Num of ex to cut:  0\n"
     ]
    },
    {
     "name": "stderr",
     "output_type": "stream",
     "text": [
      "C:\\Appli\\main_env\\lib\\site-packages\\sklearn\\preprocessing\\_label.py:153: DataConversionWarning: A column-vector y was passed when a 1d array was expected. Please change the shape of y to (n_samples, ), for example using ravel().\n",
      "  y = column_or_1d(y, warn=True)\n"
     ]
    },
    {
     "name": "stdout",
     "output_type": "stream",
     "text": [
      "Num of ex to add:  259\n"
     ]
    },
    {
     "name": "stderr",
     "output_type": "stream",
     "text": [
      "C:\\Appli\\main_env\\lib\\site-packages\\sklearn\\preprocessing\\_label.py:153: DataConversionWarning: A column-vector y was passed when a 1d array was expected. Please change the shape of y to (n_samples, ), for example using ravel().\n",
      "  y = column_or_1d(y, warn=True)\n",
      "C:\\Users\\isaac\\Documents\\Challenge_Francois\\splid-devkit\\baseline_submissions\\isaac_ml\\utils_isaac.py:231: FutureWarning: Not prepending group keys to the result index of transform-like apply. In the future, the group keys will be included in the index, regardless of whether the applied function returns a like-indexed object.\n",
      "To preserve the previous behavior, use\n",
      "\n",
      "\t>>> .groupby(..., group_keys=False)\n",
      "\n",
      "To adopt the future behavior and silence this warning, use \n",
      "\n",
      "\t>>> .groupby(..., group_keys=True)\n",
      "  keep = groups[['Node', 'Type']].apply(\n"
     ]
    },
    {
     "name": "stdout",
     "output_type": "stream",
     "text": [
      "Precision for the validation set: 0.76\n",
      "Recall for the validation set: 0.85\n",
      "F2 for the validation set: 0.83\n",
      "RMSE for the validation set: 0.16\n",
      "---------------------------------------------------------------------------\n",
      "0.11 0.06\n",
      "Num of ex to cut:  0\n",
      "Num of ex to add:  24\n"
     ]
    },
    {
     "name": "stderr",
     "output_type": "stream",
     "text": [
      "C:\\Appli\\main_env\\lib\\site-packages\\sklearn\\preprocessing\\_label.py:153: DataConversionWarning: A column-vector y was passed when a 1d array was expected. Please change the shape of y to (n_samples, ), for example using ravel().\n",
      "  y = column_or_1d(y, warn=True)\n"
     ]
    },
    {
     "name": "stdout",
     "output_type": "stream",
     "text": [
      "Num of ex to cut:  0\n",
      "Num of ex to add:  38\n"
     ]
    },
    {
     "name": "stderr",
     "output_type": "stream",
     "text": [
      "C:\\Appli\\main_env\\lib\\site-packages\\sklearn\\preprocessing\\_label.py:153: DataConversionWarning: A column-vector y was passed when a 1d array was expected. Please change the shape of y to (n_samples, ), for example using ravel().\n",
      "  y = column_or_1d(y, warn=True)\n",
      "C:\\Users\\isaac\\Documents\\Challenge_Francois\\splid-devkit\\baseline_submissions\\isaac_ml\\utils_isaac.py:231: FutureWarning: Not prepending group keys to the result index of transform-like apply. In the future, the group keys will be included in the index, regardless of whether the applied function returns a like-indexed object.\n",
      "To preserve the previous behavior, use\n",
      "\n",
      "\t>>> .groupby(..., group_keys=False)\n",
      "\n",
      "To adopt the future behavior and silence this warning, use \n",
      "\n",
      "\t>>> .groupby(..., group_keys=True)\n",
      "  keep = groups[['Node', 'Type']].apply(\n"
     ]
    },
    {
     "name": "stdout",
     "output_type": "stream",
     "text": [
      "Precision for the validation set: 0.91\n",
      "Recall for the validation set: 0.88\n",
      "F2 for the validation set: 0.88\n",
      "RMSE for the validation set: 0.14\n",
      "---------------------------------------------------------------------------\n",
      "0.11 0.11\n",
      "Num of ex to cut:  0\n",
      "Num of ex to add:  24\n"
     ]
    },
    {
     "name": "stderr",
     "output_type": "stream",
     "text": [
      "C:\\Appli\\main_env\\lib\\site-packages\\sklearn\\preprocessing\\_label.py:153: DataConversionWarning: A column-vector y was passed when a 1d array was expected. Please change the shape of y to (n_samples, ), for example using ravel().\n",
      "  y = column_or_1d(y, warn=True)\n"
     ]
    },
    {
     "name": "stdout",
     "output_type": "stream",
     "text": [
      "Num of ex to cut:  0\n",
      "Num of ex to add:  27\n"
     ]
    },
    {
     "name": "stderr",
     "output_type": "stream",
     "text": [
      "C:\\Appli\\main_env\\lib\\site-packages\\sklearn\\preprocessing\\_label.py:153: DataConversionWarning: A column-vector y was passed when a 1d array was expected. Please change the shape of y to (n_samples, ), for example using ravel().\n",
      "  y = column_or_1d(y, warn=True)\n",
      "C:\\Users\\isaac\\Documents\\Challenge_Francois\\splid-devkit\\baseline_submissions\\isaac_ml\\utils_isaac.py:231: FutureWarning: Not prepending group keys to the result index of transform-like apply. In the future, the group keys will be included in the index, regardless of whether the applied function returns a like-indexed object.\n",
      "To preserve the previous behavior, use\n",
      "\n",
      "\t>>> .groupby(..., group_keys=False)\n",
      "\n",
      "To adopt the future behavior and silence this warning, use \n",
      "\n",
      "\t>>> .groupby(..., group_keys=True)\n",
      "  keep = groups[['Node', 'Type']].apply(\n"
     ]
    },
    {
     "name": "stdout",
     "output_type": "stream",
     "text": [
      "Precision for the validation set: 0.91\n",
      "Recall for the validation set: 0.88\n",
      "F2 for the validation set: 0.88\n",
      "RMSE for the validation set: 0.15\n",
      "---------------------------------------------------------------------------\n",
      "0.11 0.16\n",
      "Num of ex to cut:  0\n",
      "Num of ex to add:  24\n"
     ]
    },
    {
     "name": "stderr",
     "output_type": "stream",
     "text": [
      "C:\\Appli\\main_env\\lib\\site-packages\\sklearn\\preprocessing\\_label.py:153: DataConversionWarning: A column-vector y was passed when a 1d array was expected. Please change the shape of y to (n_samples, ), for example using ravel().\n",
      "  y = column_or_1d(y, warn=True)\n"
     ]
    },
    {
     "name": "stdout",
     "output_type": "stream",
     "text": [
      "Num of ex to cut:  0\n",
      "Num of ex to add:  17\n"
     ]
    },
    {
     "name": "stderr",
     "output_type": "stream",
     "text": [
      "C:\\Appli\\main_env\\lib\\site-packages\\sklearn\\preprocessing\\_label.py:153: DataConversionWarning: A column-vector y was passed when a 1d array was expected. Please change the shape of y to (n_samples, ), for example using ravel().\n",
      "  y = column_or_1d(y, warn=True)\n",
      "C:\\Users\\isaac\\Documents\\Challenge_Francois\\splid-devkit\\baseline_submissions\\isaac_ml\\utils_isaac.py:231: FutureWarning: Not prepending group keys to the result index of transform-like apply. In the future, the group keys will be included in the index, regardless of whether the applied function returns a like-indexed object.\n",
      "To preserve the previous behavior, use\n",
      "\n",
      "\t>>> .groupby(..., group_keys=False)\n",
      "\n",
      "To adopt the future behavior and silence this warning, use \n",
      "\n",
      "\t>>> .groupby(..., group_keys=True)\n",
      "  keep = groups[['Node', 'Type']].apply(\n"
     ]
    },
    {
     "name": "stdout",
     "output_type": "stream",
     "text": [
      "Precision for the validation set: 0.93\n",
      "Recall for the validation set: 0.87\n",
      "F2 for the validation set: 0.88\n",
      "RMSE for the validation set: 0.15\n",
      "---------------------------------------------------------------------------\n",
      "0.11 0.21\n",
      "Num of ex to cut:  0\n",
      "Num of ex to add:  24\n"
     ]
    },
    {
     "name": "stderr",
     "output_type": "stream",
     "text": [
      "C:\\Appli\\main_env\\lib\\site-packages\\sklearn\\preprocessing\\_label.py:153: DataConversionWarning: A column-vector y was passed when a 1d array was expected. Please change the shape of y to (n_samples, ), for example using ravel().\n",
      "  y = column_or_1d(y, warn=True)\n"
     ]
    },
    {
     "name": "stdout",
     "output_type": "stream",
     "text": [
      "Num of ex to cut:  0\n",
      "Num of ex to add:  14\n"
     ]
    },
    {
     "name": "stderr",
     "output_type": "stream",
     "text": [
      "C:\\Appli\\main_env\\lib\\site-packages\\sklearn\\preprocessing\\_label.py:153: DataConversionWarning: A column-vector y was passed when a 1d array was expected. Please change the shape of y to (n_samples, ), for example using ravel().\n",
      "  y = column_or_1d(y, warn=True)\n",
      "C:\\Users\\isaac\\Documents\\Challenge_Francois\\splid-devkit\\baseline_submissions\\isaac_ml\\utils_isaac.py:231: FutureWarning: Not prepending group keys to the result index of transform-like apply. In the future, the group keys will be included in the index, regardless of whether the applied function returns a like-indexed object.\n",
      "To preserve the previous behavior, use\n",
      "\n",
      "\t>>> .groupby(..., group_keys=False)\n",
      "\n",
      "To adopt the future behavior and silence this warning, use \n",
      "\n",
      "\t>>> .groupby(..., group_keys=True)\n",
      "  keep = groups[['Node', 'Type']].apply(\n"
     ]
    },
    {
     "name": "stdout",
     "output_type": "stream",
     "text": [
      "Precision for the validation set: 0.93\n",
      "Recall for the validation set: 0.87\n",
      "F2 for the validation set: 0.88\n",
      "RMSE for the validation set: 0.14\n",
      "---------------------------------------------------------------------------\n",
      "0.11 0.26\n",
      "Num of ex to cut:  0\n",
      "Num of ex to add:  24\n"
     ]
    },
    {
     "name": "stderr",
     "output_type": "stream",
     "text": [
      "C:\\Appli\\main_env\\lib\\site-packages\\sklearn\\preprocessing\\_label.py:153: DataConversionWarning: A column-vector y was passed when a 1d array was expected. Please change the shape of y to (n_samples, ), for example using ravel().\n",
      "  y = column_or_1d(y, warn=True)\n"
     ]
    },
    {
     "name": "stdout",
     "output_type": "stream",
     "text": [
      "Num of ex to cut:  0\n",
      "Num of ex to add:  10\n"
     ]
    },
    {
     "name": "stderr",
     "output_type": "stream",
     "text": [
      "C:\\Appli\\main_env\\lib\\site-packages\\sklearn\\preprocessing\\_label.py:153: DataConversionWarning: A column-vector y was passed when a 1d array was expected. Please change the shape of y to (n_samples, ), for example using ravel().\n",
      "  y = column_or_1d(y, warn=True)\n",
      "C:\\Users\\isaac\\Documents\\Challenge_Francois\\splid-devkit\\baseline_submissions\\isaac_ml\\utils_isaac.py:231: FutureWarning: Not prepending group keys to the result index of transform-like apply. In the future, the group keys will be included in the index, regardless of whether the applied function returns a like-indexed object.\n",
      "To preserve the previous behavior, use\n",
      "\n",
      "\t>>> .groupby(..., group_keys=False)\n",
      "\n",
      "To adopt the future behavior and silence this warning, use \n",
      "\n",
      "\t>>> .groupby(..., group_keys=True)\n",
      "  keep = groups[['Node', 'Type']].apply(\n"
     ]
    },
    {
     "name": "stdout",
     "output_type": "stream",
     "text": [
      "Precision for the validation set: 0.94\n",
      "Recall for the validation set: 0.87\n",
      "F2 for the validation set: 0.88\n",
      "RMSE for the validation set: 0.14\n",
      "---------------------------------------------------------------------------\n",
      "0.11 0.31\n",
      "Num of ex to cut:  0\n",
      "Num of ex to add:  24\n"
     ]
    },
    {
     "name": "stderr",
     "output_type": "stream",
     "text": [
      "C:\\Appli\\main_env\\lib\\site-packages\\sklearn\\preprocessing\\_label.py:153: DataConversionWarning: A column-vector y was passed when a 1d array was expected. Please change the shape of y to (n_samples, ), for example using ravel().\n",
      "  y = column_or_1d(y, warn=True)\n"
     ]
    },
    {
     "name": "stdout",
     "output_type": "stream",
     "text": [
      "Num of ex to cut:  0\n",
      "Num of ex to add:  5\n"
     ]
    },
    {
     "name": "stderr",
     "output_type": "stream",
     "text": [
      "C:\\Appli\\main_env\\lib\\site-packages\\sklearn\\preprocessing\\_label.py:153: DataConversionWarning: A column-vector y was passed when a 1d array was expected. Please change the shape of y to (n_samples, ), for example using ravel().\n",
      "  y = column_or_1d(y, warn=True)\n",
      "C:\\Users\\isaac\\Documents\\Challenge_Francois\\splid-devkit\\baseline_submissions\\isaac_ml\\utils_isaac.py:231: FutureWarning: Not prepending group keys to the result index of transform-like apply. In the future, the group keys will be included in the index, regardless of whether the applied function returns a like-indexed object.\n",
      "To preserve the previous behavior, use\n",
      "\n",
      "\t>>> .groupby(..., group_keys=False)\n",
      "\n",
      "To adopt the future behavior and silence this warning, use \n",
      "\n",
      "\t>>> .groupby(..., group_keys=True)\n",
      "  keep = groups[['Node', 'Type']].apply(\n"
     ]
    },
    {
     "name": "stdout",
     "output_type": "stream",
     "text": [
      "Precision for the validation set: 0.95\n",
      "Recall for the validation set: 0.86\n",
      "F2 for the validation set: 0.88\n",
      "RMSE for the validation set: 0.14\n",
      "---------------------------------------------------------------------------\n",
      "0.11 0.36\n",
      "Num of ex to cut:  0\n",
      "Num of ex to add:  24\n",
      "Num of ex to cut:  0\n"
     ]
    },
    {
     "name": "stderr",
     "output_type": "stream",
     "text": [
      "C:\\Appli\\main_env\\lib\\site-packages\\sklearn\\preprocessing\\_label.py:153: DataConversionWarning: A column-vector y was passed when a 1d array was expected. Please change the shape of y to (n_samples, ), for example using ravel().\n",
      "  y = column_or_1d(y, warn=True)\n"
     ]
    },
    {
     "name": "stdout",
     "output_type": "stream",
     "text": [
      "Num of ex to add:  4\n"
     ]
    },
    {
     "name": "stderr",
     "output_type": "stream",
     "text": [
      "C:\\Appli\\main_env\\lib\\site-packages\\sklearn\\preprocessing\\_label.py:153: DataConversionWarning: A column-vector y was passed when a 1d array was expected. Please change the shape of y to (n_samples, ), for example using ravel().\n",
      "  y = column_or_1d(y, warn=True)\n",
      "C:\\Users\\isaac\\Documents\\Challenge_Francois\\splid-devkit\\baseline_submissions\\isaac_ml\\utils_isaac.py:231: FutureWarning: Not prepending group keys to the result index of transform-like apply. In the future, the group keys will be included in the index, regardless of whether the applied function returns a like-indexed object.\n",
      "To preserve the previous behavior, use\n",
      "\n",
      "\t>>> .groupby(..., group_keys=False)\n",
      "\n",
      "To adopt the future behavior and silence this warning, use \n",
      "\n",
      "\t>>> .groupby(..., group_keys=True)\n",
      "  keep = groups[['Node', 'Type']].apply(\n"
     ]
    },
    {
     "name": "stdout",
     "output_type": "stream",
     "text": [
      "Precision for the validation set: 0.95\n",
      "Recall for the validation set: 0.86\n",
      "F2 for the validation set: 0.87\n",
      "RMSE for the validation set: 0.14\n",
      "---------------------------------------------------------------------------\n",
      "0.16 0.01\n",
      "Num of ex to cut:  0\n",
      "Num of ex to add:  17\n",
      "Num of ex to cut:  0\n"
     ]
    },
    {
     "name": "stderr",
     "output_type": "stream",
     "text": [
      "C:\\Appli\\main_env\\lib\\site-packages\\sklearn\\preprocessing\\_label.py:153: DataConversionWarning: A column-vector y was passed when a 1d array was expected. Please change the shape of y to (n_samples, ), for example using ravel().\n",
      "  y = column_or_1d(y, warn=True)\n"
     ]
    },
    {
     "name": "stdout",
     "output_type": "stream",
     "text": [
      "Num of ex to add:  259\n"
     ]
    },
    {
     "name": "stderr",
     "output_type": "stream",
     "text": [
      "C:\\Appli\\main_env\\lib\\site-packages\\sklearn\\preprocessing\\_label.py:153: DataConversionWarning: A column-vector y was passed when a 1d array was expected. Please change the shape of y to (n_samples, ), for example using ravel().\n",
      "  y = column_or_1d(y, warn=True)\n",
      "C:\\Users\\isaac\\Documents\\Challenge_Francois\\splid-devkit\\baseline_submissions\\isaac_ml\\utils_isaac.py:231: FutureWarning: Not prepending group keys to the result index of transform-like apply. In the future, the group keys will be included in the index, regardless of whether the applied function returns a like-indexed object.\n",
      "To preserve the previous behavior, use\n",
      "\n",
      "\t>>> .groupby(..., group_keys=False)\n",
      "\n",
      "To adopt the future behavior and silence this warning, use \n",
      "\n",
      "\t>>> .groupby(..., group_keys=True)\n",
      "  keep = groups[['Node', 'Type']].apply(\n"
     ]
    },
    {
     "name": "stdout",
     "output_type": "stream",
     "text": [
      "Precision for the validation set: 0.76\n",
      "Recall for the validation set: 0.84\n",
      "F2 for the validation set: 0.82\n",
      "RMSE for the validation set: 0.13\n",
      "---------------------------------------------------------------------------\n",
      "0.16 0.06\n",
      "Num of ex to cut:  0\n",
      "Num of ex to add:  17\n"
     ]
    },
    {
     "name": "stderr",
     "output_type": "stream",
     "text": [
      "C:\\Appli\\main_env\\lib\\site-packages\\sklearn\\preprocessing\\_label.py:153: DataConversionWarning: A column-vector y was passed when a 1d array was expected. Please change the shape of y to (n_samples, ), for example using ravel().\n",
      "  y = column_or_1d(y, warn=True)\n"
     ]
    },
    {
     "name": "stdout",
     "output_type": "stream",
     "text": [
      "Num of ex to cut:  0\n",
      "Num of ex to add:  38\n"
     ]
    },
    {
     "name": "stderr",
     "output_type": "stream",
     "text": [
      "C:\\Appli\\main_env\\lib\\site-packages\\sklearn\\preprocessing\\_label.py:153: DataConversionWarning: A column-vector y was passed when a 1d array was expected. Please change the shape of y to (n_samples, ), for example using ravel().\n",
      "  y = column_or_1d(y, warn=True)\n",
      "C:\\Users\\isaac\\Documents\\Challenge_Francois\\splid-devkit\\baseline_submissions\\isaac_ml\\utils_isaac.py:231: FutureWarning: Not prepending group keys to the result index of transform-like apply. In the future, the group keys will be included in the index, regardless of whether the applied function returns a like-indexed object.\n",
      "To preserve the previous behavior, use\n",
      "\n",
      "\t>>> .groupby(..., group_keys=False)\n",
      "\n",
      "To adopt the future behavior and silence this warning, use \n",
      "\n",
      "\t>>> .groupby(..., group_keys=True)\n",
      "  keep = groups[['Node', 'Type']].apply(\n"
     ]
    },
    {
     "name": "stdout",
     "output_type": "stream",
     "text": [
      "Precision for the validation set: 0.91\n",
      "Recall for the validation set: 0.87\n",
      "F2 for the validation set: 0.88\n",
      "RMSE for the validation set: 0.11\n",
      "---------------------------------------------------------------------------\n",
      "0.16 0.11\n",
      "Num of ex to cut:  0\n",
      "Num of ex to add:  17\n"
     ]
    },
    {
     "name": "stderr",
     "output_type": "stream",
     "text": [
      "C:\\Appli\\main_env\\lib\\site-packages\\sklearn\\preprocessing\\_label.py:153: DataConversionWarning: A column-vector y was passed when a 1d array was expected. Please change the shape of y to (n_samples, ), for example using ravel().\n",
      "  y = column_or_1d(y, warn=True)\n"
     ]
    },
    {
     "name": "stdout",
     "output_type": "stream",
     "text": [
      "Num of ex to cut:  0\n",
      "Num of ex to add:  27\n"
     ]
    },
    {
     "name": "stderr",
     "output_type": "stream",
     "text": [
      "C:\\Appli\\main_env\\lib\\site-packages\\sklearn\\preprocessing\\_label.py:153: DataConversionWarning: A column-vector y was passed when a 1d array was expected. Please change the shape of y to (n_samples, ), for example using ravel().\n",
      "  y = column_or_1d(y, warn=True)\n",
      "C:\\Users\\isaac\\Documents\\Challenge_Francois\\splid-devkit\\baseline_submissions\\isaac_ml\\utils_isaac.py:231: FutureWarning: Not prepending group keys to the result index of transform-like apply. In the future, the group keys will be included in the index, regardless of whether the applied function returns a like-indexed object.\n",
      "To preserve the previous behavior, use\n",
      "\n",
      "\t>>> .groupby(..., group_keys=False)\n",
      "\n",
      "To adopt the future behavior and silence this warning, use \n",
      "\n",
      "\t>>> .groupby(..., group_keys=True)\n",
      "  keep = groups[['Node', 'Type']].apply(\n"
     ]
    },
    {
     "name": "stdout",
     "output_type": "stream",
     "text": [
      "Precision for the validation set: 0.92\n",
      "Recall for the validation set: 0.87\n",
      "F2 for the validation set: 0.88\n",
      "RMSE for the validation set: 0.13\n",
      "---------------------------------------------------------------------------\n",
      "0.16 0.16\n",
      "Num of ex to cut:  0\n",
      "Num of ex to add:  17\n"
     ]
    },
    {
     "name": "stderr",
     "output_type": "stream",
     "text": [
      "C:\\Appli\\main_env\\lib\\site-packages\\sklearn\\preprocessing\\_label.py:153: DataConversionWarning: A column-vector y was passed when a 1d array was expected. Please change the shape of y to (n_samples, ), for example using ravel().\n",
      "  y = column_or_1d(y, warn=True)\n"
     ]
    },
    {
     "name": "stdout",
     "output_type": "stream",
     "text": [
      "Num of ex to cut:  0\n",
      "Num of ex to add:  17\n"
     ]
    },
    {
     "name": "stderr",
     "output_type": "stream",
     "text": [
      "C:\\Appli\\main_env\\lib\\site-packages\\sklearn\\preprocessing\\_label.py:153: DataConversionWarning: A column-vector y was passed when a 1d array was expected. Please change the shape of y to (n_samples, ), for example using ravel().\n",
      "  y = column_or_1d(y, warn=True)\n",
      "C:\\Users\\isaac\\Documents\\Challenge_Francois\\splid-devkit\\baseline_submissions\\isaac_ml\\utils_isaac.py:231: FutureWarning: Not prepending group keys to the result index of transform-like apply. In the future, the group keys will be included in the index, regardless of whether the applied function returns a like-indexed object.\n",
      "To preserve the previous behavior, use\n",
      "\n",
      "\t>>> .groupby(..., group_keys=False)\n",
      "\n",
      "To adopt the future behavior and silence this warning, use \n",
      "\n",
      "\t>>> .groupby(..., group_keys=True)\n",
      "  keep = groups[['Node', 'Type']].apply(\n"
     ]
    },
    {
     "name": "stdout",
     "output_type": "stream",
     "text": [
      "Precision for the validation set: 0.93\n",
      "Recall for the validation set: 0.86\n",
      "F2 for the validation set: 0.87\n",
      "RMSE for the validation set: 0.13\n",
      "---------------------------------------------------------------------------\n",
      "0.16 0.21\n",
      "Num of ex to cut:  0\n",
      "Num of ex to add:  17\n",
      "Num of ex to cut:  0\n"
     ]
    },
    {
     "name": "stderr",
     "output_type": "stream",
     "text": [
      "C:\\Appli\\main_env\\lib\\site-packages\\sklearn\\preprocessing\\_label.py:153: DataConversionWarning: A column-vector y was passed when a 1d array was expected. Please change the shape of y to (n_samples, ), for example using ravel().\n",
      "  y = column_or_1d(y, warn=True)\n"
     ]
    },
    {
     "name": "stdout",
     "output_type": "stream",
     "text": [
      "Num of ex to add:  14\n"
     ]
    },
    {
     "name": "stderr",
     "output_type": "stream",
     "text": [
      "C:\\Appli\\main_env\\lib\\site-packages\\sklearn\\preprocessing\\_label.py:153: DataConversionWarning: A column-vector y was passed when a 1d array was expected. Please change the shape of y to (n_samples, ), for example using ravel().\n",
      "  y = column_or_1d(y, warn=True)\n",
      "C:\\Users\\isaac\\Documents\\Challenge_Francois\\splid-devkit\\baseline_submissions\\isaac_ml\\utils_isaac.py:231: FutureWarning: Not prepending group keys to the result index of transform-like apply. In the future, the group keys will be included in the index, regardless of whether the applied function returns a like-indexed object.\n",
      "To preserve the previous behavior, use\n",
      "\n",
      "\t>>> .groupby(..., group_keys=False)\n",
      "\n",
      "To adopt the future behavior and silence this warning, use \n",
      "\n",
      "\t>>> .groupby(..., group_keys=True)\n",
      "  keep = groups[['Node', 'Type']].apply(\n"
     ]
    },
    {
     "name": "stdout",
     "output_type": "stream",
     "text": [
      "Precision for the validation set: 0.94\n",
      "Recall for the validation set: 0.86\n",
      "F2 for the validation set: 0.87\n",
      "RMSE for the validation set: 0.11\n",
      "---------------------------------------------------------------------------\n",
      "0.16 0.26\n",
      "Num of ex to cut:  0\n",
      "Num of ex to add:  17\n",
      "Num of ex to cut:  0\n"
     ]
    },
    {
     "name": "stderr",
     "output_type": "stream",
     "text": [
      "C:\\Appli\\main_env\\lib\\site-packages\\sklearn\\preprocessing\\_label.py:153: DataConversionWarning: A column-vector y was passed when a 1d array was expected. Please change the shape of y to (n_samples, ), for example using ravel().\n",
      "  y = column_or_1d(y, warn=True)\n"
     ]
    },
    {
     "name": "stdout",
     "output_type": "stream",
     "text": [
      "Num of ex to add:  10\n"
     ]
    },
    {
     "name": "stderr",
     "output_type": "stream",
     "text": [
      "C:\\Appli\\main_env\\lib\\site-packages\\sklearn\\preprocessing\\_label.py:153: DataConversionWarning: A column-vector y was passed when a 1d array was expected. Please change the shape of y to (n_samples, ), for example using ravel().\n",
      "  y = column_or_1d(y, warn=True)\n",
      "C:\\Users\\isaac\\Documents\\Challenge_Francois\\splid-devkit\\baseline_submissions\\isaac_ml\\utils_isaac.py:231: FutureWarning: Not prepending group keys to the result index of transform-like apply. In the future, the group keys will be included in the index, regardless of whether the applied function returns a like-indexed object.\n",
      "To preserve the previous behavior, use\n",
      "\n",
      "\t>>> .groupby(..., group_keys=False)\n",
      "\n",
      "To adopt the future behavior and silence this warning, use \n",
      "\n",
      "\t>>> .groupby(..., group_keys=True)\n",
      "  keep = groups[['Node', 'Type']].apply(\n"
     ]
    },
    {
     "name": "stdout",
     "output_type": "stream",
     "text": [
      "Precision for the validation set: 0.95\n",
      "Recall for the validation set: 0.86\n",
      "F2 for the validation set: 0.87\n",
      "RMSE for the validation set: 0.11\n",
      "---------------------------------------------------------------------------\n",
      "0.16 0.31\n",
      "Num of ex to cut:  0\n",
      "Num of ex to add:  17\n"
     ]
    },
    {
     "name": "stderr",
     "output_type": "stream",
     "text": [
      "C:\\Appli\\main_env\\lib\\site-packages\\sklearn\\preprocessing\\_label.py:153: DataConversionWarning: A column-vector y was passed when a 1d array was expected. Please change the shape of y to (n_samples, ), for example using ravel().\n",
      "  y = column_or_1d(y, warn=True)\n"
     ]
    },
    {
     "name": "stdout",
     "output_type": "stream",
     "text": [
      "Num of ex to cut:  0\n",
      "Num of ex to add:  5\n"
     ]
    },
    {
     "name": "stderr",
     "output_type": "stream",
     "text": [
      "C:\\Appli\\main_env\\lib\\site-packages\\sklearn\\preprocessing\\_label.py:153: DataConversionWarning: A column-vector y was passed when a 1d array was expected. Please change the shape of y to (n_samples, ), for example using ravel().\n",
      "  y = column_or_1d(y, warn=True)\n",
      "C:\\Users\\isaac\\Documents\\Challenge_Francois\\splid-devkit\\baseline_submissions\\isaac_ml\\utils_isaac.py:231: FutureWarning: Not prepending group keys to the result index of transform-like apply. In the future, the group keys will be included in the index, regardless of whether the applied function returns a like-indexed object.\n",
      "To preserve the previous behavior, use\n",
      "\n",
      "\t>>> .groupby(..., group_keys=False)\n",
      "\n",
      "To adopt the future behavior and silence this warning, use \n",
      "\n",
      "\t>>> .groupby(..., group_keys=True)\n",
      "  keep = groups[['Node', 'Type']].apply(\n"
     ]
    },
    {
     "name": "stdout",
     "output_type": "stream",
     "text": [
      "Precision for the validation set: 0.96\n",
      "Recall for the validation set: 0.85\n",
      "F2 for the validation set: 0.87\n",
      "RMSE for the validation set: 0.11\n",
      "---------------------------------------------------------------------------\n",
      "0.16 0.36\n",
      "Num of ex to cut:  0\n",
      "Num of ex to add:  17\n",
      "Num of ex to cut:  0\n"
     ]
    },
    {
     "name": "stderr",
     "output_type": "stream",
     "text": [
      "C:\\Appli\\main_env\\lib\\site-packages\\sklearn\\preprocessing\\_label.py:153: DataConversionWarning: A column-vector y was passed when a 1d array was expected. Please change the shape of y to (n_samples, ), for example using ravel().\n",
      "  y = column_or_1d(y, warn=True)\n"
     ]
    },
    {
     "name": "stdout",
     "output_type": "stream",
     "text": [
      "Num of ex to add:  4\n"
     ]
    },
    {
     "name": "stderr",
     "output_type": "stream",
     "text": [
      "C:\\Appli\\main_env\\lib\\site-packages\\sklearn\\preprocessing\\_label.py:153: DataConversionWarning: A column-vector y was passed when a 1d array was expected. Please change the shape of y to (n_samples, ), for example using ravel().\n",
      "  y = column_or_1d(y, warn=True)\n",
      "C:\\Users\\isaac\\Documents\\Challenge_Francois\\splid-devkit\\baseline_submissions\\isaac_ml\\utils_isaac.py:231: FutureWarning: Not prepending group keys to the result index of transform-like apply. In the future, the group keys will be included in the index, regardless of whether the applied function returns a like-indexed object.\n",
      "To preserve the previous behavior, use\n",
      "\n",
      "\t>>> .groupby(..., group_keys=False)\n",
      "\n",
      "To adopt the future behavior and silence this warning, use \n",
      "\n",
      "\t>>> .groupby(..., group_keys=True)\n",
      "  keep = groups[['Node', 'Type']].apply(\n"
     ]
    },
    {
     "name": "stdout",
     "output_type": "stream",
     "text": [
      "Precision for the validation set: 0.96\n",
      "Recall for the validation set: 0.85\n",
      "F2 for the validation set: 0.87\n",
      "RMSE for the validation set: 0.11\n",
      "---------------------------------------------------------------------------\n",
      "0.21 0.01\n",
      "Num of ex to cut:  0\n",
      "Num of ex to add:  12\n"
     ]
    },
    {
     "name": "stderr",
     "output_type": "stream",
     "text": [
      "C:\\Appli\\main_env\\lib\\site-packages\\sklearn\\preprocessing\\_label.py:153: DataConversionWarning: A column-vector y was passed when a 1d array was expected. Please change the shape of y to (n_samples, ), for example using ravel().\n",
      "  y = column_or_1d(y, warn=True)\n"
     ]
    },
    {
     "name": "stdout",
     "output_type": "stream",
     "text": [
      "Num of ex to cut:  0\n",
      "Num of ex to add:  259\n"
     ]
    },
    {
     "name": "stderr",
     "output_type": "stream",
     "text": [
      "C:\\Appli\\main_env\\lib\\site-packages\\sklearn\\preprocessing\\_label.py:153: DataConversionWarning: A column-vector y was passed when a 1d array was expected. Please change the shape of y to (n_samples, ), for example using ravel().\n",
      "  y = column_or_1d(y, warn=True)\n",
      "C:\\Users\\isaac\\Documents\\Challenge_Francois\\splid-devkit\\baseline_submissions\\isaac_ml\\utils_isaac.py:231: FutureWarning: Not prepending group keys to the result index of transform-like apply. In the future, the group keys will be included in the index, regardless of whether the applied function returns a like-indexed object.\n",
      "To preserve the previous behavior, use\n",
      "\n",
      "\t>>> .groupby(..., group_keys=False)\n",
      "\n",
      "To adopt the future behavior and silence this warning, use \n",
      "\n",
      "\t>>> .groupby(..., group_keys=True)\n",
      "  keep = groups[['Node', 'Type']].apply(\n"
     ]
    },
    {
     "name": "stdout",
     "output_type": "stream",
     "text": [
      "Precision for the validation set: 0.77\n",
      "Recall for the validation set: 0.84\n",
      "F2 for the validation set: 0.82\n",
      "RMSE for the validation set: 0.11\n",
      "---------------------------------------------------------------------------\n",
      "0.21 0.06\n",
      "Num of ex to cut:  0\n",
      "Num of ex to add:  12\n"
     ]
    },
    {
     "name": "stderr",
     "output_type": "stream",
     "text": [
      "C:\\Appli\\main_env\\lib\\site-packages\\sklearn\\preprocessing\\_label.py:153: DataConversionWarning: A column-vector y was passed when a 1d array was expected. Please change the shape of y to (n_samples, ), for example using ravel().\n",
      "  y = column_or_1d(y, warn=True)\n"
     ]
    },
    {
     "name": "stdout",
     "output_type": "stream",
     "text": [
      "Num of ex to cut:  0\n",
      "Num of ex to add:  38\n"
     ]
    },
    {
     "name": "stderr",
     "output_type": "stream",
     "text": [
      "C:\\Appli\\main_env\\lib\\site-packages\\sklearn\\preprocessing\\_label.py:153: DataConversionWarning: A column-vector y was passed when a 1d array was expected. Please change the shape of y to (n_samples, ), for example using ravel().\n",
      "  y = column_or_1d(y, warn=True)\n",
      "C:\\Users\\isaac\\Documents\\Challenge_Francois\\splid-devkit\\baseline_submissions\\isaac_ml\\utils_isaac.py:231: FutureWarning: Not prepending group keys to the result index of transform-like apply. In the future, the group keys will be included in the index, regardless of whether the applied function returns a like-indexed object.\n",
      "To preserve the previous behavior, use\n",
      "\n",
      "\t>>> .groupby(..., group_keys=False)\n",
      "\n",
      "To adopt the future behavior and silence this warning, use \n",
      "\n",
      "\t>>> .groupby(..., group_keys=True)\n",
      "  keep = groups[['Node', 'Type']].apply(\n"
     ]
    },
    {
     "name": "stdout",
     "output_type": "stream",
     "text": [
      "Precision for the validation set: 0.92\n",
      "Recall for the validation set: 0.86\n",
      "F2 for the validation set: 0.87\n",
      "RMSE for the validation set: 0.09\n",
      "---------------------------------------------------------------------------\n",
      "0.21 0.11\n",
      "Num of ex to cut:  0\n",
      "Num of ex to add:  12\n",
      "Num of ex to cut:  0\n"
     ]
    },
    {
     "name": "stderr",
     "output_type": "stream",
     "text": [
      "C:\\Appli\\main_env\\lib\\site-packages\\sklearn\\preprocessing\\_label.py:153: DataConversionWarning: A column-vector y was passed when a 1d array was expected. Please change the shape of y to (n_samples, ), for example using ravel().\n",
      "  y = column_or_1d(y, warn=True)\n"
     ]
    },
    {
     "name": "stdout",
     "output_type": "stream",
     "text": [
      "Num of ex to add:  27\n"
     ]
    },
    {
     "name": "stderr",
     "output_type": "stream",
     "text": [
      "C:\\Appli\\main_env\\lib\\site-packages\\sklearn\\preprocessing\\_label.py:153: DataConversionWarning: A column-vector y was passed when a 1d array was expected. Please change the shape of y to (n_samples, ), for example using ravel().\n",
      "  y = column_or_1d(y, warn=True)\n",
      "C:\\Users\\isaac\\Documents\\Challenge_Francois\\splid-devkit\\baseline_submissions\\isaac_ml\\utils_isaac.py:231: FutureWarning: Not prepending group keys to the result index of transform-like apply. In the future, the group keys will be included in the index, regardless of whether the applied function returns a like-indexed object.\n",
      "To preserve the previous behavior, use\n",
      "\n",
      "\t>>> .groupby(..., group_keys=False)\n",
      "\n",
      "To adopt the future behavior and silence this warning, use \n",
      "\n",
      "\t>>> .groupby(..., group_keys=True)\n",
      "  keep = groups[['Node', 'Type']].apply(\n"
     ]
    },
    {
     "name": "stdout",
     "output_type": "stream",
     "text": [
      "Precision for the validation set: 0.92\n",
      "Recall for the validation set: 0.86\n",
      "F2 for the validation set: 0.87\n",
      "RMSE for the validation set: 0.11\n",
      "---------------------------------------------------------------------------\n",
      "0.21 0.16\n",
      "Num of ex to cut:  0\n",
      "Num of ex to add:  12\n",
      "Num of ex to cut:  0\n"
     ]
    },
    {
     "name": "stderr",
     "output_type": "stream",
     "text": [
      "C:\\Appli\\main_env\\lib\\site-packages\\sklearn\\preprocessing\\_label.py:153: DataConversionWarning: A column-vector y was passed when a 1d array was expected. Please change the shape of y to (n_samples, ), for example using ravel().\n",
      "  y = column_or_1d(y, warn=True)\n"
     ]
    },
    {
     "name": "stdout",
     "output_type": "stream",
     "text": [
      "Num of ex to add:  17\n"
     ]
    },
    {
     "name": "stderr",
     "output_type": "stream",
     "text": [
      "C:\\Appli\\main_env\\lib\\site-packages\\sklearn\\preprocessing\\_label.py:153: DataConversionWarning: A column-vector y was passed when a 1d array was expected. Please change the shape of y to (n_samples, ), for example using ravel().\n",
      "  y = column_or_1d(y, warn=True)\n",
      "C:\\Users\\isaac\\Documents\\Challenge_Francois\\splid-devkit\\baseline_submissions\\isaac_ml\\utils_isaac.py:231: FutureWarning: Not prepending group keys to the result index of transform-like apply. In the future, the group keys will be included in the index, regardless of whether the applied function returns a like-indexed object.\n",
      "To preserve the previous behavior, use\n",
      "\n",
      "\t>>> .groupby(..., group_keys=False)\n",
      "\n",
      "To adopt the future behavior and silence this warning, use \n",
      "\n",
      "\t>>> .groupby(..., group_keys=True)\n",
      "  keep = groups[['Node', 'Type']].apply(\n"
     ]
    },
    {
     "name": "stdout",
     "output_type": "stream",
     "text": [
      "Precision for the validation set: 0.94\n",
      "Recall for the validation set: 0.86\n",
      "F2 for the validation set: 0.87\n",
      "RMSE for the validation set: 0.11\n",
      "---------------------------------------------------------------------------\n",
      "0.21 0.21\n",
      "Num of ex to cut:  0\n",
      "Num of ex to add:  12\n"
     ]
    },
    {
     "name": "stderr",
     "output_type": "stream",
     "text": [
      "C:\\Appli\\main_env\\lib\\site-packages\\sklearn\\preprocessing\\_label.py:153: DataConversionWarning: A column-vector y was passed when a 1d array was expected. Please change the shape of y to (n_samples, ), for example using ravel().\n",
      "  y = column_or_1d(y, warn=True)\n"
     ]
    },
    {
     "name": "stdout",
     "output_type": "stream",
     "text": [
      "Num of ex to cut:  0\n",
      "Num of ex to add:  14\n"
     ]
    },
    {
     "name": "stderr",
     "output_type": "stream",
     "text": [
      "C:\\Appli\\main_env\\lib\\site-packages\\sklearn\\preprocessing\\_label.py:153: DataConversionWarning: A column-vector y was passed when a 1d array was expected. Please change the shape of y to (n_samples, ), for example using ravel().\n",
      "  y = column_or_1d(y, warn=True)\n",
      "C:\\Users\\isaac\\Documents\\Challenge_Francois\\splid-devkit\\baseline_submissions\\isaac_ml\\utils_isaac.py:231: FutureWarning: Not prepending group keys to the result index of transform-like apply. In the future, the group keys will be included in the index, regardless of whether the applied function returns a like-indexed object.\n",
      "To preserve the previous behavior, use\n",
      "\n",
      "\t>>> .groupby(..., group_keys=False)\n",
      "\n",
      "To adopt the future behavior and silence this warning, use \n",
      "\n",
      "\t>>> .groupby(..., group_keys=True)\n",
      "  keep = groups[['Node', 'Type']].apply(\n"
     ]
    },
    {
     "name": "stdout",
     "output_type": "stream",
     "text": [
      "Precision for the validation set: 0.94\n",
      "Recall for the validation set: 0.85\n",
      "F2 for the validation set: 0.87\n",
      "RMSE for the validation set: 0.09\n",
      "---------------------------------------------------------------------------\n",
      "0.21 0.26\n",
      "Num of ex to cut:  0\n",
      "Num of ex to add:  12\n",
      "Num of ex to cut:  0\n"
     ]
    },
    {
     "name": "stderr",
     "output_type": "stream",
     "text": [
      "C:\\Appli\\main_env\\lib\\site-packages\\sklearn\\preprocessing\\_label.py:153: DataConversionWarning: A column-vector y was passed when a 1d array was expected. Please change the shape of y to (n_samples, ), for example using ravel().\n",
      "  y = column_or_1d(y, warn=True)\n"
     ]
    },
    {
     "name": "stdout",
     "output_type": "stream",
     "text": [
      "Num of ex to add:  10\n"
     ]
    },
    {
     "name": "stderr",
     "output_type": "stream",
     "text": [
      "C:\\Appli\\main_env\\lib\\site-packages\\sklearn\\preprocessing\\_label.py:153: DataConversionWarning: A column-vector y was passed when a 1d array was expected. Please change the shape of y to (n_samples, ), for example using ravel().\n",
      "  y = column_or_1d(y, warn=True)\n",
      "C:\\Users\\isaac\\Documents\\Challenge_Francois\\splid-devkit\\baseline_submissions\\isaac_ml\\utils_isaac.py:231: FutureWarning: Not prepending group keys to the result index of transform-like apply. In the future, the group keys will be included in the index, regardless of whether the applied function returns a like-indexed object.\n",
      "To preserve the previous behavior, use\n",
      "\n",
      "\t>>> .groupby(..., group_keys=False)\n",
      "\n",
      "To adopt the future behavior and silence this warning, use \n",
      "\n",
      "\t>>> .groupby(..., group_keys=True)\n",
      "  keep = groups[['Node', 'Type']].apply(\n"
     ]
    },
    {
     "name": "stdout",
     "output_type": "stream",
     "text": [
      "Precision for the validation set: 0.95\n",
      "Recall for the validation set: 0.85\n",
      "F2 for the validation set: 0.87\n",
      "RMSE for the validation set: 0.09\n",
      "---------------------------------------------------------------------------\n",
      "0.21 0.31\n",
      "Num of ex to cut:  0\n",
      "Num of ex to add:  12\n"
     ]
    },
    {
     "name": "stderr",
     "output_type": "stream",
     "text": [
      "C:\\Appli\\main_env\\lib\\site-packages\\sklearn\\preprocessing\\_label.py:153: DataConversionWarning: A column-vector y was passed when a 1d array was expected. Please change the shape of y to (n_samples, ), for example using ravel().\n",
      "  y = column_or_1d(y, warn=True)\n"
     ]
    },
    {
     "name": "stdout",
     "output_type": "stream",
     "text": [
      "Num of ex to cut:  0\n",
      "Num of ex to add:  5\n"
     ]
    },
    {
     "name": "stderr",
     "output_type": "stream",
     "text": [
      "C:\\Appli\\main_env\\lib\\site-packages\\sklearn\\preprocessing\\_label.py:153: DataConversionWarning: A column-vector y was passed when a 1d array was expected. Please change the shape of y to (n_samples, ), for example using ravel().\n",
      "  y = column_or_1d(y, warn=True)\n",
      "C:\\Users\\isaac\\Documents\\Challenge_Francois\\splid-devkit\\baseline_submissions\\isaac_ml\\utils_isaac.py:231: FutureWarning: Not prepending group keys to the result index of transform-like apply. In the future, the group keys will be included in the index, regardless of whether the applied function returns a like-indexed object.\n",
      "To preserve the previous behavior, use\n",
      "\n",
      "\t>>> .groupby(..., group_keys=False)\n",
      "\n",
      "To adopt the future behavior and silence this warning, use \n",
      "\n",
      "\t>>> .groupby(..., group_keys=True)\n",
      "  keep = groups[['Node', 'Type']].apply(\n"
     ]
    },
    {
     "name": "stdout",
     "output_type": "stream",
     "text": [
      "Precision for the validation set: 0.96\n",
      "Recall for the validation set: 0.85\n",
      "F2 for the validation set: 0.87\n",
      "RMSE for the validation set: 0.09\n",
      "---------------------------------------------------------------------------\n",
      "0.21 0.36\n",
      "Num of ex to cut:  0\n",
      "Num of ex to add:  12\n"
     ]
    },
    {
     "name": "stderr",
     "output_type": "stream",
     "text": [
      "C:\\Appli\\main_env\\lib\\site-packages\\sklearn\\preprocessing\\_label.py:153: DataConversionWarning: A column-vector y was passed when a 1d array was expected. Please change the shape of y to (n_samples, ), for example using ravel().\n",
      "  y = column_or_1d(y, warn=True)\n"
     ]
    },
    {
     "name": "stdout",
     "output_type": "stream",
     "text": [
      "Num of ex to cut:  0\n",
      "Num of ex to add:  4\n"
     ]
    },
    {
     "name": "stderr",
     "output_type": "stream",
     "text": [
      "C:\\Appli\\main_env\\lib\\site-packages\\sklearn\\preprocessing\\_label.py:153: DataConversionWarning: A column-vector y was passed when a 1d array was expected. Please change the shape of y to (n_samples, ), for example using ravel().\n",
      "  y = column_or_1d(y, warn=True)\n",
      "C:\\Users\\isaac\\Documents\\Challenge_Francois\\splid-devkit\\baseline_submissions\\isaac_ml\\utils_isaac.py:231: FutureWarning: Not prepending group keys to the result index of transform-like apply. In the future, the group keys will be included in the index, regardless of whether the applied function returns a like-indexed object.\n",
      "To preserve the previous behavior, use\n",
      "\n",
      "\t>>> .groupby(..., group_keys=False)\n",
      "\n",
      "To adopt the future behavior and silence this warning, use \n",
      "\n",
      "\t>>> .groupby(..., group_keys=True)\n",
      "  keep = groups[['Node', 'Type']].apply(\n"
     ]
    },
    {
     "name": "stdout",
     "output_type": "stream",
     "text": [
      "Precision for the validation set: 0.96\n",
      "Recall for the validation set: 0.84\n",
      "F2 for the validation set: 0.86\n",
      "RMSE for the validation set: 0.09\n",
      "---------------------------------------------------------------------------\n",
      "0.26 0.01\n",
      "Num of ex to cut:  0\n",
      "Num of ex to add:  9\n",
      "Num of ex to cut:  0\n"
     ]
    },
    {
     "name": "stderr",
     "output_type": "stream",
     "text": [
      "C:\\Appli\\main_env\\lib\\site-packages\\sklearn\\preprocessing\\_label.py:153: DataConversionWarning: A column-vector y was passed when a 1d array was expected. Please change the shape of y to (n_samples, ), for example using ravel().\n",
      "  y = column_or_1d(y, warn=True)\n"
     ]
    },
    {
     "name": "stdout",
     "output_type": "stream",
     "text": [
      "Num of ex to add:  259\n"
     ]
    },
    {
     "name": "stderr",
     "output_type": "stream",
     "text": [
      "C:\\Appli\\main_env\\lib\\site-packages\\sklearn\\preprocessing\\_label.py:153: DataConversionWarning: A column-vector y was passed when a 1d array was expected. Please change the shape of y to (n_samples, ), for example using ravel().\n",
      "  y = column_or_1d(y, warn=True)\n",
      "C:\\Users\\isaac\\Documents\\Challenge_Francois\\splid-devkit\\baseline_submissions\\isaac_ml\\utils_isaac.py:231: FutureWarning: Not prepending group keys to the result index of transform-like apply. In the future, the group keys will be included in the index, regardless of whether the applied function returns a like-indexed object.\n",
      "To preserve the previous behavior, use\n",
      "\n",
      "\t>>> .groupby(..., group_keys=False)\n",
      "\n",
      "To adopt the future behavior and silence this warning, use \n",
      "\n",
      "\t>>> .groupby(..., group_keys=True)\n",
      "  keep = groups[['Node', 'Type']].apply(\n"
     ]
    },
    {
     "name": "stdout",
     "output_type": "stream",
     "text": [
      "Precision for the validation set: 0.77\n",
      "Recall for the validation set: 0.84\n",
      "F2 for the validation set: 0.82\n",
      "RMSE for the validation set: 0.09\n",
      "---------------------------------------------------------------------------\n",
      "0.26 0.06\n",
      "Num of ex to cut:  0\n",
      "Num of ex to add:  9\n"
     ]
    },
    {
     "name": "stderr",
     "output_type": "stream",
     "text": [
      "C:\\Appli\\main_env\\lib\\site-packages\\sklearn\\preprocessing\\_label.py:153: DataConversionWarning: A column-vector y was passed when a 1d array was expected. Please change the shape of y to (n_samples, ), for example using ravel().\n",
      "  y = column_or_1d(y, warn=True)\n"
     ]
    },
    {
     "name": "stdout",
     "output_type": "stream",
     "text": [
      "Num of ex to cut:  0\n",
      "Num of ex to add:  38\n"
     ]
    },
    {
     "name": "stderr",
     "output_type": "stream",
     "text": [
      "C:\\Appli\\main_env\\lib\\site-packages\\sklearn\\preprocessing\\_label.py:153: DataConversionWarning: A column-vector y was passed when a 1d array was expected. Please change the shape of y to (n_samples, ), for example using ravel().\n",
      "  y = column_or_1d(y, warn=True)\n",
      "C:\\Users\\isaac\\Documents\\Challenge_Francois\\splid-devkit\\baseline_submissions\\isaac_ml\\utils_isaac.py:231: FutureWarning: Not prepending group keys to the result index of transform-like apply. In the future, the group keys will be included in the index, regardless of whether the applied function returns a like-indexed object.\n",
      "To preserve the previous behavior, use\n",
      "\n",
      "\t>>> .groupby(..., group_keys=False)\n",
      "\n",
      "To adopt the future behavior and silence this warning, use \n",
      "\n",
      "\t>>> .groupby(..., group_keys=True)\n",
      "  keep = groups[['Node', 'Type']].apply(\n"
     ]
    },
    {
     "name": "stdout",
     "output_type": "stream",
     "text": [
      "Precision for the validation set: 0.92\n",
      "Recall for the validation set: 0.86\n",
      "F2 for the validation set: 0.87\n",
      "RMSE for the validation set: 0.06\n",
      "---------------------------------------------------------------------------\n",
      "0.26 0.11\n",
      "Num of ex to cut:  0\n",
      "Num of ex to add:  9\n"
     ]
    },
    {
     "name": "stderr",
     "output_type": "stream",
     "text": [
      "C:\\Appli\\main_env\\lib\\site-packages\\sklearn\\preprocessing\\_label.py:153: DataConversionWarning: A column-vector y was passed when a 1d array was expected. Please change the shape of y to (n_samples, ), for example using ravel().\n",
      "  y = column_or_1d(y, warn=True)\n"
     ]
    },
    {
     "name": "stdout",
     "output_type": "stream",
     "text": [
      "Num of ex to cut:  0\n",
      "Num of ex to add:  27\n"
     ]
    },
    {
     "name": "stderr",
     "output_type": "stream",
     "text": [
      "C:\\Appli\\main_env\\lib\\site-packages\\sklearn\\preprocessing\\_label.py:153: DataConversionWarning: A column-vector y was passed when a 1d array was expected. Please change the shape of y to (n_samples, ), for example using ravel().\n",
      "  y = column_or_1d(y, warn=True)\n",
      "C:\\Users\\isaac\\Documents\\Challenge_Francois\\splid-devkit\\baseline_submissions\\isaac_ml\\utils_isaac.py:231: FutureWarning: Not prepending group keys to the result index of transform-like apply. In the future, the group keys will be included in the index, regardless of whether the applied function returns a like-indexed object.\n",
      "To preserve the previous behavior, use\n",
      "\n",
      "\t>>> .groupby(..., group_keys=False)\n",
      "\n",
      "To adopt the future behavior and silence this warning, use \n",
      "\n",
      "\t>>> .groupby(..., group_keys=True)\n",
      "  keep = groups[['Node', 'Type']].apply(\n"
     ]
    },
    {
     "name": "stdout",
     "output_type": "stream",
     "text": [
      "Precision for the validation set: 0.92\n",
      "Recall for the validation set: 0.86\n",
      "F2 for the validation set: 0.87\n",
      "RMSE for the validation set: 0.09\n",
      "---------------------------------------------------------------------------\n",
      "0.26 0.16\n",
      "Num of ex to cut:  0\n",
      "Num of ex to add:  9\n"
     ]
    },
    {
     "name": "stderr",
     "output_type": "stream",
     "text": [
      "C:\\Appli\\main_env\\lib\\site-packages\\sklearn\\preprocessing\\_label.py:153: DataConversionWarning: A column-vector y was passed when a 1d array was expected. Please change the shape of y to (n_samples, ), for example using ravel().\n",
      "  y = column_or_1d(y, warn=True)\n"
     ]
    },
    {
     "name": "stdout",
     "output_type": "stream",
     "text": [
      "Num of ex to cut:  0\n",
      "Num of ex to add:  17\n"
     ]
    },
    {
     "name": "stderr",
     "output_type": "stream",
     "text": [
      "C:\\Appli\\main_env\\lib\\site-packages\\sklearn\\preprocessing\\_label.py:153: DataConversionWarning: A column-vector y was passed when a 1d array was expected. Please change the shape of y to (n_samples, ), for example using ravel().\n",
      "  y = column_or_1d(y, warn=True)\n",
      "C:\\Users\\isaac\\Documents\\Challenge_Francois\\splid-devkit\\baseline_submissions\\isaac_ml\\utils_isaac.py:231: FutureWarning: Not prepending group keys to the result index of transform-like apply. In the future, the group keys will be included in the index, regardless of whether the applied function returns a like-indexed object.\n",
      "To preserve the previous behavior, use\n",
      "\n",
      "\t>>> .groupby(..., group_keys=False)\n",
      "\n",
      "To adopt the future behavior and silence this warning, use \n",
      "\n",
      "\t>>> .groupby(..., group_keys=True)\n",
      "  keep = groups[['Node', 'Type']].apply(\n"
     ]
    },
    {
     "name": "stdout",
     "output_type": "stream",
     "text": [
      "Precision for the validation set: 0.94\n",
      "Recall for the validation set: 0.86\n",
      "F2 for the validation set: 0.87\n",
      "RMSE for the validation set: 0.09\n",
      "---------------------------------------------------------------------------\n",
      "0.26 0.21\n",
      "Num of ex to cut:  0\n",
      "Num of ex to add:  9\n",
      "Num of ex to cut:  0\n"
     ]
    },
    {
     "name": "stderr",
     "output_type": "stream",
     "text": [
      "C:\\Appli\\main_env\\lib\\site-packages\\sklearn\\preprocessing\\_label.py:153: DataConversionWarning: A column-vector y was passed when a 1d array was expected. Please change the shape of y to (n_samples, ), for example using ravel().\n",
      "  y = column_or_1d(y, warn=True)\n"
     ]
    },
    {
     "name": "stdout",
     "output_type": "stream",
     "text": [
      "Num of ex to add:  14\n"
     ]
    },
    {
     "name": "stderr",
     "output_type": "stream",
     "text": [
      "C:\\Appli\\main_env\\lib\\site-packages\\sklearn\\preprocessing\\_label.py:153: DataConversionWarning: A column-vector y was passed when a 1d array was expected. Please change the shape of y to (n_samples, ), for example using ravel().\n",
      "  y = column_or_1d(y, warn=True)\n",
      "C:\\Users\\isaac\\Documents\\Challenge_Francois\\splid-devkit\\baseline_submissions\\isaac_ml\\utils_isaac.py:231: FutureWarning: Not prepending group keys to the result index of transform-like apply. In the future, the group keys will be included in the index, regardless of whether the applied function returns a like-indexed object.\n",
      "To preserve the previous behavior, use\n",
      "\n",
      "\t>>> .groupby(..., group_keys=False)\n",
      "\n",
      "To adopt the future behavior and silence this warning, use \n",
      "\n",
      "\t>>> .groupby(..., group_keys=True)\n",
      "  keep = groups[['Node', 'Type']].apply(\n"
     ]
    },
    {
     "name": "stdout",
     "output_type": "stream",
     "text": [
      "Precision for the validation set: 0.94\n",
      "Recall for the validation set: 0.85\n",
      "F2 for the validation set: 0.87\n",
      "RMSE for the validation set: 0.06\n",
      "---------------------------------------------------------------------------\n",
      "0.26 0.26\n",
      "Num of ex to cut:  0\n",
      "Num of ex to add:  9\n"
     ]
    },
    {
     "name": "stderr",
     "output_type": "stream",
     "text": [
      "C:\\Appli\\main_env\\lib\\site-packages\\sklearn\\preprocessing\\_label.py:153: DataConversionWarning: A column-vector y was passed when a 1d array was expected. Please change the shape of y to (n_samples, ), for example using ravel().\n",
      "  y = column_or_1d(y, warn=True)\n"
     ]
    },
    {
     "name": "stdout",
     "output_type": "stream",
     "text": [
      "Num of ex to cut:  0\n",
      "Num of ex to add:  10\n"
     ]
    },
    {
     "name": "stderr",
     "output_type": "stream",
     "text": [
      "C:\\Appli\\main_env\\lib\\site-packages\\sklearn\\preprocessing\\_label.py:153: DataConversionWarning: A column-vector y was passed when a 1d array was expected. Please change the shape of y to (n_samples, ), for example using ravel().\n",
      "  y = column_or_1d(y, warn=True)\n",
      "C:\\Users\\isaac\\Documents\\Challenge_Francois\\splid-devkit\\baseline_submissions\\isaac_ml\\utils_isaac.py:231: FutureWarning: Not prepending group keys to the result index of transform-like apply. In the future, the group keys will be included in the index, regardless of whether the applied function returns a like-indexed object.\n",
      "To preserve the previous behavior, use\n",
      "\n",
      "\t>>> .groupby(..., group_keys=False)\n",
      "\n",
      "To adopt the future behavior and silence this warning, use \n",
      "\n",
      "\t>>> .groupby(..., group_keys=True)\n",
      "  keep = groups[['Node', 'Type']].apply(\n"
     ]
    },
    {
     "name": "stdout",
     "output_type": "stream",
     "text": [
      "Precision for the validation set: 0.95\n",
      "Recall for the validation set: 0.85\n",
      "F2 for the validation set: 0.87\n",
      "RMSE for the validation set: 0.06\n",
      "---------------------------------------------------------------------------\n",
      "0.26 0.31\n",
      "Num of ex to cut:  0\n",
      "Num of ex to add:  9\n"
     ]
    },
    {
     "name": "stderr",
     "output_type": "stream",
     "text": [
      "C:\\Appli\\main_env\\lib\\site-packages\\sklearn\\preprocessing\\_label.py:153: DataConversionWarning: A column-vector y was passed when a 1d array was expected. Please change the shape of y to (n_samples, ), for example using ravel().\n",
      "  y = column_or_1d(y, warn=True)\n"
     ]
    },
    {
     "name": "stdout",
     "output_type": "stream",
     "text": [
      "Num of ex to cut:  0\n",
      "Num of ex to add:  5\n"
     ]
    },
    {
     "name": "stderr",
     "output_type": "stream",
     "text": [
      "C:\\Appli\\main_env\\lib\\site-packages\\sklearn\\preprocessing\\_label.py:153: DataConversionWarning: A column-vector y was passed when a 1d array was expected. Please change the shape of y to (n_samples, ), for example using ravel().\n",
      "  y = column_or_1d(y, warn=True)\n",
      "C:\\Users\\isaac\\Documents\\Challenge_Francois\\splid-devkit\\baseline_submissions\\isaac_ml\\utils_isaac.py:231: FutureWarning: Not prepending group keys to the result index of transform-like apply. In the future, the group keys will be included in the index, regardless of whether the applied function returns a like-indexed object.\n",
      "To preserve the previous behavior, use\n",
      "\n",
      "\t>>> .groupby(..., group_keys=False)\n",
      "\n",
      "To adopt the future behavior and silence this warning, use \n",
      "\n",
      "\t>>> .groupby(..., group_keys=True)\n",
      "  keep = groups[['Node', 'Type']].apply(\n"
     ]
    },
    {
     "name": "stdout",
     "output_type": "stream",
     "text": [
      "Precision for the validation set: 0.96\n",
      "Recall for the validation set: 0.85\n",
      "F2 for the validation set: 0.87\n",
      "RMSE for the validation set: 0.06\n",
      "---------------------------------------------------------------------------\n",
      "0.26 0.36\n",
      "Num of ex to cut:  0\n",
      "Num of ex to add:  9\n"
     ]
    },
    {
     "name": "stderr",
     "output_type": "stream",
     "text": [
      "C:\\Appli\\main_env\\lib\\site-packages\\sklearn\\preprocessing\\_label.py:153: DataConversionWarning: A column-vector y was passed when a 1d array was expected. Please change the shape of y to (n_samples, ), for example using ravel().\n",
      "  y = column_or_1d(y, warn=True)\n"
     ]
    },
    {
     "name": "stdout",
     "output_type": "stream",
     "text": [
      "Num of ex to cut:  0\n",
      "Num of ex to add:  4\n"
     ]
    },
    {
     "name": "stderr",
     "output_type": "stream",
     "text": [
      "C:\\Appli\\main_env\\lib\\site-packages\\sklearn\\preprocessing\\_label.py:153: DataConversionWarning: A column-vector y was passed when a 1d array was expected. Please change the shape of y to (n_samples, ), for example using ravel().\n",
      "  y = column_or_1d(y, warn=True)\n",
      "C:\\Users\\isaac\\Documents\\Challenge_Francois\\splid-devkit\\baseline_submissions\\isaac_ml\\utils_isaac.py:231: FutureWarning: Not prepending group keys to the result index of transform-like apply. In the future, the group keys will be included in the index, regardless of whether the applied function returns a like-indexed object.\n",
      "To preserve the previous behavior, use\n",
      "\n",
      "\t>>> .groupby(..., group_keys=False)\n",
      "\n",
      "To adopt the future behavior and silence this warning, use \n",
      "\n",
      "\t>>> .groupby(..., group_keys=True)\n",
      "  keep = groups[['Node', 'Type']].apply(\n"
     ]
    },
    {
     "name": "stdout",
     "output_type": "stream",
     "text": [
      "Precision for the validation set: 0.96\n",
      "Recall for the validation set: 0.84\n",
      "F2 for the validation set: 0.86\n",
      "RMSE for the validation set: 0.06\n",
      "---------------------------------------------------------------------------\n",
      "0.31 0.01\n",
      "Num of ex to cut:  0\n",
      "Num of ex to add:  5\n"
     ]
    },
    {
     "name": "stderr",
     "output_type": "stream",
     "text": [
      "C:\\Appli\\main_env\\lib\\site-packages\\sklearn\\preprocessing\\_label.py:153: DataConversionWarning: A column-vector y was passed when a 1d array was expected. Please change the shape of y to (n_samples, ), for example using ravel().\n",
      "  y = column_or_1d(y, warn=True)\n"
     ]
    },
    {
     "name": "stdout",
     "output_type": "stream",
     "text": [
      "Num of ex to cut:  0\n",
      "Num of ex to add:  259\n"
     ]
    },
    {
     "name": "stderr",
     "output_type": "stream",
     "text": [
      "C:\\Appli\\main_env\\lib\\site-packages\\sklearn\\preprocessing\\_label.py:153: DataConversionWarning: A column-vector y was passed when a 1d array was expected. Please change the shape of y to (n_samples, ), for example using ravel().\n",
      "  y = column_or_1d(y, warn=True)\n",
      "C:\\Users\\isaac\\Documents\\Challenge_Francois\\splid-devkit\\baseline_submissions\\isaac_ml\\utils_isaac.py:231: FutureWarning: Not prepending group keys to the result index of transform-like apply. In the future, the group keys will be included in the index, regardless of whether the applied function returns a like-indexed object.\n",
      "To preserve the previous behavior, use\n",
      "\n",
      "\t>>> .groupby(..., group_keys=False)\n",
      "\n",
      "To adopt the future behavior and silence this warning, use \n",
      "\n",
      "\t>>> .groupby(..., group_keys=True)\n",
      "  keep = groups[['Node', 'Type']].apply(\n"
     ]
    },
    {
     "name": "stdout",
     "output_type": "stream",
     "text": [
      "Precision for the validation set: 0.76\n",
      "Recall for the validation set: 0.83\n",
      "F2 for the validation set: 0.82\n",
      "RMSE for the validation set: 0.06\n",
      "---------------------------------------------------------------------------\n",
      "0.31 0.06\n",
      "Num of ex to cut:  0\n",
      "Num of ex to add:  5\n"
     ]
    },
    {
     "name": "stderr",
     "output_type": "stream",
     "text": [
      "C:\\Appli\\main_env\\lib\\site-packages\\sklearn\\preprocessing\\_label.py:153: DataConversionWarning: A column-vector y was passed when a 1d array was expected. Please change the shape of y to (n_samples, ), for example using ravel().\n",
      "  y = column_or_1d(y, warn=True)\n"
     ]
    },
    {
     "name": "stdout",
     "output_type": "stream",
     "text": [
      "Num of ex to cut:  0\n",
      "Num of ex to add:  38\n"
     ]
    },
    {
     "name": "stderr",
     "output_type": "stream",
     "text": [
      "C:\\Appli\\main_env\\lib\\site-packages\\sklearn\\preprocessing\\_label.py:153: DataConversionWarning: A column-vector y was passed when a 1d array was expected. Please change the shape of y to (n_samples, ), for example using ravel().\n",
      "  y = column_or_1d(y, warn=True)\n",
      "C:\\Users\\isaac\\Documents\\Challenge_Francois\\splid-devkit\\baseline_submissions\\isaac_ml\\utils_isaac.py:231: FutureWarning: Not prepending group keys to the result index of transform-like apply. In the future, the group keys will be included in the index, regardless of whether the applied function returns a like-indexed object.\n",
      "To preserve the previous behavior, use\n",
      "\n",
      "\t>>> .groupby(..., group_keys=False)\n",
      "\n",
      "To adopt the future behavior and silence this warning, use \n",
      "\n",
      "\t>>> .groupby(..., group_keys=True)\n",
      "  keep = groups[['Node', 'Type']].apply(\n"
     ]
    },
    {
     "name": "stdout",
     "output_type": "stream",
     "text": [
      "Precision for the validation set: 0.91\n",
      "Recall for the validation set: 0.86\n",
      "F2 for the validation set: 0.87\n",
      "RMSE for the validation set: 0.00\n",
      "---------------------------------------------------------------------------\n",
      "0.31 0.11\n",
      "Num of ex to cut:  0\n",
      "Num of ex to add:  5\n",
      "Num of ex to cut:  0\n"
     ]
    },
    {
     "name": "stderr",
     "output_type": "stream",
     "text": [
      "C:\\Appli\\main_env\\lib\\site-packages\\sklearn\\preprocessing\\_label.py:153: DataConversionWarning: A column-vector y was passed when a 1d array was expected. Please change the shape of y to (n_samples, ), for example using ravel().\n",
      "  y = column_or_1d(y, warn=True)\n"
     ]
    },
    {
     "name": "stdout",
     "output_type": "stream",
     "text": [
      "Num of ex to add:  27\n"
     ]
    },
    {
     "name": "stderr",
     "output_type": "stream",
     "text": [
      "C:\\Appli\\main_env\\lib\\site-packages\\sklearn\\preprocessing\\_label.py:153: DataConversionWarning: A column-vector y was passed when a 1d array was expected. Please change the shape of y to (n_samples, ), for example using ravel().\n",
      "  y = column_or_1d(y, warn=True)\n",
      "C:\\Users\\isaac\\Documents\\Challenge_Francois\\splid-devkit\\baseline_submissions\\isaac_ml\\utils_isaac.py:231: FutureWarning: Not prepending group keys to the result index of transform-like apply. In the future, the group keys will be included in the index, regardless of whether the applied function returns a like-indexed object.\n",
      "To preserve the previous behavior, use\n",
      "\n",
      "\t>>> .groupby(..., group_keys=False)\n",
      "\n",
      "To adopt the future behavior and silence this warning, use \n",
      "\n",
      "\t>>> .groupby(..., group_keys=True)\n",
      "  keep = groups[['Node', 'Type']].apply(\n"
     ]
    },
    {
     "name": "stdout",
     "output_type": "stream",
     "text": [
      "Precision for the validation set: 0.92\n",
      "Recall for the validation set: 0.86\n",
      "F2 for the validation set: 0.87\n",
      "RMSE for the validation set: 0.06\n",
      "---------------------------------------------------------------------------\n",
      "0.31 0.16\n",
      "Num of ex to cut:  0\n",
      "Num of ex to add:  5\n"
     ]
    },
    {
     "name": "stderr",
     "output_type": "stream",
     "text": [
      "C:\\Appli\\main_env\\lib\\site-packages\\sklearn\\preprocessing\\_label.py:153: DataConversionWarning: A column-vector y was passed when a 1d array was expected. Please change the shape of y to (n_samples, ), for example using ravel().\n",
      "  y = column_or_1d(y, warn=True)\n"
     ]
    },
    {
     "name": "stdout",
     "output_type": "stream",
     "text": [
      "Num of ex to cut:  0\n",
      "Num of ex to add:  17\n"
     ]
    },
    {
     "name": "stderr",
     "output_type": "stream",
     "text": [
      "C:\\Appli\\main_env\\lib\\site-packages\\sklearn\\preprocessing\\_label.py:153: DataConversionWarning: A column-vector y was passed when a 1d array was expected. Please change the shape of y to (n_samples, ), for example using ravel().\n",
      "  y = column_or_1d(y, warn=True)\n",
      "C:\\Users\\isaac\\Documents\\Challenge_Francois\\splid-devkit\\baseline_submissions\\isaac_ml\\utils_isaac.py:231: FutureWarning: Not prepending group keys to the result index of transform-like apply. In the future, the group keys will be included in the index, regardless of whether the applied function returns a like-indexed object.\n",
      "To preserve the previous behavior, use\n",
      "\n",
      "\t>>> .groupby(..., group_keys=False)\n",
      "\n",
      "To adopt the future behavior and silence this warning, use \n",
      "\n",
      "\t>>> .groupby(..., group_keys=True)\n",
      "  keep = groups[['Node', 'Type']].apply(\n"
     ]
    },
    {
     "name": "stdout",
     "output_type": "stream",
     "text": [
      "Precision for the validation set: 0.93\n",
      "Recall for the validation set: 0.85\n",
      "F2 for the validation set: 0.87\n",
      "RMSE for the validation set: 0.06\n",
      "---------------------------------------------------------------------------\n",
      "0.31 0.21\n",
      "Num of ex to cut:  0\n",
      "Num of ex to add:  5\n"
     ]
    },
    {
     "name": "stderr",
     "output_type": "stream",
     "text": [
      "C:\\Appli\\main_env\\lib\\site-packages\\sklearn\\preprocessing\\_label.py:153: DataConversionWarning: A column-vector y was passed when a 1d array was expected. Please change the shape of y to (n_samples, ), for example using ravel().\n",
      "  y = column_or_1d(y, warn=True)\n"
     ]
    },
    {
     "name": "stdout",
     "output_type": "stream",
     "text": [
      "Num of ex to cut:  0\n",
      "Num of ex to add:  14\n"
     ]
    },
    {
     "name": "stderr",
     "output_type": "stream",
     "text": [
      "C:\\Appli\\main_env\\lib\\site-packages\\sklearn\\preprocessing\\_label.py:153: DataConversionWarning: A column-vector y was passed when a 1d array was expected. Please change the shape of y to (n_samples, ), for example using ravel().\n",
      "  y = column_or_1d(y, warn=True)\n",
      "C:\\Users\\isaac\\Documents\\Challenge_Francois\\splid-devkit\\baseline_submissions\\isaac_ml\\utils_isaac.py:231: FutureWarning: Not prepending group keys to the result index of transform-like apply. In the future, the group keys will be included in the index, regardless of whether the applied function returns a like-indexed object.\n",
      "To preserve the previous behavior, use\n",
      "\n",
      "\t>>> .groupby(..., group_keys=False)\n",
      "\n",
      "To adopt the future behavior and silence this warning, use \n",
      "\n",
      "\t>>> .groupby(..., group_keys=True)\n",
      "  keep = groups[['Node', 'Type']].apply(\n"
     ]
    },
    {
     "name": "stdout",
     "output_type": "stream",
     "text": [
      "Precision for the validation set: 0.94\n",
      "Recall for the validation set: 0.85\n",
      "F2 for the validation set: 0.86\n",
      "RMSE for the validation set: 0.00\n",
      "---------------------------------------------------------------------------\n",
      "0.31 0.26\n",
      "Num of ex to cut:  0\n",
      "Num of ex to add:  5\n"
     ]
    },
    {
     "name": "stderr",
     "output_type": "stream",
     "text": [
      "C:\\Appli\\main_env\\lib\\site-packages\\sklearn\\preprocessing\\_label.py:153: DataConversionWarning: A column-vector y was passed when a 1d array was expected. Please change the shape of y to (n_samples, ), for example using ravel().\n",
      "  y = column_or_1d(y, warn=True)\n"
     ]
    },
    {
     "name": "stdout",
     "output_type": "stream",
     "text": [
      "Num of ex to cut:  0\n",
      "Num of ex to add:  10\n"
     ]
    },
    {
     "name": "stderr",
     "output_type": "stream",
     "text": [
      "C:\\Appli\\main_env\\lib\\site-packages\\sklearn\\preprocessing\\_label.py:153: DataConversionWarning: A column-vector y was passed when a 1d array was expected. Please change the shape of y to (n_samples, ), for example using ravel().\n",
      "  y = column_or_1d(y, warn=True)\n",
      "C:\\Users\\isaac\\Documents\\Challenge_Francois\\splid-devkit\\baseline_submissions\\isaac_ml\\utils_isaac.py:231: FutureWarning: Not prepending group keys to the result index of transform-like apply. In the future, the group keys will be included in the index, regardless of whether the applied function returns a like-indexed object.\n",
      "To preserve the previous behavior, use\n",
      "\n",
      "\t>>> .groupby(..., group_keys=False)\n",
      "\n",
      "To adopt the future behavior and silence this warning, use \n",
      "\n",
      "\t>>> .groupby(..., group_keys=True)\n",
      "  keep = groups[['Node', 'Type']].apply(\n"
     ]
    },
    {
     "name": "stdout",
     "output_type": "stream",
     "text": [
      "Precision for the validation set: 0.95\n",
      "Recall for the validation set: 0.85\n",
      "F2 for the validation set: 0.87\n",
      "RMSE for the validation set: 0.00\n",
      "---------------------------------------------------------------------------\n",
      "0.31 0.31\n",
      "Num of ex to cut:  0\n",
      "Num of ex to add:  5\n"
     ]
    },
    {
     "name": "stderr",
     "output_type": "stream",
     "text": [
      "C:\\Appli\\main_env\\lib\\site-packages\\sklearn\\preprocessing\\_label.py:153: DataConversionWarning: A column-vector y was passed when a 1d array was expected. Please change the shape of y to (n_samples, ), for example using ravel().\n",
      "  y = column_or_1d(y, warn=True)\n"
     ]
    },
    {
     "name": "stdout",
     "output_type": "stream",
     "text": [
      "Num of ex to cut:  0\n",
      "Num of ex to add:  5\n"
     ]
    },
    {
     "name": "stderr",
     "output_type": "stream",
     "text": [
      "C:\\Appli\\main_env\\lib\\site-packages\\sklearn\\preprocessing\\_label.py:153: DataConversionWarning: A column-vector y was passed when a 1d array was expected. Please change the shape of y to (n_samples, ), for example using ravel().\n",
      "  y = column_or_1d(y, warn=True)\n",
      "C:\\Users\\isaac\\Documents\\Challenge_Francois\\splid-devkit\\baseline_submissions\\isaac_ml\\utils_isaac.py:231: FutureWarning: Not prepending group keys to the result index of transform-like apply. In the future, the group keys will be included in the index, regardless of whether the applied function returns a like-indexed object.\n",
      "To preserve the previous behavior, use\n",
      "\n",
      "\t>>> .groupby(..., group_keys=False)\n",
      "\n",
      "To adopt the future behavior and silence this warning, use \n",
      "\n",
      "\t>>> .groupby(..., group_keys=True)\n",
      "  keep = groups[['Node', 'Type']].apply(\n"
     ]
    },
    {
     "name": "stdout",
     "output_type": "stream",
     "text": [
      "Precision for the validation set: 0.96\n",
      "Recall for the validation set: 0.84\n",
      "F2 for the validation set: 0.86\n",
      "RMSE for the validation set: 0.00\n",
      "---------------------------------------------------------------------------\n",
      "0.31 0.36\n",
      "Num of ex to cut:  0\n",
      "Num of ex to add:  5\n"
     ]
    },
    {
     "name": "stderr",
     "output_type": "stream",
     "text": [
      "C:\\Appli\\main_env\\lib\\site-packages\\sklearn\\preprocessing\\_label.py:153: DataConversionWarning: A column-vector y was passed when a 1d array was expected. Please change the shape of y to (n_samples, ), for example using ravel().\n",
      "  y = column_or_1d(y, warn=True)\n"
     ]
    },
    {
     "name": "stdout",
     "output_type": "stream",
     "text": [
      "Num of ex to cut:  0\n",
      "Num of ex to add:  4\n"
     ]
    },
    {
     "name": "stderr",
     "output_type": "stream",
     "text": [
      "C:\\Appli\\main_env\\lib\\site-packages\\sklearn\\preprocessing\\_label.py:153: DataConversionWarning: A column-vector y was passed when a 1d array was expected. Please change the shape of y to (n_samples, ), for example using ravel().\n",
      "  y = column_or_1d(y, warn=True)\n",
      "C:\\Users\\isaac\\Documents\\Challenge_Francois\\splid-devkit\\baseline_submissions\\isaac_ml\\utils_isaac.py:231: FutureWarning: Not prepending group keys to the result index of transform-like apply. In the future, the group keys will be included in the index, regardless of whether the applied function returns a like-indexed object.\n",
      "To preserve the previous behavior, use\n",
      "\n",
      "\t>>> .groupby(..., group_keys=False)\n",
      "\n",
      "To adopt the future behavior and silence this warning, use \n",
      "\n",
      "\t>>> .groupby(..., group_keys=True)\n",
      "  keep = groups[['Node', 'Type']].apply(\n"
     ]
    },
    {
     "name": "stdout",
     "output_type": "stream",
     "text": [
      "Precision for the validation set: 0.96\n",
      "Recall for the validation set: 0.84\n",
      "F2 for the validation set: 0.86\n",
      "RMSE for the validation set: 0.00\n",
      "---------------------------------------------------------------------------\n",
      "0.36 0.01\n",
      "Num of ex to cut:  0\n",
      "Num of ex to add:  4\n"
     ]
    },
    {
     "name": "stderr",
     "output_type": "stream",
     "text": [
      "C:\\Appli\\main_env\\lib\\site-packages\\sklearn\\preprocessing\\_label.py:153: DataConversionWarning: A column-vector y was passed when a 1d array was expected. Please change the shape of y to (n_samples, ), for example using ravel().\n",
      "  y = column_or_1d(y, warn=True)\n"
     ]
    },
    {
     "name": "stdout",
     "output_type": "stream",
     "text": [
      "Num of ex to cut:  0\n",
      "Num of ex to add:  259\n"
     ]
    },
    {
     "name": "stderr",
     "output_type": "stream",
     "text": [
      "C:\\Appli\\main_env\\lib\\site-packages\\sklearn\\preprocessing\\_label.py:153: DataConversionWarning: A column-vector y was passed when a 1d array was expected. Please change the shape of y to (n_samples, ), for example using ravel().\n",
      "  y = column_or_1d(y, warn=True)\n",
      "C:\\Users\\isaac\\Documents\\Challenge_Francois\\splid-devkit\\baseline_submissions\\isaac_ml\\utils_isaac.py:231: FutureWarning: Not prepending group keys to the result index of transform-like apply. In the future, the group keys will be included in the index, regardless of whether the applied function returns a like-indexed object.\n",
      "To preserve the previous behavior, use\n",
      "\n",
      "\t>>> .groupby(..., group_keys=False)\n",
      "\n",
      "To adopt the future behavior and silence this warning, use \n",
      "\n",
      "\t>>> .groupby(..., group_keys=True)\n",
      "  keep = groups[['Node', 'Type']].apply(\n"
     ]
    },
    {
     "name": "stdout",
     "output_type": "stream",
     "text": [
      "Precision for the validation set: 0.76\n",
      "Recall for the validation set: 0.83\n",
      "F2 for the validation set: 0.82\n",
      "RMSE for the validation set: 0.06\n",
      "---------------------------------------------------------------------------\n",
      "0.36 0.06\n",
      "Num of ex to cut:  0\n",
      "Num of ex to add:  4\n"
     ]
    },
    {
     "name": "stderr",
     "output_type": "stream",
     "text": [
      "C:\\Appli\\main_env\\lib\\site-packages\\sklearn\\preprocessing\\_label.py:153: DataConversionWarning: A column-vector y was passed when a 1d array was expected. Please change the shape of y to (n_samples, ), for example using ravel().\n",
      "  y = column_or_1d(y, warn=True)\n"
     ]
    },
    {
     "name": "stdout",
     "output_type": "stream",
     "text": [
      "Num of ex to cut:  0\n",
      "Num of ex to add:  38\n"
     ]
    },
    {
     "name": "stderr",
     "output_type": "stream",
     "text": [
      "C:\\Appli\\main_env\\lib\\site-packages\\sklearn\\preprocessing\\_label.py:153: DataConversionWarning: A column-vector y was passed when a 1d array was expected. Please change the shape of y to (n_samples, ), for example using ravel().\n",
      "  y = column_or_1d(y, warn=True)\n",
      "C:\\Users\\isaac\\Documents\\Challenge_Francois\\splid-devkit\\baseline_submissions\\isaac_ml\\utils_isaac.py:231: FutureWarning: Not prepending group keys to the result index of transform-like apply. In the future, the group keys will be included in the index, regardless of whether the applied function returns a like-indexed object.\n",
      "To preserve the previous behavior, use\n",
      "\n",
      "\t>>> .groupby(..., group_keys=False)\n",
      "\n",
      "To adopt the future behavior and silence this warning, use \n",
      "\n",
      "\t>>> .groupby(..., group_keys=True)\n",
      "  keep = groups[['Node', 'Type']].apply(\n"
     ]
    },
    {
     "name": "stdout",
     "output_type": "stream",
     "text": [
      "Precision for the validation set: 0.91\n",
      "Recall for the validation set: 0.86\n",
      "F2 for the validation set: 0.87\n",
      "RMSE for the validation set: 0.00\n",
      "---------------------------------------------------------------------------\n",
      "0.36 0.11\n",
      "Num of ex to cut:  0\n",
      "Num of ex to add:  4\n",
      "Num of ex to cut:  0\n"
     ]
    },
    {
     "name": "stderr",
     "output_type": "stream",
     "text": [
      "C:\\Appli\\main_env\\lib\\site-packages\\sklearn\\preprocessing\\_label.py:153: DataConversionWarning: A column-vector y was passed when a 1d array was expected. Please change the shape of y to (n_samples, ), for example using ravel().\n",
      "  y = column_or_1d(y, warn=True)\n"
     ]
    },
    {
     "name": "stdout",
     "output_type": "stream",
     "text": [
      "Num of ex to add:  27\n"
     ]
    },
    {
     "name": "stderr",
     "output_type": "stream",
     "text": [
      "C:\\Appli\\main_env\\lib\\site-packages\\sklearn\\preprocessing\\_label.py:153: DataConversionWarning: A column-vector y was passed when a 1d array was expected. Please change the shape of y to (n_samples, ), for example using ravel().\n",
      "  y = column_or_1d(y, warn=True)\n",
      "C:\\Users\\isaac\\Documents\\Challenge_Francois\\splid-devkit\\baseline_submissions\\isaac_ml\\utils_isaac.py:231: FutureWarning: Not prepending group keys to the result index of transform-like apply. In the future, the group keys will be included in the index, regardless of whether the applied function returns a like-indexed object.\n",
      "To preserve the previous behavior, use\n",
      "\n",
      "\t>>> .groupby(..., group_keys=False)\n",
      "\n",
      "To adopt the future behavior and silence this warning, use \n",
      "\n",
      "\t>>> .groupby(..., group_keys=True)\n",
      "  keep = groups[['Node', 'Type']].apply(\n"
     ]
    },
    {
     "name": "stdout",
     "output_type": "stream",
     "text": [
      "Precision for the validation set: 0.92\n",
      "Recall for the validation set: 0.86\n",
      "F2 for the validation set: 0.87\n",
      "RMSE for the validation set: 0.06\n",
      "---------------------------------------------------------------------------\n",
      "0.36 0.16\n",
      "Num of ex to cut:  0\n",
      "Num of ex to add:  4\n"
     ]
    },
    {
     "name": "stderr",
     "output_type": "stream",
     "text": [
      "C:\\Appli\\main_env\\lib\\site-packages\\sklearn\\preprocessing\\_label.py:153: DataConversionWarning: A column-vector y was passed when a 1d array was expected. Please change the shape of y to (n_samples, ), for example using ravel().\n",
      "  y = column_or_1d(y, warn=True)\n"
     ]
    },
    {
     "name": "stdout",
     "output_type": "stream",
     "text": [
      "Num of ex to cut:  0\n",
      "Num of ex to add:  17\n"
     ]
    },
    {
     "name": "stderr",
     "output_type": "stream",
     "text": [
      "C:\\Appli\\main_env\\lib\\site-packages\\sklearn\\preprocessing\\_label.py:153: DataConversionWarning: A column-vector y was passed when a 1d array was expected. Please change the shape of y to (n_samples, ), for example using ravel().\n",
      "  y = column_or_1d(y, warn=True)\n",
      "C:\\Users\\isaac\\Documents\\Challenge_Francois\\splid-devkit\\baseline_submissions\\isaac_ml\\utils_isaac.py:231: FutureWarning: Not prepending group keys to the result index of transform-like apply. In the future, the group keys will be included in the index, regardless of whether the applied function returns a like-indexed object.\n",
      "To preserve the previous behavior, use\n",
      "\n",
      "\t>>> .groupby(..., group_keys=False)\n",
      "\n",
      "To adopt the future behavior and silence this warning, use \n",
      "\n",
      "\t>>> .groupby(..., group_keys=True)\n",
      "  keep = groups[['Node', 'Type']].apply(\n"
     ]
    },
    {
     "name": "stdout",
     "output_type": "stream",
     "text": [
      "Precision for the validation set: 0.93\n",
      "Recall for the validation set: 0.85\n",
      "F2 for the validation set: 0.86\n",
      "RMSE for the validation set: 0.06\n",
      "---------------------------------------------------------------------------\n",
      "0.36 0.21\n",
      "Num of ex to cut:  0\n",
      "Num of ex to add:  4\n"
     ]
    },
    {
     "name": "stderr",
     "output_type": "stream",
     "text": [
      "C:\\Appli\\main_env\\lib\\site-packages\\sklearn\\preprocessing\\_label.py:153: DataConversionWarning: A column-vector y was passed when a 1d array was expected. Please change the shape of y to (n_samples, ), for example using ravel().\n",
      "  y = column_or_1d(y, warn=True)\n"
     ]
    },
    {
     "name": "stdout",
     "output_type": "stream",
     "text": [
      "Num of ex to cut:  0\n",
      "Num of ex to add:  14\n"
     ]
    },
    {
     "name": "stderr",
     "output_type": "stream",
     "text": [
      "C:\\Appli\\main_env\\lib\\site-packages\\sklearn\\preprocessing\\_label.py:153: DataConversionWarning: A column-vector y was passed when a 1d array was expected. Please change the shape of y to (n_samples, ), for example using ravel().\n",
      "  y = column_or_1d(y, warn=True)\n",
      "C:\\Users\\isaac\\Documents\\Challenge_Francois\\splid-devkit\\baseline_submissions\\isaac_ml\\utils_isaac.py:231: FutureWarning: Not prepending group keys to the result index of transform-like apply. In the future, the group keys will be included in the index, regardless of whether the applied function returns a like-indexed object.\n",
      "To preserve the previous behavior, use\n",
      "\n",
      "\t>>> .groupby(..., group_keys=False)\n",
      "\n",
      "To adopt the future behavior and silence this warning, use \n",
      "\n",
      "\t>>> .groupby(..., group_keys=True)\n",
      "  keep = groups[['Node', 'Type']].apply(\n"
     ]
    },
    {
     "name": "stdout",
     "output_type": "stream",
     "text": [
      "Precision for the validation set: 0.94\n",
      "Recall for the validation set: 0.85\n",
      "F2 for the validation set: 0.86\n",
      "RMSE for the validation set: 0.00\n",
      "---------------------------------------------------------------------------\n",
      "0.36 0.26\n",
      "Num of ex to cut:  0\n",
      "Num of ex to add:  4\n"
     ]
    },
    {
     "name": "stderr",
     "output_type": "stream",
     "text": [
      "C:\\Appli\\main_env\\lib\\site-packages\\sklearn\\preprocessing\\_label.py:153: DataConversionWarning: A column-vector y was passed when a 1d array was expected. Please change the shape of y to (n_samples, ), for example using ravel().\n",
      "  y = column_or_1d(y, warn=True)\n"
     ]
    },
    {
     "name": "stdout",
     "output_type": "stream",
     "text": [
      "Num of ex to cut:  0\n",
      "Num of ex to add:  10\n"
     ]
    },
    {
     "name": "stderr",
     "output_type": "stream",
     "text": [
      "C:\\Appli\\main_env\\lib\\site-packages\\sklearn\\preprocessing\\_label.py:153: DataConversionWarning: A column-vector y was passed when a 1d array was expected. Please change the shape of y to (n_samples, ), for example using ravel().\n",
      "  y = column_or_1d(y, warn=True)\n",
      "C:\\Users\\isaac\\Documents\\Challenge_Francois\\splid-devkit\\baseline_submissions\\isaac_ml\\utils_isaac.py:231: FutureWarning: Not prepending group keys to the result index of transform-like apply. In the future, the group keys will be included in the index, regardless of whether the applied function returns a like-indexed object.\n",
      "To preserve the previous behavior, use\n",
      "\n",
      "\t>>> .groupby(..., group_keys=False)\n",
      "\n",
      "To adopt the future behavior and silence this warning, use \n",
      "\n",
      "\t>>> .groupby(..., group_keys=True)\n",
      "  keep = groups[['Node', 'Type']].apply(\n"
     ]
    },
    {
     "name": "stdout",
     "output_type": "stream",
     "text": [
      "Precision for the validation set: 0.95\n",
      "Recall for the validation set: 0.85\n",
      "F2 for the validation set: 0.86\n",
      "RMSE for the validation set: 0.00\n",
      "---------------------------------------------------------------------------\n",
      "0.36 0.31\n",
      "Num of ex to cut:  0\n",
      "Num of ex to add:  4\n"
     ]
    },
    {
     "name": "stderr",
     "output_type": "stream",
     "text": [
      "C:\\Appli\\main_env\\lib\\site-packages\\sklearn\\preprocessing\\_label.py:153: DataConversionWarning: A column-vector y was passed when a 1d array was expected. Please change the shape of y to (n_samples, ), for example using ravel().\n",
      "  y = column_or_1d(y, warn=True)\n"
     ]
    },
    {
     "name": "stdout",
     "output_type": "stream",
     "text": [
      "Num of ex to cut:  0\n",
      "Num of ex to add:  5\n"
     ]
    },
    {
     "name": "stderr",
     "output_type": "stream",
     "text": [
      "C:\\Appli\\main_env\\lib\\site-packages\\sklearn\\preprocessing\\_label.py:153: DataConversionWarning: A column-vector y was passed when a 1d array was expected. Please change the shape of y to (n_samples, ), for example using ravel().\n",
      "  y = column_or_1d(y, warn=True)\n",
      "C:\\Users\\isaac\\Documents\\Challenge_Francois\\splid-devkit\\baseline_submissions\\isaac_ml\\utils_isaac.py:231: FutureWarning: Not prepending group keys to the result index of transform-like apply. In the future, the group keys will be included in the index, regardless of whether the applied function returns a like-indexed object.\n",
      "To preserve the previous behavior, use\n",
      "\n",
      "\t>>> .groupby(..., group_keys=False)\n",
      "\n",
      "To adopt the future behavior and silence this warning, use \n",
      "\n",
      "\t>>> .groupby(..., group_keys=True)\n",
      "  keep = groups[['Node', 'Type']].apply(\n"
     ]
    },
    {
     "name": "stdout",
     "output_type": "stream",
     "text": [
      "Precision for the validation set: 0.96\n",
      "Recall for the validation set: 0.84\n",
      "F2 for the validation set: 0.86\n",
      "RMSE for the validation set: 0.00\n",
      "---------------------------------------------------------------------------\n",
      "0.36 0.36\n",
      "Num of ex to cut:  0\n",
      "Num of ex to add:  4\n",
      "Num of ex to cut:  0\n"
     ]
    },
    {
     "name": "stderr",
     "output_type": "stream",
     "text": [
      "C:\\Appli\\main_env\\lib\\site-packages\\sklearn\\preprocessing\\_label.py:153: DataConversionWarning: A column-vector y was passed when a 1d array was expected. Please change the shape of y to (n_samples, ), for example using ravel().\n",
      "  y = column_or_1d(y, warn=True)\n"
     ]
    },
    {
     "name": "stdout",
     "output_type": "stream",
     "text": [
      "Num of ex to add:  4\n"
     ]
    },
    {
     "name": "stderr",
     "output_type": "stream",
     "text": [
      "C:\\Appli\\main_env\\lib\\site-packages\\sklearn\\preprocessing\\_label.py:153: DataConversionWarning: A column-vector y was passed when a 1d array was expected. Please change the shape of y to (n_samples, ), for example using ravel().\n",
      "  y = column_or_1d(y, warn=True)\n",
      "C:\\Users\\isaac\\Documents\\Challenge_Francois\\splid-devkit\\baseline_submissions\\isaac_ml\\utils_isaac.py:231: FutureWarning: Not prepending group keys to the result index of transform-like apply. In the future, the group keys will be included in the index, regardless of whether the applied function returns a like-indexed object.\n",
      "To preserve the previous behavior, use\n",
      "\n",
      "\t>>> .groupby(..., group_keys=False)\n",
      "\n",
      "To adopt the future behavior and silence this warning, use \n",
      "\n",
      "\t>>> .groupby(..., group_keys=True)\n",
      "  keep = groups[['Node', 'Type']].apply(\n"
     ]
    },
    {
     "name": "stdout",
     "output_type": "stream",
     "text": [
      "Precision for the validation set: 0.96\n",
      "Recall for the validation set: 0.84\n",
      "F2 for the validation set: 0.86\n",
      "RMSE for the validation set: 0.00\n"
     ]
    }
   ],
   "source": [
    "res = {}\n",
    "for tresh_add_ew in range(1,40,5):\n",
    "    tresh_add_ew = tresh_add_ew/100\n",
    "    for tresh_add_ns in range(1,40,5):\n",
    "        tresh_add_ns = tresh_add_ns/100\n",
    "        print('---------------'*5)\n",
    "        print(tresh_add_ew,tresh_add_ns)\n",
    "        # Make predictions on the validation data for EW\n",
    "        valid_data['Predicted_EW'] = le_EW.inverse_transform(\n",
    "            #model_EW.predict(valid_data[updated_feature_cols])\n",
    "            do_prediction(model_EW,valid_data[updated_feature_cols+list(added_proba_feature_NS.columns)],threshold_ew,tresh_add_ew)\n",
    "        )\n",
    "\n",
    "        # Make predictions on the validation data for NS\n",
    "        valid_data['Predicted_NS'] = le_NS.inverse_transform(\n",
    "            #model_NS.predict(valid_data[updated_feature_cols])\n",
    "            do_prediction(model_NS,valid_data[updated_feature_cols+list(added_proba_feature_EW.columns)],threshold_ns,tresh_add_ns)\n",
    "        )\n",
    "\n",
    "        valid_data['Predicted_EW'] = valid_data['Predicted_EW'].mask(valid_data['Predicted_EW']=='Nothing').ffill()\n",
    "        valid_data['Predicted_NS'] = valid_data['Predicted_NS'].mask(valid_data['Predicted_NS']=='Nothing').ffill()\n",
    "\n",
    "        valid_results = utils.convert_classifier_output(valid_data)\n",
    "        valid_results.loc[valid_results.TimeIndex==0,'Node'] = 'SS'\n",
    "\n",
    "        evaluator_valid = evaluation.NodeDetectionEvaluator(ground_truth_valid, \n",
    "                                                      valid_results,\n",
    "                                                      tolerance=config.tolerance)\n",
    "        precision, recall, f2, rmse = evaluator_valid.score()\n",
    "        res[str(tresh_add_ns) + ' ' + str(tresh_add_ew)] = precision, recall, f2, rmse\n",
    "        print(f'Precision for the validation set: {precision:.2f}')\n",
    "        print(f'Recall for the validation set: {recall:.2f}')\n",
    "        print(f'F2 for the validation set: {f2:.2f}')\n",
    "        print(f'RMSE for the validation set: {rmse:.2f}')"
   ]
  },
  {
   "cell_type": "code",
   "execution_count": 81,
   "metadata": {
    "tags": []
   },
   "outputs": [],
   "source": []
  },
  {
   "cell_type": "code",
   "execution_count": 82,
   "metadata": {
    "tags": []
   },
   "outputs": [
    {
     "data": {
      "text/html": [
       "<div>\n",
       "<style scoped>\n",
       "    .dataframe tbody tr th:only-of-type {\n",
       "        vertical-align: middle;\n",
       "    }\n",
       "\n",
       "    .dataframe tbody tr th {\n",
       "        vertical-align: top;\n",
       "    }\n",
       "\n",
       "    .dataframe thead th {\n",
       "        text-align: right;\n",
       "    }\n",
       "</style>\n",
       "<table border=\"1\" class=\"dataframe\">\n",
       "  <thead>\n",
       "    <tr style=\"text-align: right;\">\n",
       "      <th></th>\n",
       "      <th>index</th>\n",
       "      <th>0</th>\n",
       "      <th>tresh_add_ns</th>\n",
       "      <th>tresh_add_ew</th>\n",
       "    </tr>\n",
       "  </thead>\n",
       "  <tbody>\n",
       "    <tr>\n",
       "      <th>0</th>\n",
       "      <td>0.01 0.01</td>\n",
       "      <td>0.732143</td>\n",
       "      <td>10000</td>\n",
       "      <td>1</td>\n",
       "    </tr>\n",
       "    <tr>\n",
       "      <th>1</th>\n",
       "      <td>0.06 0.01</td>\n",
       "      <td>0.867797</td>\n",
       "      <td>60000</td>\n",
       "      <td>1</td>\n",
       "    </tr>\n",
       "    <tr>\n",
       "      <th>2</th>\n",
       "      <td>0.11 0.01</td>\n",
       "      <td>0.873720</td>\n",
       "      <td>110000</td>\n",
       "      <td>1</td>\n",
       "    </tr>\n",
       "    <tr>\n",
       "      <th>3</th>\n",
       "      <td>0.16 0.01</td>\n",
       "      <td>0.885017</td>\n",
       "      <td>160000</td>\n",
       "      <td>1</td>\n",
       "    </tr>\n",
       "    <tr>\n",
       "      <th>4</th>\n",
       "      <td>0.21 0.01</td>\n",
       "      <td>0.887719</td>\n",
       "      <td>210000</td>\n",
       "      <td>1</td>\n",
       "    </tr>\n",
       "    <tr>\n",
       "      <th>...</th>\n",
       "      <td>...</td>\n",
       "      <td>...</td>\n",
       "      <td>...</td>\n",
       "      <td>...</td>\n",
       "    </tr>\n",
       "    <tr>\n",
       "      <th>59</th>\n",
       "      <td>0.16 0.36</td>\n",
       "      <td>0.932075</td>\n",
       "      <td>160000</td>\n",
       "      <td>36</td>\n",
       "    </tr>\n",
       "    <tr>\n",
       "      <th>60</th>\n",
       "      <td>0.21 0.36</td>\n",
       "      <td>0.935361</td>\n",
       "      <td>210000</td>\n",
       "      <td>36</td>\n",
       "    </tr>\n",
       "    <tr>\n",
       "      <th>61</th>\n",
       "      <td>0.26 0.36</td>\n",
       "      <td>0.949807</td>\n",
       "      <td>260000</td>\n",
       "      <td>36</td>\n",
       "    </tr>\n",
       "    <tr>\n",
       "      <th>62</th>\n",
       "      <td>0.31 0.36</td>\n",
       "      <td>0.956863</td>\n",
       "      <td>310000</td>\n",
       "      <td>36</td>\n",
       "    </tr>\n",
       "    <tr>\n",
       "      <th>63</th>\n",
       "      <td>0.36 0.36</td>\n",
       "      <td>0.956693</td>\n",
       "      <td>360000</td>\n",
       "      <td>36</td>\n",
       "    </tr>\n",
       "  </tbody>\n",
       "</table>\n",
       "<p>64 rows × 4 columns</p>\n",
       "</div>"
      ],
      "text/plain": [
       "        index         0  tresh_add_ns  tresh_add_ew\n",
       "0   0.01 0.01  0.732143         10000             1\n",
       "1   0.06 0.01  0.867797         60000             1\n",
       "2   0.11 0.01  0.873720        110000             1\n",
       "3   0.16 0.01  0.885017        160000             1\n",
       "4   0.21 0.01  0.887719        210000             1\n",
       "..        ...       ...           ...           ...\n",
       "59  0.16 0.36  0.932075        160000            36\n",
       "60  0.21 0.36  0.935361        210000            36\n",
       "61  0.26 0.36  0.949807        260000            36\n",
       "62  0.31 0.36  0.956863        310000            36\n",
       "63  0.36 0.36  0.956693        360000            36\n",
       "\n",
       "[64 rows x 4 columns]"
      ]
     },
     "execution_count": 82,
     "metadata": {},
     "output_type": "execute_result"
    }
   ],
   "source": [
    "a"
   ]
  },
  {
   "cell_type": "code",
   "execution_count": 88,
   "metadata": {
    "tags": []
   },
   "outputs": [
    {
     "data": {
      "text/html": [
       "<div>\n",
       "<style scoped>\n",
       "    .dataframe tbody tr th:only-of-type {\n",
       "        vertical-align: middle;\n",
       "    }\n",
       "\n",
       "    .dataframe tbody tr th {\n",
       "        vertical-align: top;\n",
       "    }\n",
       "\n",
       "    .dataframe thead th {\n",
       "        text-align: right;\n",
       "    }\n",
       "</style>\n",
       "<table border=\"1\" class=\"dataframe\">\n",
       "  <thead>\n",
       "    <tr style=\"text-align: right;\">\n",
       "      <th></th>\n",
       "      <th>0.01 0.01</th>\n",
       "      <th>0.06 0.01</th>\n",
       "      <th>0.11 0.01</th>\n",
       "      <th>0.16 0.01</th>\n",
       "      <th>0.21 0.01</th>\n",
       "      <th>0.26 0.01</th>\n",
       "      <th>0.31 0.01</th>\n",
       "      <th>0.36 0.01</th>\n",
       "      <th>0.01 0.06</th>\n",
       "      <th>0.06 0.06</th>\n",
       "      <th>...</th>\n",
       "      <th>0.31 0.31</th>\n",
       "      <th>0.36 0.31</th>\n",
       "      <th>0.01 0.36</th>\n",
       "      <th>0.06 0.36</th>\n",
       "      <th>0.11 0.36</th>\n",
       "      <th>0.16 0.36</th>\n",
       "      <th>0.21 0.36</th>\n",
       "      <th>0.26 0.36</th>\n",
       "      <th>0.31 0.36</th>\n",
       "      <th>0.36 0.36</th>\n",
       "    </tr>\n",
       "  </thead>\n",
       "  <tbody>\n",
       "    <tr>\n",
       "      <th>0</th>\n",
       "      <td>0.732143</td>\n",
       "      <td>0.867797</td>\n",
       "      <td>0.873720</td>\n",
       "      <td>0.885017</td>\n",
       "      <td>0.887719</td>\n",
       "      <td>0.900356</td>\n",
       "      <td>0.906137</td>\n",
       "      <td>0.905797</td>\n",
       "      <td>0.759259</td>\n",
       "      <td>0.904594</td>\n",
       "      <td>...</td>\n",
       "      <td>0.957031</td>\n",
       "      <td>0.956863</td>\n",
       "      <td>0.761146</td>\n",
       "      <td>0.912088</td>\n",
       "      <td>0.918819</td>\n",
       "      <td>0.932075</td>\n",
       "      <td>0.935361</td>\n",
       "      <td>0.949807</td>\n",
       "      <td>0.956863</td>\n",
       "      <td>0.956693</td>\n",
       "    </tr>\n",
       "    <tr>\n",
       "      <th>1</th>\n",
       "      <td>0.854167</td>\n",
       "      <td>0.879725</td>\n",
       "      <td>0.879725</td>\n",
       "      <td>0.872852</td>\n",
       "      <td>0.869416</td>\n",
       "      <td>0.869416</td>\n",
       "      <td>0.862543</td>\n",
       "      <td>0.859107</td>\n",
       "      <td>0.851211</td>\n",
       "      <td>0.876712</td>\n",
       "      <td>...</td>\n",
       "      <td>0.841924</td>\n",
       "      <td>0.838488</td>\n",
       "      <td>0.829861</td>\n",
       "      <td>0.855670</td>\n",
       "      <td>0.855670</td>\n",
       "      <td>0.848797</td>\n",
       "      <td>0.845361</td>\n",
       "      <td>0.845361</td>\n",
       "      <td>0.838488</td>\n",
       "      <td>0.835052</td>\n",
       "    </tr>\n",
       "    <tr>\n",
       "      <th>2</th>\n",
       "      <td>0.826613</td>\n",
       "      <td>0.877313</td>\n",
       "      <td>0.878518</td>\n",
       "      <td>0.875258</td>\n",
       "      <td>0.873016</td>\n",
       "      <td>0.875433</td>\n",
       "      <td>0.870923</td>\n",
       "      <td>0.868056</td>\n",
       "      <td>0.831081</td>\n",
       "      <td>0.882150</td>\n",
       "      <td>...</td>\n",
       "      <td>0.862676</td>\n",
       "      <td>0.859760</td>\n",
       "      <td>0.815143</td>\n",
       "      <td>0.866388</td>\n",
       "      <td>0.867596</td>\n",
       "      <td>0.864241</td>\n",
       "      <td>0.861948</td>\n",
       "      <td>0.864371</td>\n",
       "      <td>0.859760</td>\n",
       "      <td>0.856841</td>\n",
       "    </tr>\n",
       "    <tr>\n",
       "      <th>3</th>\n",
       "      <td>0.270501</td>\n",
       "      <td>0.257694</td>\n",
       "      <td>0.265165</td>\n",
       "      <td>0.266207</td>\n",
       "      <td>0.259217</td>\n",
       "      <td>0.259217</td>\n",
       "      <td>0.260248</td>\n",
       "      <td>0.260768</td>\n",
       "      <td>0.191273</td>\n",
       "      <td>0.176777</td>\n",
       "      <td>...</td>\n",
       "      <td>0.000000</td>\n",
       "      <td>0.000000</td>\n",
       "      <td>0.064685</td>\n",
       "      <td>0.000000</td>\n",
       "      <td>0.063372</td>\n",
       "      <td>0.063628</td>\n",
       "      <td>0.000000</td>\n",
       "      <td>0.000000</td>\n",
       "      <td>0.000000</td>\n",
       "      <td>0.000000</td>\n",
       "    </tr>\n",
       "  </tbody>\n",
       "</table>\n",
       "<p>4 rows × 64 columns</p>\n",
       "</div>"
      ],
      "text/plain": [
       "   0.01 0.01  0.06 0.01  0.11 0.01  0.16 0.01  0.21 0.01  0.26 0.01  \\\n",
       "0   0.732143   0.867797   0.873720   0.885017   0.887719   0.900356   \n",
       "1   0.854167   0.879725   0.879725   0.872852   0.869416   0.869416   \n",
       "2   0.826613   0.877313   0.878518   0.875258   0.873016   0.875433   \n",
       "3   0.270501   0.257694   0.265165   0.266207   0.259217   0.259217   \n",
       "\n",
       "   0.31 0.01  0.36 0.01  0.01 0.06  0.06 0.06  ...  0.31 0.31  0.36 0.31  \\\n",
       "0   0.906137   0.905797   0.759259   0.904594  ...   0.957031   0.956863   \n",
       "1   0.862543   0.859107   0.851211   0.876712  ...   0.841924   0.838488   \n",
       "2   0.870923   0.868056   0.831081   0.882150  ...   0.862676   0.859760   \n",
       "3   0.260248   0.260768   0.191273   0.176777  ...   0.000000   0.000000   \n",
       "\n",
       "   0.01 0.36  0.06 0.36  0.11 0.36  0.16 0.36  0.21 0.36  0.26 0.36  \\\n",
       "0   0.761146   0.912088   0.918819   0.932075   0.935361   0.949807   \n",
       "1   0.829861   0.855670   0.855670   0.848797   0.845361   0.845361   \n",
       "2   0.815143   0.866388   0.867596   0.864241   0.861948   0.864371   \n",
       "3   0.064685   0.000000   0.063372   0.063628   0.000000   0.000000   \n",
       "\n",
       "   0.31 0.36  0.36 0.36  \n",
       "0   0.956863   0.956693  \n",
       "1   0.838488   0.835052  \n",
       "2   0.859760   0.856841  \n",
       "3   0.000000   0.000000  \n",
       "\n",
       "[4 rows x 64 columns]"
      ]
     },
     "execution_count": 88,
     "metadata": {},
     "output_type": "execute_result"
    }
   ],
   "source": [
    "pd.DataFrame(res)"
   ]
  },
  {
   "cell_type": "code",
   "execution_count": 96,
   "metadata": {
    "tags": []
   },
   "outputs": [],
   "source": [
    "a = pd.DataFrame(res).loc[1].reset_index()\n",
    "a[['tresh_add_ns','tresh_add_ew']] = ((a['index'].str.split(' ').apply(pd.Series)))\n",
    "a['tresh_add_ns']=(a['tresh_add_ns'].apply(float)*100).apply(int)\n",
    "a['tresh_add_ew']=(a['tresh_add_ew'].apply(float)*100).apply(int)"
   ]
  },
  {
   "cell_type": "code",
   "execution_count": 93,
   "metadata": {
    "tags": []
   },
   "outputs": [
    {
     "data": {
      "text/html": [
       "<div>\n",
       "<style scoped>\n",
       "    .dataframe tbody tr th:only-of-type {\n",
       "        vertical-align: middle;\n",
       "    }\n",
       "\n",
       "    .dataframe tbody tr th {\n",
       "        vertical-align: top;\n",
       "    }\n",
       "\n",
       "    .dataframe thead th {\n",
       "        text-align: right;\n",
       "    }\n",
       "</style>\n",
       "<table border=\"1\" class=\"dataframe\">\n",
       "  <thead>\n",
       "    <tr style=\"text-align: right;\">\n",
       "      <th></th>\n",
       "      <th>index</th>\n",
       "      <th>2</th>\n",
       "      <th>tresh_add_ns</th>\n",
       "      <th>tresh_add_ew</th>\n",
       "    </tr>\n",
       "  </thead>\n",
       "  <tbody>\n",
       "    <tr>\n",
       "      <th>0</th>\n",
       "      <td>0.01 0.01</td>\n",
       "      <td>0.826613</td>\n",
       "      <td>1</td>\n",
       "      <td>1</td>\n",
       "    </tr>\n",
       "    <tr>\n",
       "      <th>1</th>\n",
       "      <td>0.06 0.01</td>\n",
       "      <td>0.877313</td>\n",
       "      <td>6</td>\n",
       "      <td>1</td>\n",
       "    </tr>\n",
       "    <tr>\n",
       "      <th>2</th>\n",
       "      <td>0.11 0.01</td>\n",
       "      <td>0.878518</td>\n",
       "      <td>11</td>\n",
       "      <td>1</td>\n",
       "    </tr>\n",
       "    <tr>\n",
       "      <th>3</th>\n",
       "      <td>0.16 0.01</td>\n",
       "      <td>0.875258</td>\n",
       "      <td>16</td>\n",
       "      <td>1</td>\n",
       "    </tr>\n",
       "    <tr>\n",
       "      <th>4</th>\n",
       "      <td>0.21 0.01</td>\n",
       "      <td>0.873016</td>\n",
       "      <td>21</td>\n",
       "      <td>1</td>\n",
       "    </tr>\n",
       "    <tr>\n",
       "      <th>...</th>\n",
       "      <td>...</td>\n",
       "      <td>...</td>\n",
       "      <td>...</td>\n",
       "      <td>...</td>\n",
       "    </tr>\n",
       "    <tr>\n",
       "      <th>59</th>\n",
       "      <td>0.16 0.36</td>\n",
       "      <td>0.864241</td>\n",
       "      <td>16</td>\n",
       "      <td>36</td>\n",
       "    </tr>\n",
       "    <tr>\n",
       "      <th>60</th>\n",
       "      <td>0.21 0.36</td>\n",
       "      <td>0.861948</td>\n",
       "      <td>21</td>\n",
       "      <td>36</td>\n",
       "    </tr>\n",
       "    <tr>\n",
       "      <th>61</th>\n",
       "      <td>0.26 0.36</td>\n",
       "      <td>0.864371</td>\n",
       "      <td>26</td>\n",
       "      <td>36</td>\n",
       "    </tr>\n",
       "    <tr>\n",
       "      <th>62</th>\n",
       "      <td>0.31 0.36</td>\n",
       "      <td>0.859760</td>\n",
       "      <td>31</td>\n",
       "      <td>36</td>\n",
       "    </tr>\n",
       "    <tr>\n",
       "      <th>63</th>\n",
       "      <td>0.36 0.36</td>\n",
       "      <td>0.856841</td>\n",
       "      <td>36</td>\n",
       "      <td>36</td>\n",
       "    </tr>\n",
       "  </tbody>\n",
       "</table>\n",
       "<p>64 rows × 4 columns</p>\n",
       "</div>"
      ],
      "text/plain": [
       "        index         2  tresh_add_ns  tresh_add_ew\n",
       "0   0.01 0.01  0.826613             1             1\n",
       "1   0.06 0.01  0.877313             6             1\n",
       "2   0.11 0.01  0.878518            11             1\n",
       "3   0.16 0.01  0.875258            16             1\n",
       "4   0.21 0.01  0.873016            21             1\n",
       "..        ...       ...           ...           ...\n",
       "59  0.16 0.36  0.864241            16            36\n",
       "60  0.21 0.36  0.861948            21            36\n",
       "61  0.26 0.36  0.864371            26            36\n",
       "62  0.31 0.36  0.859760            31            36\n",
       "63  0.36 0.36  0.856841            36            36\n",
       "\n",
       "[64 rows x 4 columns]"
      ]
     },
     "execution_count": 93,
     "metadata": {},
     "output_type": "execute_result"
    }
   ],
   "source": [
    "a"
   ]
  },
  {
   "cell_type": "code",
   "execution_count": 97,
   "metadata": {
    "tags": []
   },
   "outputs": [
    {
     "data": {
      "text/html": [
       "<div>\n",
       "<style scoped>\n",
       "    .dataframe tbody tr th:only-of-type {\n",
       "        vertical-align: middle;\n",
       "    }\n",
       "\n",
       "    .dataframe tbody tr th {\n",
       "        vertical-align: top;\n",
       "    }\n",
       "\n",
       "    .dataframe thead th {\n",
       "        text-align: right;\n",
       "    }\n",
       "</style>\n",
       "<table border=\"1\" class=\"dataframe\">\n",
       "  <thead>\n",
       "    <tr style=\"text-align: right;\">\n",
       "      <th>tresh_add_ew</th>\n",
       "      <th>1</th>\n",
       "      <th>6</th>\n",
       "      <th>11</th>\n",
       "      <th>16</th>\n",
       "      <th>21</th>\n",
       "      <th>26</th>\n",
       "      <th>31</th>\n",
       "      <th>36</th>\n",
       "    </tr>\n",
       "    <tr>\n",
       "      <th>tresh_add_ns</th>\n",
       "      <th></th>\n",
       "      <th></th>\n",
       "      <th></th>\n",
       "      <th></th>\n",
       "      <th></th>\n",
       "      <th></th>\n",
       "      <th></th>\n",
       "      <th></th>\n",
       "    </tr>\n",
       "  </thead>\n",
       "  <tbody>\n",
       "    <tr>\n",
       "      <th>1</th>\n",
       "      <td>85.416667</td>\n",
       "      <td>85.121107</td>\n",
       "      <td>85.121107</td>\n",
       "      <td>84.083045</td>\n",
       "      <td>83.737024</td>\n",
       "      <td>83.737024</td>\n",
       "      <td>83.333333</td>\n",
       "      <td>82.986111</td>\n",
       "    </tr>\n",
       "    <tr>\n",
       "      <th>6</th>\n",
       "      <td>87.972509</td>\n",
       "      <td>87.671233</td>\n",
       "      <td>87.671233</td>\n",
       "      <td>86.643836</td>\n",
       "      <td>86.301370</td>\n",
       "      <td>86.301370</td>\n",
       "      <td>85.910653</td>\n",
       "      <td>85.567010</td>\n",
       "    </tr>\n",
       "    <tr>\n",
       "      <th>11</th>\n",
       "      <td>87.972509</td>\n",
       "      <td>87.671233</td>\n",
       "      <td>87.671233</td>\n",
       "      <td>86.643836</td>\n",
       "      <td>86.301370</td>\n",
       "      <td>86.301370</td>\n",
       "      <td>85.910653</td>\n",
       "      <td>85.567010</td>\n",
       "    </tr>\n",
       "    <tr>\n",
       "      <th>16</th>\n",
       "      <td>87.285223</td>\n",
       "      <td>86.986301</td>\n",
       "      <td>86.986301</td>\n",
       "      <td>85.958904</td>\n",
       "      <td>85.616438</td>\n",
       "      <td>85.616438</td>\n",
       "      <td>85.223368</td>\n",
       "      <td>84.879725</td>\n",
       "    </tr>\n",
       "    <tr>\n",
       "      <th>21</th>\n",
       "      <td>86.941581</td>\n",
       "      <td>86.643836</td>\n",
       "      <td>86.643836</td>\n",
       "      <td>85.616438</td>\n",
       "      <td>85.273973</td>\n",
       "      <td>85.273973</td>\n",
       "      <td>84.879725</td>\n",
       "      <td>84.536082</td>\n",
       "    </tr>\n",
       "    <tr>\n",
       "      <th>26</th>\n",
       "      <td>86.941581</td>\n",
       "      <td>86.643836</td>\n",
       "      <td>86.643836</td>\n",
       "      <td>85.616438</td>\n",
       "      <td>85.273973</td>\n",
       "      <td>85.273973</td>\n",
       "      <td>84.879725</td>\n",
       "      <td>84.536082</td>\n",
       "    </tr>\n",
       "    <tr>\n",
       "      <th>31</th>\n",
       "      <td>86.254296</td>\n",
       "      <td>85.958904</td>\n",
       "      <td>85.958904</td>\n",
       "      <td>84.931507</td>\n",
       "      <td>84.589041</td>\n",
       "      <td>84.589041</td>\n",
       "      <td>84.192440</td>\n",
       "      <td>83.848797</td>\n",
       "    </tr>\n",
       "    <tr>\n",
       "      <th>36</th>\n",
       "      <td>85.910653</td>\n",
       "      <td>85.616438</td>\n",
       "      <td>85.616438</td>\n",
       "      <td>84.589041</td>\n",
       "      <td>84.246575</td>\n",
       "      <td>84.246575</td>\n",
       "      <td>83.848797</td>\n",
       "      <td>83.505155</td>\n",
       "    </tr>\n",
       "  </tbody>\n",
       "</table>\n",
       "</div>"
      ],
      "text/plain": [
       "tresh_add_ew         1          6          11         16         21  \\\n",
       "tresh_add_ns                                                          \n",
       "1             85.416667  85.121107  85.121107  84.083045  83.737024   \n",
       "6             87.972509  87.671233  87.671233  86.643836  86.301370   \n",
       "11            87.972509  87.671233  87.671233  86.643836  86.301370   \n",
       "16            87.285223  86.986301  86.986301  85.958904  85.616438   \n",
       "21            86.941581  86.643836  86.643836  85.616438  85.273973   \n",
       "26            86.941581  86.643836  86.643836  85.616438  85.273973   \n",
       "31            86.254296  85.958904  85.958904  84.931507  84.589041   \n",
       "36            85.910653  85.616438  85.616438  84.589041  84.246575   \n",
       "\n",
       "tresh_add_ew         26         31         36  \n",
       "tresh_add_ns                                   \n",
       "1             83.737024  83.333333  82.986111  \n",
       "6             86.301370  85.910653  85.567010  \n",
       "11            86.301370  85.910653  85.567010  \n",
       "16            85.616438  85.223368  84.879725  \n",
       "21            85.273973  84.879725  84.536082  \n",
       "26            85.273973  84.879725  84.536082  \n",
       "31            84.589041  84.192440  83.848797  \n",
       "36            84.246575  83.848797  83.505155  "
      ]
     },
     "execution_count": 97,
     "metadata": {},
     "output_type": "execute_result"
    }
   ],
   "source": [
    "a.pivot_table(index='tresh_add_ns',columns='tresh_add_ew',values=1)*100"
   ]
  },
  {
   "cell_type": "code",
   "execution_count": null,
   "metadata": {},
   "outputs": [],
   "source": [
    "res"
   ]
  },
  {
   "cell_type": "code",
   "execution_count": null,
   "metadata": {},
   "outputs": [],
   "source": [
    "pd.DataFrame(index=[i.split(' ')[0] for i in res.keys()],columns=[i.split(' ')[1] for i in res.keys()])"
   ]
  },
  {
   "cell_type": "code",
   "execution_count": 54,
   "metadata": {
    "tags": []
   },
   "outputs": [
    {
     "data": {
      "text/plain": [
       "['0.01',\n",
       " '0.06',\n",
       " '0.11',\n",
       " '0.16',\n",
       " '0.21',\n",
       " '0.26',\n",
       " '0.31',\n",
       " '0.36',\n",
       " '0.01',\n",
       " '0.06',\n",
       " '0.11',\n",
       " '0.16',\n",
       " '0.21',\n",
       " '0.26',\n",
       " '0.31',\n",
       " '0.36',\n",
       " '0.01',\n",
       " '0.06',\n",
       " '0.11',\n",
       " '0.16',\n",
       " '0.21',\n",
       " '0.26',\n",
       " '0.31',\n",
       " '0.36',\n",
       " '0.01',\n",
       " '0.06',\n",
       " '0.11',\n",
       " '0.16',\n",
       " '0.21',\n",
       " '0.26',\n",
       " '0.31',\n",
       " '0.36',\n",
       " '0.01',\n",
       " '0.06',\n",
       " '0.11',\n",
       " '0.16',\n",
       " '0.21',\n",
       " '0.26',\n",
       " '0.31',\n",
       " '0.36',\n",
       " '0.01',\n",
       " '0.06',\n",
       " '0.11',\n",
       " '0.16',\n",
       " '0.21',\n",
       " '0.26',\n",
       " '0.31',\n",
       " '0.36',\n",
       " '0.01',\n",
       " '0.06',\n",
       " '0.11',\n",
       " '0.16',\n",
       " '0.21',\n",
       " '0.26',\n",
       " '0.31',\n",
       " '0.36',\n",
       " '0.01',\n",
       " '0.06',\n",
       " '0.11',\n",
       " '0.16',\n",
       " '0.21',\n",
       " '0.26',\n",
       " '0.31',\n",
       " '0.36']"
      ]
     },
     "execution_count": 54,
     "metadata": {},
     "output_type": "execute_result"
    }
   ],
   "source": []
  },
  {
   "cell_type": "code",
   "execution_count": null,
   "metadata": {},
   "outputs": [],
   "source": [
    "Precision for the validation set: 0.96\n",
    "Recall for the validation set: 0.82\n",
    "F2 for the validation set: 0.84\n",
    "RMSE for the validation set: 0.00"
   ]
  },
  {
   "cell_type": "code",
   "execution_count": null,
   "metadata": {},
   "outputs": [],
   "source": [
    "Precision for the validation set: 0.91\n",
    "Recall for the validation set: 0.87\n",
    "F2 for the validation set: 0.88\n",
    "RMSE for the validation set: 0.14"
   ]
  },
  {
   "cell_type": "markdown",
   "metadata": {},
   "source": [
    "The `NodeDetectionEvaluator` class in the evaluation module allows not only to\n",
    "compute the general score for a given dataset, but get evaluations per object, and\n",
    "even plots that show how the predictions look like in a timeline"
   ]
  },
  {
   "cell_type": "code",
   "execution_count": null,
   "metadata": {
    "tags": []
   },
   "outputs": [],
   "source": [
    "# # Loop over the Object IDs in the training set and call the evaluation\n",
    "# # function for each object and aggregate the results\n",
    "# total_tp = 0\n",
    "# total_fp = 0\n",
    "# total_fn = 0\n",
    "# for oid in train_data['ObjectID'].unique():\n",
    "#     tp, fp, fn, gt_object, p_object = evaluator.evaluate(oid)\n",
    "#     total_tp += tp\n",
    "#     total_fp += fp\n",
    "#     total_fn += fn\n",
    "\n",
    "# print(f'Total true positives: {total_tp}')\n",
    "# print(f'Total false positives: {total_fp}')\n",
    "# print(f'Total false negatives: {total_fn}')"
   ]
  },
  {
   "cell_type": "code",
   "execution_count": null,
   "metadata": {
    "tags": []
   },
   "outputs": [],
   "source": [
    "# Plot the evaluation timeline for a random ObjectID from the training set\n",
    "evaluator.plot(13)"
   ]
  },
  {
   "cell_type": "code",
   "execution_count": null,
   "metadata": {
    "tags": []
   },
   "outputs": [],
   "source": [
    "# Save the trained random forest models (and label encoders) to disk\n",
    "# Create the folder trained_model if it doesn't exist\n",
    "Path('trained_model').mkdir(exist_ok=True)\n",
    "pickle.dump(model_EW, open('trained_model/model_EW_small.pkl', 'wb'))\n",
    "pickle.dump(model_NS, open('trained_model/model_NS_small.pkl', 'wb'))\n",
    "pickle.dump(le_EW, open('trained_model/le_EW_small.pkl', 'wb'))\n",
    "pickle.dump(le_NS, open('trained_model/le_NS_small.pkl', 'wb'))"
   ]
  },
  {
   "cell_type": "code",
   "execution_count": null,
   "metadata": {},
   "outputs": [],
   "source": []
  }
 ],
 "metadata": {
  "kernelspec": {
   "display_name": "Python 3 (ipykernel)",
   "language": "python",
   "name": "python3"
  },
  "language_info": {
   "codemirror_mode": {
    "name": "ipython",
    "version": 3
   },
   "file_extension": ".py",
   "mimetype": "text/x-python",
   "name": "python",
   "nbconvert_exporter": "python",
   "pygments_lexer": "ipython3",
   "version": "3.10.10"
  }
 },
 "nbformat": 4,
 "nbformat_minor": 4
}
