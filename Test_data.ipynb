{
 "cells": [
  {
   "cell_type": "code",
   "execution_count": 1,
   "id": "6f732c85-e1d4-4c50-8a1f-5628b759d149",
   "metadata": {},
   "outputs": [],
   "source": [
    "import pandas as pd\n",
    "\n",
    "data_baseline = pd.read_pickle('Data_With_Baseline.pkl')[['ObjectID','Timestamp','EW_baseline_heuristic','NS_baseline_heuristic']]\n"
   ]
  },
  {
   "cell_type": "code",
   "execution_count": 1,
   "id": "30c978ae-69d4-4cd1-91b5-b15919ec9e55",
   "metadata": {
    "tags": []
   },
   "outputs": [],
   "source": [
    "class MultiClassObjective(object):\n",
    "    def calc_ders_multi(self, approx, target, weight):\n",
    "        approx = np.array(approx) - max(approx)\n",
    "        exp_approx = np.exp(approx)\n",
    "        exp_sum = exp_approx.sum()\n",
    "        grad = []\n",
    "        hess = []\n",
    "        for j in range(len(approx)):\n",
    "            der1 = -exp_approx[j] / exp_sum\n",
    "            if j == target:\n",
    "                der1 += 1\n",
    "            hess_row = []\n",
    "            for j2 in range(len(approx)):\n",
    "                der2 = exp_approx[j] * exp_approx[j2] / (exp_sum**2)\n",
    "                if j2 == j:\n",
    "                    der2 -= exp_approx[j] / exp_sum\n",
    "                hess_row.append(der2 * weight)\n",
    "\n",
    "            grad.append(der1 * weight)\n",
    "            hess.append(hess_row)\n",
    "\n",
    "        return (grad, hess)\n"
   ]
  }
 ],
 "metadata": {
  "kernelspec": {
   "display_name": "comp_env",
   "language": "python",
   "name": "comp_env"
  },
  "language_info": {
   "codemirror_mode": {
    "name": "ipython",
    "version": 3
   },
   "file_extension": ".py",
   "mimetype": "text/x-python",
   "name": "python",
   "nbconvert_exporter": "python",
   "pygments_lexer": "ipython3",
   "version": "3.10.10"
  }
 },
 "nbformat": 4,
 "nbformat_minor": 5
}
