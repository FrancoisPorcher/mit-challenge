{
 "cells": [
  {
   "cell_type": "code",
   "execution_count": 19,
   "metadata": {},
   "outputs": [],
   "source": [
    "import pandas as pd\n",
    "error_csv_path = \"/Users/francoisporcher/Downloads/mit-challenge/francois/3_error_analysis/valid_results.csv\"\n",
    "label_csv_path = \"/Users/francoisporcher/Downloads/mit-challenge/data/1_dataset_raw/train_labels.csv\"\n",
    "\n",
    "df_error = pd.read_csv(error_csv_path, index_col = 0)\n",
    "df_label = pd.read_csv(label_csv_path, index_col = 0)"
   ]
  },
  {
   "cell_type": "code",
   "execution_count": 20,
   "metadata": {},
   "outputs": [
    {
     "data": {
      "text/plain": [
       "Direction\n",
       "EW    0.625\n",
       "NS    0.375\n",
       "Name: count, dtype: float64"
      ]
     },
     "execution_count": 20,
     "metadata": {},
     "output_type": "execute_result"
    }
   ],
   "source": [
    "df_error['Direction'].value_counts() / len(df_error)"
   ]
  },
  {
   "cell_type": "code",
   "execution_count": 27,
   "metadata": {},
   "outputs": [
    {
     "data": {
      "text/plain": [
       "Direction\n",
       "EW           0.558531\n",
       "NS           0.441469\n",
       "Name: count, dtype: float64"
      ]
     },
     "execution_count": 27,
     "metadata": {},
     "output_type": "execute_result"
    }
   ],
   "source": [
    "df_label[['Direction']].query(\"Direction != 'ES'\").value_counts() / len(df_label.query(\"Direction != 'ES'\"))"
   ]
  },
  {
   "cell_type": "code",
   "execution_count": 32,
   "metadata": {},
   "outputs": [
    {
     "data": {
      "text/plain": [
       "Node\n",
       "SS      0.415346\n",
       "IK      0.235873\n",
       "ID      0.198054\n",
       "AD      0.150727\n",
       "Name: count, dtype: float64"
      ]
     },
     "execution_count": 32,
     "metadata": {},
     "output_type": "execute_result"
    }
   ],
   "source": [
    "df_label[['Node']].query(\"Node != 'ES'\").value_counts() / len(df_label.query(\"Node != 'ES'\"))"
   ]
  },
  {
   "cell_type": "code",
   "execution_count": 33,
   "metadata": {},
   "outputs": [
    {
     "data": {
      "text/plain": [
       "Node\n",
       "SS    0.416667\n",
       "IK    0.225000\n",
       "ID    0.200000\n",
       "AD    0.158333\n",
       "Name: count, dtype: float64"
      ]
     },
     "execution_count": 33,
     "metadata": {},
     "output_type": "execute_result"
    }
   ],
   "source": [
    "df_error['Node'].value_counts() / len(df_error)"
   ]
  },
  {
   "cell_type": "code",
   "execution_count": 38,
   "metadata": {},
   "outputs": [
    {
     "data": {
      "text/plain": [
       "Type\n",
       "NK      0.579189\n",
       "CK      0.190185\n",
       "EK      0.164390\n",
       "HK      0.066237\n",
       "Name: count, dtype: float64"
      ]
     },
     "execution_count": 38,
     "metadata": {},
     "output_type": "execute_result"
    }
   ],
   "source": [
    "df_label[['Type']].query(\"Type != 'ES'\").value_counts() / len(df_label[['Type']].query(\"Type != 'ES'\"))"
   ]
  },
  {
   "cell_type": "code",
   "execution_count": 35,
   "metadata": {},
   "outputs": [
    {
     "data": {
      "text/plain": [
       "Type\n",
       "NK    0.695833\n",
       "CK    0.245833\n",
       "HK    0.050000\n",
       "EK    0.008333\n",
       "Name: count, dtype: float64"
      ]
     },
     "execution_count": 35,
     "metadata": {},
     "output_type": "execute_result"
    }
   ],
   "source": [
    "df_error['Type'].value_counts() / len(df_error)"
   ]
  },
  {
   "cell_type": "code",
   "execution_count": null,
   "metadata": {},
   "outputs": [],
   "source": []
  }
 ],
 "metadata": {
  "kernelspec": {
   "display_name": "devkit",
   "language": "python",
   "name": "python3"
  },
  "language_info": {
   "codemirror_mode": {
    "name": "ipython",
    "version": 3
   },
   "file_extension": ".py",
   "mimetype": "text/x-python",
   "name": "python",
   "nbconvert_exporter": "python",
   "pygments_lexer": "ipython3",
   "version": "3.8.18"
  }
 },
 "nbformat": 4,
 "nbformat_minor": 2
}
